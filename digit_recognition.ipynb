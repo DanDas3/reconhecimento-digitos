{
  "nbformat": 4,
  "nbformat_minor": 0,
  "metadata": {
    "colab": {
      "name": "digit-recognition.ipynb",
      "provenance": [],
      "include_colab_link": true
    },
    "kernelspec": {
      "name": "python3",
      "display_name": "Python 3"
    },
    "accelerator": "GPU"
  },
  "cells": [
    {
      "cell_type": "markdown",
      "metadata": {
        "id": "view-in-github",
        "colab_type": "text"
      },
      "source": [
        "<a href=\"https://colab.research.google.com/github/DanDas3/reconhecimento-digitos/blob/master/digit_recognition.ipynb\" target=\"_parent\"><img src=\"https://colab.research.google.com/assets/colab-badge.svg\" alt=\"Open In Colab\"/></a>"
      ]
    },
    {
      "cell_type": "code",
      "metadata": {
        "id": "JQLTRyjBBgQB",
        "colab_type": "code",
        "colab": {
          "base_uri": "https://localhost:8080/",
          "height": 81
        },
        "outputId": "eb7b62e5-b7a1-4f85-c2d4-87ddfad45506"
      },
      "source": [
        "#coding: utf-8\n",
        "import cv2 as cv\n",
        "import numpy as np\n",
        "import imutils\n",
        "import os\n",
        "import keras #Rede Neural\n",
        "from keras.layers import MaxPooling2D, Flatten, Dense, Dropout\n",
        "from matplotlib import pyplot as plt\n",
        "from getpass import getpass\n",
        "from os import listdir\n",
        "from os.path import isfile, join\n",
        "\n",
        "from keras.datasets import mnist\n",
        "from keras.models import Sequential, load_model\n",
        "from keras.layers.core import Dense, Dropout, Activation\n",
        "from keras.utils import np_utils\n",
        "\n",
        "from sklearn.datasets import fetch_openml\n",
        "from sklearn.neural_network import MLPClassifier"
      ],
      "execution_count": 1,
      "outputs": [
        {
          "output_type": "stream",
          "text": [
            "Using TensorFlow backend.\n"
          ],
          "name": "stderr"
        },
        {
          "output_type": "display_data",
          "data": {
            "text/html": [
              "<p style=\"color: red;\">\n",
              "The default version of TensorFlow in Colab will soon switch to TensorFlow 2.x.<br>\n",
              "We recommend you <a href=\"https://www.tensorflow.org/guide/migrate\" target=\"_blank\">upgrade</a> now \n",
              "or ensure your notebook will continue to use TensorFlow 1.x via the <code>%tensorflow_version 1.x</code> magic:\n",
              "<a href=\"https://colab.research.google.com/notebooks/tensorflow_version.ipynb\" target=\"_blank\">more info</a>.</p>\n"
            ],
            "text/plain": [
              "<IPython.core.display.HTML object>"
            ]
          },
          "metadata": {
            "tags": []
          }
        }
      ]
    },
    {
      "cell_type": "code",
      "metadata": {
        "id": "RoBIe9lDCCN4",
        "colab_type": "code",
        "colab": {}
      },
      "source": [
        "root = \"reconhecimento-digitos\"\n",
        "data_root = \"data\"\n",
        "out_path_root = \"output\"\n",
        "digits_trains = \"cvl-single-digits-train-validation/train\"\n",
        "digits_eval = \"cvl-single-digits-train-validation/valid\"\n",
        "digits_valid = \"cvl-single-digits-completeDatabase/cvl-single-digits/valid/\"\n",
        "string_trains = \"cvl-strings-train/train\"\n",
        "string_eval = \"cvl-strings-eval/cvl-strings-eval\""
      ],
      "execution_count": 0,
      "outputs": []
    },
    {
      "cell_type": "code",
      "metadata": {
        "id": "AOkJZGaiCJc8",
        "colab_type": "code",
        "colab": {}
      },
      "source": [
        "if os.path.exists(root) == False:\n",
        "  !git clone https://github.com/DanDas3/reconhecimento-digitos.git"
      ],
      "execution_count": 0,
      "outputs": []
    },
    {
      "cell_type": "code",
      "metadata": {
        "id": "epvhmoDUCVyf",
        "colab_type": "code",
        "colab": {}
      },
      "source": [
        "# Funções\n",
        "\n",
        "def converteBin(img):\n",
        "  max_value = 255\n",
        "  neighborhood_size=99\n",
        "  subtract_from_mean = 10\n",
        "  return cv.adaptiveThreshold(img, max_value, cv.ADAPTIVE_THRESH_GAUSSIAN_C, cv.THRESH_BINARY, neighborhood_size, subtract_from_mean)\n",
        "  #return cv.threshold(img, 200, 255, cv.THRESH_BINARY)\n",
        "\n",
        "def GaussianFilter(img):\n",
        "  return cv.GaussianBlur(img, (5, 5), 0)\n",
        "\n",
        "def morphologyFilter(img):\n",
        "  img = cv.threshold(img, 225, 255, cv.THRESH_BINARY_INV)[1]\n",
        "  img = cv.erode(img, cv.getStructuringElement(cv.MORPH_ELLIPSE, (3, 1)))\n",
        "  img = cv.dilate(img, cv.getStructuringElement(cv.MORPH_ELLIPSE, (1, 3)))\n",
        "  return img\n",
        "def ordenaContornos(cnts):\n",
        "  for i in range(len(cnts)):\n",
        "      for j in range(i+1,len(cnts)):\n",
        "          x_i = cv.boundingRect(cnts[i])[0]\n",
        "          x_j = cv.boundingRect(cnts[j])[0]\n",
        "\n",
        "          if(x_j < x_i):\n",
        "              aux = cnts[j]\n",
        "              cnts[j] = cnts[i]\n",
        "              cnts[i] = aux\n",
        "  return cnts  \n",
        "\n",
        "def extrairRecortes(img, cnts):\n",
        "  recorte = []\n",
        "  copy = img.copy()\n",
        "  for c in cnts:\n",
        "    # dados do contorno\n",
        "    (x, y, w, h) = cv.boundingRect(c)\n",
        "    if w >= 5 and h >= 17:\n",
        "      if (w >= 50):  # Divide a região em duas\n",
        "        copy = cv.rectangle(copy, (x, y), (x + (w // 2), y + h), (0, 255, 0), 2)\n",
        "        i = copy[y:y + h, x:x + (w // 2)]\n",
        "        i = cv.resize(i, (32, 32))      \n",
        "        recorte.append(i)\n",
        "\n",
        "        i = copy[y:y + h, x + ((w // 2) + 1):x + w]\n",
        "        copy = cv.rectangle(copy, (x, y), ((x + (w // 2) + 1) + (w // 2), y + h), (0, 255, 0), 2)\n",
        "        i = cv.resize(i, (32, 32))\n",
        "        # recorte.append(img[index_img][y:y + h, x + ((w // 2) + 1):x + w])\n",
        "        recorte.append(i)\n",
        "      else:\n",
        "        copy = cv.rectangle(copy, (x, y), (x + w, y + h), (0, 255, 0), 2)\n",
        "        i = copy[y:y + h, x:x + w]\n",
        "        i = cv.resize(i, (32, 32))\n",
        "        # recorte.append(img[index_img][y:y + h, x:x + w])\n",
        "        recorte.append(i)\n",
        "  return recorte, copy\n",
        "\n",
        "def encontraContornos(img):\n",
        "  cnts = cv.findContours(img.copy(), cv.RETR_EXTERNAL, cv.CHAIN_APPROX_SIMPLE)\n",
        "  cnts = imutils.grab_contours(cnts)\n",
        "  cnts = ordenaContornos(cnts)\n",
        "  return cnts\n",
        "\n",
        "def marcarSegmentos(img, positions):\n",
        "  for position in positions:\n",
        "    cv.rectangle(img, position[0],position[1],(0,0,0),thickness=2)\n",
        "  return img\n",
        "\n",
        "def carregaDigitTrain():\n",
        "  path = root + \"/\" + data_root + \"/\" + digits_trains + \"/\"\n",
        "  images = [f for f in listdir(path) if isfile(join(path, f))]\n",
        "  imgBin = 0\n",
        "  size_vector = 32*32\n",
        "  data = np.ndarray((len(images), 32, 32, 3))\n",
        "  data_vector = np.ndarray((len(images), size_vector))\n",
        "  tags = np.ndarray((len(images), 1))\n",
        "\n",
        "  for i in range(len(images)):\n",
        "    img = cv.imread(path + images[i])\n",
        "    img = cv.resize(img,(32,32))\n",
        "    imgBin = converteBin(cv.cvtColor(img, cv.COLOR_BGR2GRAY))\n",
        "    tags[i] = images[i][:1]\n",
        "    data[i] = img\n",
        "    data_vector[i] = imgBin.flatten()\n",
        "  return data, data_vector, tags\n",
        "\n",
        "def carregaDigitEval():\n",
        "  path = root + \"/\" + data_root + \"/\" + digits_eval + \"/\"\n",
        "  images = [f for f in listdir(path) if isfile(join(path, f))]\n",
        "  imgBin = 0\n",
        "  size_vector = 32*32\n",
        "  data = np.ndarray((len(images), 32, 32, 3))\n",
        "  data_vector = np.ndarray((len(images), size_vector))\n",
        "  tags = np.ndarray((len(images), 1))\n",
        "  for i in range(len(images)):\n",
        "    img = cv.imread(path + images[i])\n",
        "    img = cv.resize(img,(32,32))\n",
        "    imgBin = converteBin(cv.cvtColor(img, cv.COLOR_BGR2GRAY))\n",
        "    tags[i] = images[i][:1]\n",
        "    data[i] = img\n",
        "    data_vector[i] = imgBin.flatten()\n",
        "  return data, data_vector, tags\n",
        "\n",
        "def carregaDigitValid():\n",
        "  path = root + \"/\" + data_root + \"/\" + digits_valid + \"/\"\n",
        "  images = [f for f in listdir(path) if isfile(join(path, f))]\n",
        "  imgBin = 0\n",
        "  size_vector = 32*32\n",
        "  data = np.ndarray((len(images), 32, 32, 3))\n",
        "  data_vector = np.ndarray((len(images), size_vector))\n",
        "  tags = np.ndarray((len(images), 1))\n",
        "  for i in range(len(images)):\n",
        "    img = cv.imread(path + images[i])\n",
        "    img = cv.resize(img,(32,32))\n",
        "    imgBin = converteBin(cv.cvtColor(img, cv.COLOR_BGR2GRAY))\n",
        "    tags[i] = images[i][:1]\n",
        "    data[i] = img\n",
        "    data_vector[i] = imgBin.flatten()\n",
        "  return data, data_vector, tags\n",
        "\n",
        "def carregaStringsValid():\n",
        "  path = root + \"/\" + data_root + \"/\" + string_eval + \"/\"\n",
        "  images = [f for f in listdir(path) if isfile(join(path, f))]\n",
        "  #data = np.ndarray((len(images), 365, 32, 3))\n",
        "  #tags = np.ndarray((len(images), 1))\n",
        "  data = []\n",
        "  digits = []\n",
        "  for i in range(len(images)):\n",
        "    img = cv.imread(path + images[i],0)\n",
        "    #img = cv.resize(img,(365,89))    \n",
        "    tag_num = images[i].split(\"-\",1)[0]\n",
        "    for j in range(len(tag_num)):\n",
        "      digits.append(tag_num[j])\n",
        "    data.append((img, digits))  \n",
        "    #tags[i] = int(tag_num)\n",
        "    #data[i] = img\n",
        "  \n",
        "  return data"
      ],
      "execution_count": 0,
      "outputs": []
    },
    {
      "cell_type": "code",
      "metadata": {
        "id": "vNqD7N-X82zx",
        "colab_type": "code",
        "colab": {
          "base_uri": "https://localhost:8080/",
          "height": 69
        },
        "outputId": "49c9d52e-6ec3-4339-d9d9-ded5abb31d8a"
      },
      "source": [
        "data_train, x_train, tag_train = carregaDigitTrain()\n",
        "\n",
        "data_eval, x_eval, tag_eval = carregaDigitEval()\n",
        "\n",
        "data_valid, x_valid, tag_valid = carregaDigitValid()\n",
        "\n",
        "print(type(tag_train))\n",
        "print(type(tag_train[0]))\n",
        "print(tag_train[0])\n",
        "\n",
        "string_digits=carregaStringsValid()"
      ],
      "execution_count": 6,
      "outputs": [
        {
          "output_type": "stream",
          "text": [
            "<class 'numpy.ndarray'>\n",
            "<class 'numpy.ndarray'>\n",
            "[5.]\n"
          ],
          "name": "stdout"
        }
      ]
    },
    {
      "cell_type": "code",
      "metadata": {
        "id": "B6yR19uvHvAd",
        "colab_type": "code",
        "colab": {}
      },
      "source": [
        "#Normaliza\n",
        "x_train /= 255\n",
        "x_eval /= 255\n",
        "x_valid /= 255"
      ],
      "execution_count": 0,
      "outputs": []
    },
    {
      "cell_type": "code",
      "metadata": {
        "id": "A27K2poIXdYo",
        "colab_type": "code",
        "colab": {
          "base_uri": "https://localhost:8080/",
          "height": 34
        },
        "outputId": "2434eb9a-87f0-4428-8bb5-d53808d1ceed"
      },
      "source": [
        "# Organiza a categoria\n",
        "num_classes = len(np.unique(tag_train))\n",
        "print(\"Número de classes:\", num_classes)\n",
        "\n",
        "tag_train = keras.utils.to_categorical(tag_train, num_classes)\n",
        "tag_valid = keras.utils.to_categorical(tag_valid, num_classes)\n",
        "tag_eval = keras.utils.to_categorical(tag_eval, num_classes)"
      ],
      "execution_count": 8,
      "outputs": [
        {
          "output_type": "stream",
          "text": [
            "Número de classes: 10\n"
          ],
          "name": "stdout"
        }
      ]
    },
    {
      "cell_type": "code",
      "metadata": {
        "id": "aI7Eg5sV92mJ",
        "colab_type": "code",
        "outputId": "d759bfad-9892-45f2-e3eb-1065993ac2c9",
        "colab": {
          "base_uri": "https://localhost:8080/",
          "height": 358
        }
      },
      "source": [
        "img = string_digits[0][0]\n",
        "\n",
        "blur = GaussianFilter(img)\n",
        "\n",
        "binImg = morphologyFilter(blur)\n",
        "\n",
        "cnts = encontraContornos(binImg)\n",
        "\n",
        "cnts = ordenaContornos(cnts)\n",
        "\n",
        "marcado, recortes = marcarSegmentos(img, cnts)\n",
        "\n",
        "#recortes = extrairRecortes(img, cnts)\n",
        "#print(len(recortes))\n",
        "\n",
        "fig,axes = plt.subplots(5, 1, figsize=(15, 5))\n",
        "ax = axes.ravel()\n",
        "\n",
        "ax[0].imshow(cv.cvtColor(img, cv.COLOR_GRAY2BGR))\n",
        "ax[0].set_title(\"Imagem Original\")\n",
        "ax[0].set_axis_off()\n",
        "\n",
        "ax[1].imshow(cv.cvtColor(blur, cv.COLOR_GRAY2BGR))\n",
        "ax[1].set_title(\"Filtro Gaussiano\")\n",
        "ax[1].set_axis_off()\n",
        "\n",
        "ax[2].imshow(binImg)\n",
        "ax[2].set_title(\"Imagem Binarizada\")\n",
        "ax[2].set_axis_off()\n",
        "\n",
        "ax[3].imshow(cv.cvtColor(marcado, cv.COLOR_BGR2RGB))\n",
        "ax[3].set_title(\"Segmentos Marcados\")\n",
        "ax[3].set_axis_off()\n",
        "\n",
        "#ax[4].imshow(cv.cvtColor(recortes[0], cv.COLOR_BGR2RGB))\n",
        "ax[4].set_title(\"Recorte\")\n",
        "ax[4].set_axis_off()"
      ],
      "execution_count": 0,
      "outputs": [
        {
          "output_type": "error",
          "ename": "SystemError",
          "evalue": "ignored",
          "traceback": [
            "\u001b[0;31m---------------------------------------------------------------------------\u001b[0m",
            "\u001b[0;31mSystemError\u001b[0m                               Traceback (most recent call last)",
            "\u001b[0;32m<ipython-input-55-16c0c532cef9>\u001b[0m in \u001b[0;36m<module>\u001b[0;34m()\u001b[0m\n\u001b[1;32m      9\u001b[0m \u001b[0mcnts\u001b[0m \u001b[0;34m=\u001b[0m \u001b[0mordenaContornos\u001b[0m\u001b[0;34m(\u001b[0m\u001b[0mcnts\u001b[0m\u001b[0;34m)\u001b[0m\u001b[0;34m\u001b[0m\u001b[0;34m\u001b[0m\u001b[0m\n\u001b[1;32m     10\u001b[0m \u001b[0;34m\u001b[0m\u001b[0m\n\u001b[0;32m---> 11\u001b[0;31m \u001b[0mmarcado\u001b[0m\u001b[0;34m,\u001b[0m \u001b[0mrecortes\u001b[0m \u001b[0;34m=\u001b[0m \u001b[0mmarcarSegmentos\u001b[0m\u001b[0;34m(\u001b[0m\u001b[0mimg\u001b[0m\u001b[0;34m,\u001b[0m \u001b[0mcnts\u001b[0m\u001b[0;34m)\u001b[0m\u001b[0;34m\u001b[0m\u001b[0;34m\u001b[0m\u001b[0m\n\u001b[0m\u001b[1;32m     12\u001b[0m \u001b[0;34m\u001b[0m\u001b[0m\n\u001b[1;32m     13\u001b[0m \u001b[0;31m#recortes = extrairRecortes(img, cnts)\u001b[0m\u001b[0;34m\u001b[0m\u001b[0;34m\u001b[0m\u001b[0;34m\u001b[0m\u001b[0m\n",
            "\u001b[0;32m<ipython-input-45-98f4147fc7a2>\u001b[0m in \u001b[0;36mmarcarSegmentos\u001b[0;34m(img, positions)\u001b[0m\n\u001b[1;32m     53\u001b[0m \u001b[0;32mdef\u001b[0m \u001b[0mmarcarSegmentos\u001b[0m\u001b[0;34m(\u001b[0m\u001b[0mimg\u001b[0m\u001b[0;34m,\u001b[0m \u001b[0mpositions\u001b[0m\u001b[0;34m)\u001b[0m\u001b[0;34m:\u001b[0m\u001b[0;34m\u001b[0m\u001b[0;34m\u001b[0m\u001b[0m\n\u001b[1;32m     54\u001b[0m   \u001b[0;32mfor\u001b[0m \u001b[0mposition\u001b[0m \u001b[0;32min\u001b[0m \u001b[0mpositions\u001b[0m\u001b[0;34m:\u001b[0m\u001b[0;34m\u001b[0m\u001b[0;34m\u001b[0m\u001b[0m\n\u001b[0;32m---> 55\u001b[0;31m     \u001b[0mcv\u001b[0m\u001b[0;34m.\u001b[0m\u001b[0mrectangle\u001b[0m\u001b[0;34m(\u001b[0m\u001b[0mimg\u001b[0m\u001b[0;34m,\u001b[0m \u001b[0mposition\u001b[0m\u001b[0;34m[\u001b[0m\u001b[0;36m0\u001b[0m\u001b[0;34m]\u001b[0m\u001b[0;34m,\u001b[0m\u001b[0mposition\u001b[0m\u001b[0;34m[\u001b[0m\u001b[0;36m1\u001b[0m\u001b[0;34m]\u001b[0m\u001b[0;34m,\u001b[0m\u001b[0;34m(\u001b[0m\u001b[0;36m0\u001b[0m\u001b[0;34m,\u001b[0m\u001b[0;36m0\u001b[0m\u001b[0;34m,\u001b[0m\u001b[0;36m0\u001b[0m\u001b[0;34m)\u001b[0m\u001b[0;34m,\u001b[0m\u001b[0mthickness\u001b[0m\u001b[0;34m=\u001b[0m\u001b[0;36m2\u001b[0m\u001b[0;34m)\u001b[0m\u001b[0;34m\u001b[0m\u001b[0;34m\u001b[0m\u001b[0m\n\u001b[0m\u001b[1;32m     56\u001b[0m   \u001b[0;32mreturn\u001b[0m \u001b[0mimg\u001b[0m\u001b[0;34m\u001b[0m\u001b[0;34m\u001b[0m\u001b[0m\n\u001b[1;32m     57\u001b[0m \u001b[0;34m\u001b[0m\u001b[0m\n",
            "\u001b[0;31mSystemError\u001b[0m: new style getargs format but argument is not a tuple"
          ]
        }
      ]
    },
    {
      "cell_type": "markdown",
      "metadata": {
        "id": "Xq8z6nFcSgCQ",
        "colab_type": "text"
      },
      "source": [
        "# Teste Rede Neural"
      ]
    },
    {
      "cell_type": "code",
      "metadata": {
        "id": "Y-M4x7nDGPjp",
        "colab_type": "code",
        "colab": {
          "base_uri": "https://localhost:8080/",
          "height": 680
        },
        "outputId": "ee097ebf-f663-4c9d-e230-83dffcda8999"
      },
      "source": [
        "# Modelagem da MLP\n",
        "mlp = Sequential()\n",
        "mlp.add(Dense(512, input_shape=(1024,))) # entrada com imagens 32x32 -> vetor de 1024 posições, primeira camada com 512 neurônios\n",
        "mlp.add(Activation(\"relu\"))\n",
        "mlp.add(Dropout(0.2))\n",
        "\n",
        "mlp.add(Dense(512))\n",
        "mlp.add(Activation(\"relu\"))\n",
        "mlp.add(Dropout(0.2))\n",
        "\n",
        "mlp.add(Dense(10)) # Saída com 10 posições referentes as classes\n",
        "mlp.add(Activation(\"softmax\"))\n",
        "mlp.add(Dropout(0.2))\n",
        "\n",
        "mlp.summary()"
      ],
      "execution_count": 9,
      "outputs": [
        {
          "output_type": "stream",
          "text": [
            "WARNING:tensorflow:From /usr/local/lib/python3.6/dist-packages/keras/backend/tensorflow_backend.py:66: The name tf.get_default_graph is deprecated. Please use tf.compat.v1.get_default_graph instead.\n",
            "\n",
            "WARNING:tensorflow:From /usr/local/lib/python3.6/dist-packages/keras/backend/tensorflow_backend.py:541: The name tf.placeholder is deprecated. Please use tf.compat.v1.placeholder instead.\n",
            "\n",
            "WARNING:tensorflow:From /usr/local/lib/python3.6/dist-packages/keras/backend/tensorflow_backend.py:4432: The name tf.random_uniform is deprecated. Please use tf.random.uniform instead.\n",
            "\n",
            "WARNING:tensorflow:From /usr/local/lib/python3.6/dist-packages/keras/backend/tensorflow_backend.py:148: The name tf.placeholder_with_default is deprecated. Please use tf.compat.v1.placeholder_with_default instead.\n",
            "\n",
            "WARNING:tensorflow:From /usr/local/lib/python3.6/dist-packages/keras/backend/tensorflow_backend.py:3733: calling dropout (from tensorflow.python.ops.nn_ops) with keep_prob is deprecated and will be removed in a future version.\n",
            "Instructions for updating:\n",
            "Please use `rate` instead of `keep_prob`. Rate should be set to `rate = 1 - keep_prob`.\n",
            "Model: \"sequential_1\"\n",
            "_________________________________________________________________\n",
            "Layer (type)                 Output Shape              Param #   \n",
            "=================================================================\n",
            "dense_1 (Dense)              (None, 512)               524800    \n",
            "_________________________________________________________________\n",
            "activation_1 (Activation)    (None, 512)               0         \n",
            "_________________________________________________________________\n",
            "dropout_1 (Dropout)          (None, 512)               0         \n",
            "_________________________________________________________________\n",
            "dense_2 (Dense)              (None, 512)               262656    \n",
            "_________________________________________________________________\n",
            "activation_2 (Activation)    (None, 512)               0         \n",
            "_________________________________________________________________\n",
            "dropout_2 (Dropout)          (None, 512)               0         \n",
            "_________________________________________________________________\n",
            "dense_3 (Dense)              (None, 10)                5130      \n",
            "_________________________________________________________________\n",
            "activation_3 (Activation)    (None, 10)                0         \n",
            "_________________________________________________________________\n",
            "dropout_3 (Dropout)          (None, 10)                0         \n",
            "=================================================================\n",
            "Total params: 792,586\n",
            "Trainable params: 792,586\n",
            "Non-trainable params: 0\n",
            "_________________________________________________________________\n"
          ],
          "name": "stdout"
        }
      ]
    },
    {
      "cell_type": "code",
      "metadata": {
        "id": "zpWS8VsjRTfd",
        "colab_type": "code",
        "colab": {
          "base_uri": "https://localhost:8080/",
          "height": 106
        },
        "outputId": "9a32a4dd-a976-489c-d3b4-e76b5129caff"
      },
      "source": [
        "# Compilando\n",
        "mlp.compile(loss='categorical_crossentropy', metrics=['accuracy'], optimizer='adam')"
      ],
      "execution_count": 10,
      "outputs": [
        {
          "output_type": "stream",
          "text": [
            "WARNING:tensorflow:From /usr/local/lib/python3.6/dist-packages/keras/optimizers.py:793: The name tf.train.Optimizer is deprecated. Please use tf.compat.v1.train.Optimizer instead.\n",
            "\n",
            "WARNING:tensorflow:From /usr/local/lib/python3.6/dist-packages/keras/backend/tensorflow_backend.py:3576: The name tf.log is deprecated. Please use tf.math.log instead.\n",
            "\n"
          ],
          "name": "stdout"
        }
      ]
    },
    {
      "cell_type": "code",
      "metadata": {
        "id": "BQHp6S2DSQPg",
        "colab_type": "code",
        "colab": {
          "base_uri": "https://localhost:8080/",
          "height": 1000
        },
        "outputId": "5c6e29d2-10c5-4263-c9eb-77d5e4f9dd5a"
      },
      "source": [
        "#Treinamento\n",
        "\n",
        "# Salva os melhores resultados\n",
        "from keras.callbacks import ModelCheckpoint   \n",
        "checkpointer = ModelCheckpoint(filepath='model.weights.best.hdf5', verbose=1, save_best_only=True)\n",
        "\n",
        "history = mlp.fit(x_train, tag_train, 128, epochs=10, validation_data=(x_valid, tag_valid), verbose=2, callbacks=[checkpointer])\n",
        "\n",
        "# plotting the metrics\n",
        "fig = plt.figure()\n",
        "plt.subplot(2,1,1)\n",
        "plt.plot(history.history['acc'])\n",
        "plt.plot(history.history['val_acc'])\n",
        "plt.title('model accuracy')\n",
        "plt.ylabel('accuracy')\n",
        "plt.xlabel('epoch')\n",
        "plt.legend(['train', 'test'], loc='lower right')\n",
        "\n",
        "plt.subplot(2,1,2)\n",
        "plt.plot(history.history['loss'])\n",
        "plt.plot(history.history['val_loss'])\n",
        "plt.title('model loss')\n",
        "plt.ylabel('loss')\n",
        "plt.xlabel('epoch')\n",
        "plt.legend(['train', 'test'], loc='upper right')\n",
        "\n",
        "plt.tight_layout()\n",
        "\n",
        "fig"
      ],
      "execution_count": 11,
      "outputs": [
        {
          "output_type": "stream",
          "text": [
            "WARNING:tensorflow:From /usr/local/lib/python3.6/dist-packages/tensorflow_core/python/ops/math_grad.py:1424: where (from tensorflow.python.ops.array_ops) is deprecated and will be removed in a future version.\n",
            "Instructions for updating:\n",
            "Use tf.where in 2.0, which has the same broadcast rule as np.where\n",
            "WARNING:tensorflow:From /usr/local/lib/python3.6/dist-packages/keras/backend/tensorflow_backend.py:1033: The name tf.assign_add is deprecated. Please use tf.compat.v1.assign_add instead.\n",
            "\n",
            "WARNING:tensorflow:From /usr/local/lib/python3.6/dist-packages/keras/backend/tensorflow_backend.py:1020: The name tf.assign is deprecated. Please use tf.compat.v1.assign instead.\n",
            "\n",
            "WARNING:tensorflow:From /usr/local/lib/python3.6/dist-packages/keras/backend/tensorflow_backend.py:3005: The name tf.Session is deprecated. Please use tf.compat.v1.Session instead.\n",
            "\n",
            "Train on 7000 samples, validate on 7000 samples\n",
            "Epoch 1/10\n",
            "WARNING:tensorflow:From /usr/local/lib/python3.6/dist-packages/keras/backend/tensorflow_backend.py:190: The name tf.get_default_session is deprecated. Please use tf.compat.v1.get_default_session instead.\n",
            "\n",
            "WARNING:tensorflow:From /usr/local/lib/python3.6/dist-packages/keras/backend/tensorflow_backend.py:197: The name tf.ConfigProto is deprecated. Please use tf.compat.v1.ConfigProto instead.\n",
            "\n",
            "WARNING:tensorflow:From /usr/local/lib/python3.6/dist-packages/keras/backend/tensorflow_backend.py:207: The name tf.global_variables is deprecated. Please use tf.compat.v1.global_variables instead.\n",
            "\n",
            "WARNING:tensorflow:From /usr/local/lib/python3.6/dist-packages/keras/backend/tensorflow_backend.py:216: The name tf.is_variable_initialized is deprecated. Please use tf.compat.v1.is_variable_initialized instead.\n",
            "\n",
            "WARNING:tensorflow:From /usr/local/lib/python3.6/dist-packages/keras/backend/tensorflow_backend.py:223: The name tf.variables_initializer is deprecated. Please use tf.compat.v1.variables_initializer instead.\n",
            "\n",
            " - 2s - loss: 3.7227 - acc: 0.6217 - val_loss: 0.5435 - val_acc: 0.8250\n",
            "\n",
            "Epoch 00001: val_loss improved from inf to 0.54354, saving model to model.weights.best.hdf5\n",
            "Epoch 2/10\n",
            " - 0s - loss: 3.4890 - acc: 0.7099 - val_loss: 0.4033 - val_acc: 0.8787\n",
            "\n",
            "Epoch 00002: val_loss improved from 0.54354 to 0.40335, saving model to model.weights.best.hdf5\n",
            "Epoch 3/10\n",
            " - 0s - loss: 3.4779 - acc: 0.7276 - val_loss: 0.4311 - val_acc: 0.8674\n",
            "\n",
            "Epoch 00003: val_loss did not improve from 0.40335\n",
            "Epoch 4/10\n",
            " - 0s - loss: 3.3497 - acc: 0.7403 - val_loss: 0.3880 - val_acc: 0.8836\n",
            "\n",
            "Epoch 00004: val_loss improved from 0.40335 to 0.38805, saving model to model.weights.best.hdf5\n",
            "Epoch 5/10\n",
            " - 0s - loss: 3.2160 - acc: 0.7569 - val_loss: 0.3637 - val_acc: 0.8930\n",
            "\n",
            "Epoch 00005: val_loss improved from 0.38805 to 0.36375, saving model to model.weights.best.hdf5\n",
            "Epoch 6/10\n",
            " - 0s - loss: 3.3691 - acc: 0.7517 - val_loss: 0.3824 - val_acc: 0.8867\n",
            "\n",
            "Epoch 00006: val_loss did not improve from 0.36375\n",
            "Epoch 7/10\n",
            " - 0s - loss: 3.3800 - acc: 0.7573 - val_loss: 0.3285 - val_acc: 0.9021\n",
            "\n",
            "Epoch 00007: val_loss improved from 0.36375 to 0.32849, saving model to model.weights.best.hdf5\n",
            "Epoch 8/10\n",
            " - 0s - loss: 3.2289 - acc: 0.7716 - val_loss: 0.3378 - val_acc: 0.8987\n",
            "\n",
            "Epoch 00008: val_loss did not improve from 0.32849\n",
            "Epoch 9/10\n",
            " - 0s - loss: 3.2465 - acc: 0.7740 - val_loss: 0.3242 - val_acc: 0.9029\n",
            "\n",
            "Epoch 00009: val_loss improved from 0.32849 to 0.32418, saving model to model.weights.best.hdf5\n",
            "Epoch 10/10\n",
            " - 0s - loss: 3.3382 - acc: 0.7704 - val_loss: 0.3593 - val_acc: 0.9023\n",
            "\n",
            "Epoch 00010: val_loss did not improve from 0.32418\n"
          ],
          "name": "stdout"
        },
        {
          "output_type": "execute_result",
          "data": {
            "image/png": "[encoded data removed]",
            "text/plain": [
              "<Figure size 432x288 with 2 Axes>"
            ]
          },
          "metadata": {
            "tags": []
          },
          "execution_count": 11
        },
        {
          "output_type": "display_data",
          "data": {
            "image/png": "[encoded data removed]",
            "text/plain": [
              "<Figure size 432x288 with 2 Axes>"
            ]
          },
          "metadata": {
            "tags": []
          }
        }
      ]
    },
    {
      "cell_type": "code",
      "metadata": {
        "id": "OcZoj3MHbpiD",
        "colab_type": "code",
        "colab": {}
      },
      "source": [
        "# Carrega o modelo com os melhores valores\n",
        "mlp.load_weights('model.weights.best.hdf5')"
      ],
      "execution_count": 0,
      "outputs": []
    },
    {
      "cell_type": "code",
      "metadata": {
        "id": "0pkNR8_KemTr",
        "colab_type": "code",
        "colab": {
          "base_uri": "https://localhost:8080/",
          "height": 69
        },
        "outputId": "19243897-7fd5-4327-e4ab-b97a007082b6"
      },
      "source": [
        "# Avalia os resultados\n",
        "# evaluate and print test accuracy\n",
        "score = mlp.evaluate(x_eval, tag_eval, verbose=2)\n",
        "\n",
        "print('\\n', 'Test accuracy:', score[1])\n",
        "print(\"Test loss\", score[0])"
      ],
      "execution_count": 13,
      "outputs": [
        {
          "output_type": "stream",
          "text": [
            "\n",
            " Test accuracy: 0.9028571427890233\n",
            "Test loss 0.3241783157331603\n"
          ],
          "name": "stdout"
        }
      ]
    },
    {
      "cell_type": "code",
      "metadata": {
        "id": "ZvNBRlM8fsv9",
        "colab_type": "code",
        "colab": {
          "base_uri": "https://localhost:8080/",
          "height": 34
        },
        "outputId": "2a3e3a8b-c313-4f6b-ab74-47994c5e5321"
      },
      "source": [
        "# Predições\n",
        "\n",
        "predict = mlp.predict(x_eval)\n",
        "\n",
        "labels = [str(i) for i in range(10)]\n",
        "\n",
        "print(labels)"
      ],
      "execution_count": 14,
      "outputs": [
        {
          "output_type": "stream",
          "text": [
            "['0', '1', '2', '3', '4', '5', '6', '7', '8', '9']\n"
          ],
          "name": "stdout"
        }
      ]
    },
    {
      "cell_type": "code",
      "metadata": {
        "id": "peF1Kw34grV1",
        "colab_type": "code",
        "colab": {
          "base_uri": "https://localhost:8080/",
          "height": 485
        },
        "outputId": "cd8e6e3f-d94d-421c-d455-677018932774"
      },
      "source": [
        "# plot a random sample of test images, their predicted labels, and ground truth\n",
        "fig = plt.figure(figsize=(20, 8))\n",
        "for i, idx in enumerate(np.random.choice(x_eval.shape[0], size=32, replace=False)):\n",
        "    ax = fig.add_subplot(4, 8, i + 1, xticks=[], yticks=[])\n",
        "    ax.imshow(np.squeeze(x_eval[idx].reshape(32,32)))\n",
        "    pred_idx = np.argmax(predict[idx])\n",
        "    true_idx = np.argmax(tag_eval[idx])\n",
        "    ax.set_title(\"{} ({})\".format(labels[pred_idx], labels[true_idx]),\n",
        "                 color=(\"green\" if pred_idx == true_idx else \"red\"))"
      ],
      "execution_count": 15,
      "outputs": [
        {
          "output_type": "display_data",
          "data": {
            "image/png": "[encoded data removed]",
            "text/plain": [
              "<Figure size 1440x576 with 32 Axes>"
            ]
          },
          "metadata": {
            "tags": []
          }
        }
      ]
    },
    {
      "cell_type": "code",
      "metadata": {
        "id": "XwwPSJ36rCr5",
        "colab_type": "code",
        "colab": {}
      },
      "source": [
        "# Salva dados do modelo no pc\n",
        "from google.colab import files\n",
        "\n",
        "files.download(\"model.weights.best.hdf5\")"
      ],
      "execution_count": 0,
      "outputs": []
    },
    {
      "cell_type": "code",
      "metadata": {
        "id": "Ujl7sSnfnIkO",
        "colab_type": "code",
        "colab": {
          "base_uri": "https://localhost:8080/",
          "height": 443
        },
        "outputId": "abe2ac91-5474-4b5d-e4ea-3586788a5efb"
      },
      "source": [
        "# see which we predicted correctly and which not\n",
        "predicted_classes = mlp.predict_classes(x_eval)\n",
        "\n",
        "correct_indices = np.nonzero(predicted_classes == tag_eval)[0]\n",
        "incorrect_indices = np.nonzero(predicted_classes != tag_eval)[0]\n",
        "print()\n",
        "print(len(correct_indices),\" classified correctly\")\n",
        "print(len(incorrect_indices),\" classified incorrectly\")\n",
        "\n",
        "# adapt figure size to accomodate 18 subplots\n",
        "plt.rcParams['figure.figsize'] = (7,14)\n",
        "\n",
        "figure_evaluation = plt.figure()\n",
        "\n",
        "# plot 9 correct predictions\n",
        "for i, correct in enumerate(correct_indices[:9]):\n",
        "    plt.subplot(6,3,i+1)\n",
        "    plt.imshow(x_eval[correct].reshape(32,32), cmap='gray', interpolation='none')\n",
        "    plt.title(\n",
        "      \"Predicted: {}, Truth: {}\".format(predicted_classes[correct],\n",
        "                                        tag_eval[correct]))\n",
        "    plt.xticks([])\n",
        "    plt.yticks([])\n",
        "\n",
        "# plot 9 incorrect predictions\n",
        "for i, incorrect in enumerate(incorrect_indices[:9]):\n",
        "    plt.subplot(6,3,i+10)\n",
        "    plt.imshow(x_eval[incorrect].reshape(32,32), cmap='gray', interpolation='none')\n",
        "    plt.title(\n",
        "      \"Predicted {}, Truth: {}\".format(predicted_classes[incorrect], \n",
        "                                       tag_eval[incorrect]))\n",
        "    plt.xticks([])\n",
        "    plt.yticks([])\n",
        "\n",
        "figure_evaluation"
      ],
      "execution_count": 21,
      "outputs": [
        {
          "output_type": "stream",
          "text": [
            "\n",
            "0  classified correctly\n",
            "1  classified incorrectly\n"
          ],
          "name": "stdout"
        },
        {
          "output_type": "stream",
          "text": [
            "/usr/local/lib/python3.6/dist-packages/ipykernel_launcher.py:3: DeprecationWarning: elementwise comparison failed; this will raise an error in the future.\n",
            "  This is separate from the ipykernel package so we can avoid doing imports until\n",
            "/usr/local/lib/python3.6/dist-packages/ipykernel_launcher.py:4: DeprecationWarning: elementwise comparison failed; this will raise an error in the future.\n",
            "  after removing the cwd from sys.path.\n"
          ],
          "name": "stderr"
        },
        {
          "output_type": "execute_result",
          "data": {
            "image/png": "[encoded data removed]",
            "text/plain": [
              "<Figure size 504x1008 with 1 Axes>"
            ]
          },
          "metadata": {
            "tags": []
          },
          "execution_count": 21
        },
        {
          "output_type": "display_data",
          "data": {
            "image/png": "[encoded data removed]",
            "text/plain": [
              "<Figure size 504x1008 with 1 Axes>"
            ]
          },
          "metadata": {
            "tags": []
          }
        }
      ]
    },
    {
      "cell_type": "code",
      "metadata": {
        "id": "SuhodTnHCqib",
        "colab_type": "code",
        "colab": {}
      },
      "source": [
        "#Rede Neural\n",
        "from keras.datasets import imdb\n",
        "from keras.preprocessing.text import Tokenizer\n",
        "from keras import models\n",
        "from keras import layers\n",
        "\n",
        "# Set random seed\n",
        "np.random.seed(0)\n",
        "\n",
        "# Set the number of features we want\n",
        "number_of_features = 1000\n",
        "\n",
        "# Load data and target vector from movie review data\n",
        "(data_train, target_train), (data_test, target_test) = imdb.load_data(\n",
        "num_words=number_of_features)"
      ],
      "execution_count": 0,
      "outputs": []
    },
    {
      "cell_type": "code",
      "metadata": {
        "id": "GP_o-HRMHBy2",
        "colab_type": "code",
        "colab": {}
      },
      "source": [
        "# Divide em treinamento, teste e validação\n",
        "(data_train, data_valid) = data_train[number_of_features//2:], data_train[:number_of_features//2]\n",
        "(target_train, target_valid) = target_train[number_of_features//2:], target_train[:number_of_features//2]\n",
        "# Convert movie review data to one-hot encoded feature matrix\n",
        "tokenizer = Tokenizer(num_words=number_of_features//2)\n",
        "features_train = tokenizer.sequences_to_matrix(data_train, mode=\"binary\")\n",
        "features_valid = tokenizer.sequences_to_matrix(data_valid, mode=\"binary\")\n",
        "\n",
        "data_test = data_test[:500]\n",
        "target_test = target_test[:500]\n",
        "tokenizer = Tokenizer(num_words=number_of_features//2)\n",
        "features_test = tokenizer.sequences_to_matrix(data_test, mode=\"binary\")"
      ],
      "execution_count": 0,
      "outputs": []
    },
    {
      "cell_type": "code",
      "metadata": {
        "id": "D5xT1tFdHJFd",
        "colab_type": "code",
        "colab": {}
      },
      "source": [
        "# Start neural network\n",
        "network = models.Sequential()\n",
        "\n",
        "# Add fully connected layer with a ReLU activation function\n",
        "network.add(layers.Dense(units=16, activation=\"relu\", input_shape=(number_of_features//2,)))\n",
        "\n",
        "# Add fully connected layer with a ReLU activation function\n",
        "network.add(layers.Dense(units=16, activation=\"relu\"))\n",
        "\n",
        "# Add fully connected layer with a sigmoid activation function\n",
        "network.add(layers.Dense(units=1, activation=\"sigmoid\"))"
      ],
      "execution_count": 0,
      "outputs": []
    },
    {
      "cell_type": "code",
      "metadata": {
        "id": "LwHBb9n3HR91",
        "colab_type": "code",
        "colab": {}
      },
      "source": [
        "# Compile neural network\n",
        "network.compile(loss=\"binary_crossentropy\", # Cross-entropy\n",
        "optimizer=\"rmsprop\", # Root Mean Square Propagation\n",
        "metrics=[\"accuracy\"]) # Accuracy performance metric"
      ],
      "execution_count": 0,
      "outputs": []
    },
    {
      "cell_type": "code",
      "metadata": {
        "id": "z2JY5blnHYpd",
        "colab_type": "code",
        "outputId": "9915f266-1406-42db-97e1-2e7b20602142",
        "colab": {
          "base_uri": "https://localhost:8080/",
          "height": 1000
        }
      },
      "source": [
        "# Train neural network\n",
        "\n",
        "from keras.callbacks import ModelCheckpoint   \n",
        "\n",
        "# Salva o melhor resultado\n",
        "checkpointer = ModelCheckpoint(filepath='model.weights.best.hdf5', verbose=1, save_best_only=True)\n",
        "\n",
        "history = network.fit(features_train, # Features\n",
        "target_train, # Target vector\n",
        "epochs=20, # Number of epochs\n",
        "verbose=2, # Print description after each epoch\n",
        "batch_size=10, # Number of observations per batch\n",
        "validation_data=(features_valid, target_valid), # Validation data\n",
        "callbacks=[checkpointer],\n",
        "shuffle=True)"
      ],
      "execution_count": 0,
      "outputs": [
        {
          "output_type": "stream",
          "text": [
            "Train on 24500 samples, validate on 500 samples\n",
            "Epoch 1/20\n",
            " - 7s - loss: 0.3699 - acc: 0.8433 - val_loss: 0.3579 - val_acc: 0.8420\n",
            "\n",
            "Epoch 00001: val_loss improved from inf to 0.35786, saving model to model.weights.best.hdf5\n",
            "Epoch 2/20\n",
            " - 7s - loss: 0.3627 - acc: 0.8460 - val_loss: 0.3538 - val_acc: 0.8320\n",
            "\n",
            "Epoch 00002: val_loss improved from 0.35786 to 0.35381, saving model to model.weights.best.hdf5\n",
            "Epoch 3/20\n",
            " - 8s - loss: 0.3547 - acc: 0.8524 - val_loss: 0.3785 - val_acc: 0.8400\n",
            "\n",
            "Epoch 00003: val_loss did not improve from 0.35381\n",
            "Epoch 4/20\n",
            " - 8s - loss: 0.3470 - acc: 0.8577 - val_loss: 0.3731 - val_acc: 0.8340\n",
            "\n",
            "Epoch 00004: val_loss did not improve from 0.35381\n",
            "Epoch 5/20\n",
            " - 8s - loss: 0.3397 - acc: 0.8637 - val_loss: 0.4094 - val_acc: 0.8420\n",
            "\n",
            "Epoch 00005: val_loss did not improve from 0.35381\n",
            "Epoch 6/20\n",
            " - 8s - loss: 0.3330 - acc: 0.8682 - val_loss: 0.3988 - val_acc: 0.8240\n",
            "\n",
            "Epoch 00006: val_loss did not improve from 0.35381\n",
            "Epoch 7/20\n",
            " - 7s - loss: 0.3242 - acc: 0.8719 - val_loss: 0.4243 - val_acc: 0.8340\n",
            "\n",
            "Epoch 00007: val_loss did not improve from 0.35381\n",
            "Epoch 8/20\n",
            " - 7s - loss: 0.3173 - acc: 0.8771 - val_loss: 0.4455 - val_acc: 0.8320\n",
            "\n",
            "Epoch 00008: val_loss did not improve from 0.35381\n",
            "Epoch 9/20\n",
            " - 7s - loss: 0.3115 - acc: 0.8808 - val_loss: 0.4528 - val_acc: 0.8360\n",
            "\n",
            "Epoch 00009: val_loss did not improve from 0.35381\n",
            "Epoch 10/20\n",
            " - 8s - loss: 0.3059 - acc: 0.8850 - val_loss: 0.4449 - val_acc: 0.8300\n",
            "\n",
            "Epoch 00010: val_loss did not improve from 0.35381\n",
            "Epoch 11/20\n",
            " - 7s - loss: 0.3032 - acc: 0.8856 - val_loss: 0.4327 - val_acc: 0.8360\n",
            "\n",
            "Epoch 00011: val_loss did not improve from 0.35381\n",
            "Epoch 12/20\n",
            " - 8s - loss: 0.2967 - acc: 0.8880 - val_loss: 0.4369 - val_acc: 0.8480\n",
            "\n",
            "Epoch 00012: val_loss did not improve from 0.35381\n",
            "Epoch 13/20\n",
            " - 8s - loss: 0.2943 - acc: 0.8911 - val_loss: 0.4213 - val_acc: 0.8440\n",
            "\n",
            "Epoch 00013: val_loss did not improve from 0.35381\n",
            "Epoch 14/20\n",
            " - 7s - loss: 0.2908 - acc: 0.8942 - val_loss: 0.4378 - val_acc: 0.8240\n",
            "\n",
            "Epoch 00014: val_loss did not improve from 0.35381\n",
            "Epoch 15/20\n",
            " - 7s - loss: 0.2862 - acc: 0.8945 - val_loss: 0.4419 - val_acc: 0.8280\n",
            "\n",
            "Epoch 00015: val_loss did not improve from 0.35381\n",
            "Epoch 16/20\n",
            " - 7s - loss: 0.2822 - acc: 0.8966 - val_loss: 0.4872 - val_acc: 0.8340\n",
            "\n",
            "Epoch 00016: val_loss did not improve from 0.35381\n",
            "Epoch 17/20\n",
            " - 8s - loss: 0.2766 - acc: 0.8995 - val_loss: 0.4703 - val_acc: 0.8320\n",
            "\n",
            "Epoch 00017: val_loss did not improve from 0.35381\n",
            "Epoch 18/20\n",
            " - 7s - loss: 0.2749 - acc: 0.9011 - val_loss: 0.4719 - val_acc: 0.8380\n",
            "\n",
            "Epoch 00018: val_loss did not improve from 0.35381\n",
            "Epoch 19/20\n",
            " - 8s - loss: 0.2686 - acc: 0.9040 - val_loss: 0.5700 - val_acc: 0.8280\n",
            "\n",
            "Epoch 00019: val_loss did not improve from 0.35381\n",
            "Epoch 20/20\n",
            " - 8s - loss: 0.2658 - acc: 0.9050 - val_loss: 0.5549 - val_acc: 0.8260\n",
            "\n",
            "Epoch 00020: val_loss did not improve from 0.35381\n"
          ],
          "name": "stdout"
        }
      ]
    },
    {
      "cell_type": "code",
      "metadata": {
        "id": "GBZYLctNMKxd",
        "colab_type": "code",
        "colab": {}
      },
      "source": [
        "# Carrega os pesos com melho precisão na validação\n",
        "network.load_weights('model.weights.best.hdf5')"
      ],
      "execution_count": 0,
      "outputs": []
    },
    {
      "cell_type": "code",
      "metadata": {
        "id": "RuOrb4bpOb2K",
        "colab_type": "code",
        "outputId": "5b237881-5980-4e60-a1a8-2dbe96addeb1",
        "colab": {
          "base_uri": "https://localhost:8080/",
          "height": 69
        }
      },
      "source": [
        "print(features_test.shape)\n",
        "print(features_test[0].shape)\n",
        "print(features_test[0:1].shape)"
      ],
      "execution_count": 0,
      "outputs": [
        {
          "output_type": "stream",
          "text": [
            "(500, 500)\n",
            "(500,)\n",
            "(1, 500)\n"
          ],
          "name": "stdout"
        }
      ]
    },
    {
      "cell_type": "code",
      "metadata": {
        "id": "N3y9hqnYM4OD",
        "colab_type": "code",
        "outputId": "ca0e19d6-074a-470d-c4e9-a1ab27e3e137",
        "colab": {
          "base_uri": "https://localhost:8080/",
          "height": 52
        }
      },
      "source": [
        "# Avaliaçãão do treinamento\n",
        "score = network.evaluate(features_test, target_test, verbose=0)\n",
        "print(\"\\n\",\"Resultado:\", score[1])"
      ],
      "execution_count": 0,
      "outputs": [
        {
          "output_type": "stream",
          "text": [
            "\n",
            " Resultado: 0.8400000009536743\n"
          ],
          "name": "stdout"
        }
      ]
    },
    {
      "cell_type": "code",
      "metadata": {
        "id": "QxClsW57S_Hd",
        "colab_type": "code",
        "colab": {}
      },
      "source": [
        "y_hat = network.predict(features_test)"
      ],
      "execution_count": 0,
      "outputs": []
    },
    {
      "cell_type": "code",
      "metadata": {
        "id": "JP-5a5EaTLIw",
        "colab_type": "code",
        "outputId": "27fcf2bf-25a8-4052-a9c6-ce2e83012118",
        "colab": {
          "base_uri": "https://localhost:8080/",
          "height": 625
        }
      },
      "source": [
        "print(type(data_test[0]))\n",
        "print(type(target_test[0]))\n",
        "print(target_test[2])\n",
        "for i, idx in enumerate(np.random.choice(features_test.shape[0], size=32, replace=False)):\n",
        "  pred_idx = np.argmax(y_hat[idx])\n",
        "  true_idx = np.argmax(data_test[idx])\n",
        "\n",
        "  print(data_test[true_idx] == data_test[pred_idx] )"
      ],
      "execution_count": 0,
      "outputs": [
        {
          "output_type": "stream",
          "text": [
            "<class 'list'>\n",
            "<class 'numpy.int64'>\n",
            "1\n",
            "False\n",
            "False\n",
            "False\n",
            "False\n",
            "False\n",
            "False\n",
            "False\n",
            "False\n",
            "False\n",
            "False\n",
            "False\n",
            "False\n",
            "False\n",
            "False\n",
            "False\n",
            "False\n",
            "False\n",
            "False\n",
            "False\n",
            "False\n",
            "False\n",
            "False\n",
            "False\n",
            "False\n",
            "False\n",
            "False\n",
            "False\n",
            "False\n",
            "False\n",
            "False\n",
            "False\n",
            "False\n"
          ],
          "name": "stdout"
        }
      ]
    },
    {
      "cell_type": "markdown",
      "metadata": {
        "id": "mX4bY7Gjyh2Q",
        "colab_type": "text"
      },
      "source": [
        "# MLP Classifier"
      ]
    },
    {
      "cell_type": "code",
      "metadata": {
        "id": "ktDJGDAa2jSV",
        "colab_type": "code",
        "colab": {}
      },
      "source": [
        "# Load data from https://www.openml.org/d/554\n",
        "X, y = fetch_openml('mnist_784', version=1, return_X_y=True)\n",
        "X = X / 255."
      ],
      "execution_count": 0,
      "outputs": []
    },
    {
      "cell_type": "code",
      "metadata": {
        "id": "I19W42HBypO_",
        "colab_type": "code",
        "colab": {
          "base_uri": "https://localhost:8080/",
          "height": 622
        },
        "outputId": "a882082b-785c-4f7a-80bf-cbd379931af4"
      },
      "source": [
        "#print(__doc__)\n",
        "\n",
        "# rescale the data, use the traditional train/test split\n",
        "#X_train, X_test = X[:60000], X[60000:]\n",
        "#y_train, y_test = y[:60000], y[60000:]\n",
        "\n",
        "X_train, X_test = x_train, x_eval\n",
        "y_train, y_test = tag_train, tag_eval\n",
        "\n",
        "\n",
        "print(\"X data:\",type(X_train), \"Y tag:\", type(X_test))\n",
        "print(X_train[0].shape)\n",
        "print(type(y_train[0]))\n",
        "print(y_train[0])\n",
        "# mlp = MLPClassifier(hidden_layer_sizes=(100, 100), max_iter=400, alpha=1e-4,\n",
        "#                     solver='sgd', verbose=10, tol=1e-4, random_state=1)\n",
        "mlp = MLPClassifier(hidden_layer_sizes=(50,), max_iter=10, alpha=1e-4,\n",
        "                    solver='sgd', verbose=10, tol=1e-4, random_state=1,\n",
        "                    learning_rate_init=.1)\n",
        "\n",
        "mlp.fit(X_train/255, y_train)\n",
        "print(\"Training set score: %f\" % mlp.score(X_train/255, y_train))\n",
        "print(\"Test set score: %f\" % mlp.score(X_test/255, y_test))\n",
        "\n",
        "fig, axes = plt.subplots(4, 4)\n",
        "# use global min / max to ensure all weights are shown on the same scale\n",
        "vmin, vmax = mlp.coefs_[0].min(), mlp.coefs_[0].max()\n",
        "for coef, ax in zip(mlp.coefs_[0].T, axes.ravel()):\n",
        "    ax.matshow(coef.reshape(32, 32), cmap=plt.cm.gray, vmin=.5 * vmin,\n",
        "               vmax=.5 * vmax)\n",
        "    ax.set_xticks(())\n",
        "    ax.set_yticks(())\n",
        "\n",
        "plt.show()"
      ],
      "execution_count": 38,
      "outputs": [
        {
          "output_type": "stream",
          "text": [
            "X data: <class 'numpy.ndarray'> Y tag: <class 'numpy.ndarray'>\n",
            "(1024,)\n",
            "<class 'numpy.ndarray'>\n",
            "[5.]\n",
            "Iteration 1, loss = 2.38463694\n"
          ],
          "name": "stdout"
        },
        {
          "output_type": "stream",
          "text": [
            "/usr/local/lib/python3.6/dist-packages/sklearn/neural_network/multilayer_perceptron.py:921: DataConversionWarning: A column-vector y was passed when a 1d array was expected. Please change the shape of y to (n_samples, ), for example using ravel().\n",
            "  y = column_or_1d(y, warn=True)\n"
          ],
          "name": "stderr"
        },
        {
          "output_type": "stream",
          "text": [
            "Iteration 2, loss = 1.83562964\n",
            "Iteration 3, loss = 1.59832445\n",
            "Iteration 4, loss = 1.53539775\n",
            "Iteration 5, loss = 1.60023901\n",
            "Iteration 6, loss = 1.41306593\n",
            "Iteration 7, loss = 1.48656981\n",
            "Iteration 8, loss = 1.43290314\n",
            "Iteration 9, loss = 1.69769646\n",
            "Iteration 10, loss = 1.96423213\n",
            "Training set score: 0.232286\n",
            "Test set score: 0.219857\n"
          ],
          "name": "stdout"
        },
        {
          "output_type": "stream",
          "text": [
            "/usr/local/lib/python3.6/dist-packages/sklearn/neural_network/multilayer_perceptron.py:566: ConvergenceWarning: Stochastic Optimizer: Maximum iterations (10) reached and the optimization hasn't converged yet.\n",
            "  % self.max_iter, ConvergenceWarning)\n"
          ],
          "name": "stderr"
        },
        {
          "output_type": "display_data",
          "data": {
            "image/png": "[encoded data removed]",
            "text/plain": [
              "<Figure size 432x288 with 16 Axes>"
            ]
          },
          "metadata": {
            "tags": []
          }
        }
      ]
    }
  ]
}