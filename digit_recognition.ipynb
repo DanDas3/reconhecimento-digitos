{
 "cells": [
  {
   "cell_type": "markdown",
   "metadata": {
    "colab_type": "text",
    "id": "view-in-github"
   },
   "source": [
    "<a href=\"https://colab.research.google.com/github/DanDas3/reconhecimento-digitos/blob/master/digit_recognition.ipynb\" target=\"_parent\"><img src=\"https://colab.research.google.com/assets/colab-badge.svg\" alt=\"Open In Colab\"/></a>"
   ]
  },
  {
   "cell_type": "code",
   "execution_count": 36,
   "metadata": {
    "colab": {
     "base_uri": "https://localhost:8080/",
     "height": 69
    },
    "colab_type": "code",
    "id": "lP3z6QjfnMzc",
    "outputId": "6bc01c61-2968-4a91-a8a6-982c9f80cc2c"
   },
   "outputs": [
    {
     "name": "stdout",
     "output_type": "stream",
     "text": [
      "Requirement already up-to-date: opencv-python in /home/danilo/.local/lib/python3.8/site-packages (4.6.0.66)\n",
      "Requirement already satisfied, skipping upgrade: numpy>=1.17.3; python_version >= \"3.8\" in /home/danilo/.local/lib/python3.8/site-packages (from opencv-python) (1.23.3)\n",
      "Requirement already up-to-date: numpy in /home/danilo/.local/lib/python3.8/site-packages (1.23.3)\n",
      "Requirement already up-to-date: imutils in /home/danilo/.local/lib/python3.8/site-packages (0.5.4)\n"
     ]
    }
   ],
   "source": [
    "!pip install --upgrade opencv-python\n",
    "!pip install --upgrade numpy\n",
    "!pip install --upgrade imutils"
   ]
  },
  {
   "cell_type": "code",
   "execution_count": 33,
   "metadata": {},
   "outputs": [
    {
     "name": "stderr",
     "output_type": "stream",
     "text": [
      "WARNING: pip is being invoked by an old script wrapper. This will fail in a future version of pip.\n",
      "Please see https://github.com/pypa/pip/issues/5599 for advice on fixing the underlying issue.\n",
      "To avoid this problem you can invoke Python with '-m pip' instead of running pip directly.\n"
     ]
    },
    {
     "name": "stdout",
     "output_type": "stream",
     "text": [
      "Processing /home/danilo/.cache/pip/wheels/59/1b/52/0dea905f8278d5514dc4d0be5e251967f8681670cadd3dca89/imutils-0.5.4-py3-none-any.whl\n",
      "Installing collected packages: imutils\n",
      "Successfully installed imutils-0.5.4\n"
     ]
    },
    {
     "data": {
      "text/plain": [
       "0"
      ]
     },
     "execution_count": 33,
     "metadata": {},
     "output_type": "execute_result"
    }
   ],
   "source": [
    "import pip  \n",
    "pip.main(['install', 'imutils']) "
   ]
  },
  {
   "cell_type": "code",
   "execution_count": 61,
   "metadata": {
    "colab": {},
    "colab_type": "code",
    "id": "JQLTRyjBBgQB"
   },
   "outputs": [
    {
     "ename": "ModuleNotFoundError",
     "evalue": "No module named 'tensorflow'",
     "output_type": "error",
     "traceback": [
      "\u001b[0;31m---------------------------------------------------------------------------\u001b[0m",
      "\u001b[0;31mModuleNotFoundError\u001b[0m                       Traceback (most recent call last)",
      "\u001b[0;32m<ipython-input-61-2605cfe810d5>\u001b[0m in \u001b[0;36m<module>\u001b[0;34m\u001b[0m\n\u001b[1;32m      4\u001b[0m \u001b[0;31m#import imutils\u001b[0m\u001b[0;34m\u001b[0m\u001b[0;34m\u001b[0m\u001b[0;34m\u001b[0m\u001b[0m\n\u001b[1;32m      5\u001b[0m \u001b[0;32mimport\u001b[0m \u001b[0mos\u001b[0m\u001b[0;34m\u001b[0m\u001b[0;34m\u001b[0m\u001b[0m\n\u001b[0;32m----> 6\u001b[0;31m \u001b[0;32mimport\u001b[0m \u001b[0mtensorflow\u001b[0m\u001b[0;34m\u001b[0m\u001b[0;34m\u001b[0m\u001b[0m\n\u001b[0m\u001b[1;32m      7\u001b[0m \u001b[0;32mfrom\u001b[0m \u001b[0mtensorflow\u001b[0m \u001b[0;32mimport\u001b[0m \u001b[0mkeras\u001b[0m \u001b[0;31m#Rede Neural\u001b[0m\u001b[0;34m\u001b[0m\u001b[0;34m\u001b[0m\u001b[0m\n\u001b[1;32m      8\u001b[0m \u001b[0;32mfrom\u001b[0m \u001b[0mkeras\u001b[0m\u001b[0;34m.\u001b[0m\u001b[0mmodels\u001b[0m \u001b[0;32mimport\u001b[0m \u001b[0mSequential\u001b[0m\u001b[0;34m,\u001b[0m \u001b[0mload_model\u001b[0m\u001b[0;34m\u001b[0m\u001b[0;34m\u001b[0m\u001b[0m\n",
      "\u001b[0;31mModuleNotFoundError\u001b[0m: No module named 'tensorflow'"
     ]
    }
   ],
   "source": [
    "#coding: utf-8\n",
    "import cv2 as cv\n",
    "import numpy as np\n",
    "#import imutils\n",
    "import os\n",
    "import tensorflow\n",
    "from tensorflow import keras #Rede Neural\n",
    "from keras.models import Sequential, load_model\n",
    "from keras.layers.core import Dense, Dropout, Activation\n",
    "from keras.utils import np_utils\n",
    "from matplotlib import pyplot as plt\n",
    "from getpass import getpass\n",
    "from os import listdir\n",
    "from os.path import isfile, join"
   ]
  },
  {
   "cell_type": "code",
   "execution_count": 43,
   "metadata": {
    "colab": {},
    "colab_type": "code",
    "id": "RoBIe9lDCCN4"
   },
   "outputs": [],
   "source": [
    "root = \"./\"\n",
    "data_root = \"data\"\n",
    "out_path_root = \"output\"\n",
    "digits_trains = \"cvl-single-digits-train-validation/train\"\n",
    "digits_eval = \"cvl-single-digits-train-validation/valid\"\n",
    "digits_valid = \"cvl-single-digits-completeDatabase/cvl-single-digits/valid/\"\n",
    "string_trains = \"cvl-strings-train/train\"\n",
    "string_eval = \"cvl-strings-eval/cvl-strings-eval\""
   ]
  },
  {
   "cell_type": "code",
   "execution_count": 0,
   "metadata": {
    "colab": {},
    "colab_type": "code",
    "id": "AOkJZGaiCJc8"
   },
   "outputs": [],
   "source": [
    "if os.path.exists(root) == False:\n",
    "  !git clone https://github.com/DanDas3/reconhecimento-digitos.git"
   ]
  },
  {
   "cell_type": "code",
   "execution_count": 47,
   "metadata": {
    "colab": {},
    "colab_type": "code",
    "id": "epvhmoDUCVyf"
   },
   "outputs": [],
   "source": [
    "# Funções\n",
    "\n",
    "def carregaImagem(image):\n",
    "    return cv.imread(image)\n",
    "\n",
    "def formataTag(tag):\n",
    "    num = tag.split(\"-\", 1)[0]\n",
    "    return [t for t in num]\n",
    "\n",
    "def filtroGaussiano(img):\n",
    "    return cv.GaussianBlur(img, (5, 5),0)\n",
    "\n",
    "def binarizacao(img):\n",
    "    max_value = 255\n",
    "    neighborhood_size=99\n",
    "    subtract_from_mean = 10\n",
    "    #return cv.adaptiveThreshold(cv.cvtColor(img, cv.COLOR_BGR2GRAY), max_value, cv.ADAPTIVE_THRESH_GAUSSIAN_C, cv.THRESH_BINARY_INV, neighborhood_size, subtract_from_mean)\n",
    "    return cv.threshold(img, 230, 255, cv.THRESH_BINARY_INV)[1]\n",
    "\n",
    "def filtroMorfologico(img):\n",
    "    return cv.erode(img, cv.getStructuringElement(cv.MORPH_ELLIPSE,(3,1)), iterations=1)\n",
    "\n",
    "def encontrarContornos(img):\n",
    "    cnts = cv.findContours(img, cv.RETR_EXTERNAL, cv.CHAIN_APPROX_SIMPLE)\n",
    "    #cnts = imutils.grab_contours(cnts)\n",
    "    return cnts\n",
    "\n",
    "def ordenarContornos(cnts):\n",
    "    for i in range(len(cnts)):\n",
    "        for j in range(i+1,len(cnts)):\n",
    "            x_i = cv.boundingRect(cnts[i])[0]\n",
    "            x_j = cv.boundingRect(cnts[j])[0]\n",
    "\n",
    "            if(x_j < x_i):\n",
    "                aux = cnts[j]\n",
    "                cnts[j] = cnts[i]\n",
    "                cnts[i] = aux\n",
    "    return cnts\n",
    "def extrairDadosContorno(cnts):\n",
    "    dados = []\n",
    "\n",
    "    for c in cnts:\n",
    "        x, y, w, h = cv.boundingRect(c)\n",
    "        dados.append((x,y,w,h))\n",
    "    return dados\n",
    "\n",
    "def trataContornos(dadosContorno):\n",
    "    dados_novo = []\n",
    "    for c in dadosContorno:\n",
    "        x = c[0]\n",
    "        y = c[1]\n",
    "        w = c[2] # width\n",
    "        h = c[3] # height\n",
    "        if w >= 5 and h >= 17:\n",
    "            if (w >= 53):  # Divide a região em duas\n",
    "                dados_novo.append((x, y, w//2, h))\n",
    "                dados_novo.append((x+w//2, y, w//2, h))\n",
    "            else:\n",
    "                dados_novo.append((x, y, w, h))\n",
    "    return dados_novo\n",
    "def marcarContorno(img, pos):\n",
    "    #recorte = []\n",
    "    final = img.copy()\n",
    "    for p in pos:\n",
    "        # dados do contorno\n",
    "        (x, y, w, h) = p\n",
    "        cv.rectangle(final, (x, y), (x + w, y + h), (0, 255, 0), 2)\n",
    "    return final\n",
    "\n",
    "def extrairDigitos(img, pos):\n",
    "    digitos = []\n",
    "    for p in pos:\n",
    "        # dados do contorno\n",
    "        (x, y, w, h) = p\n",
    "        i = img[y:y + h, x:x + w]\n",
    "        i = cv.resize(i, (32, 32))\n",
    "        digitos.append(i)\n",
    "        #cv.rectangle(final, (x, y), (x + w, y + h), (0, 255, 0), 2)\n",
    "    return digitos\n",
    "\n",
    "def carregaDigitTrain():\n",
    "  path = root + \"/\" + data_root + \"/\" + digits_trains + \"/\"\n",
    "  images = [f for f in listdir(path) if isfile(join(path, f))]\n",
    "  imgBin = 0\n",
    "  size_vector = 32*32\n",
    "  data = np.ndarray((len(images), 32, 32, 3))\n",
    "  data_vector = np.ndarray((len(images), size_vector))\n",
    "  tags = np.ndarray((len(images), 1))\n",
    "\n",
    "  for i in range(len(images)):\n",
    "    img = cv.imread(path + images[i])\n",
    "    img = cv.resize(img,(32,32))\n",
    "    imgBin = binarizacao(cv.cvtColor(img, cv.COLOR_BGR2GRAY))\n",
    "    tags[i] = images[i][:1]\n",
    "    data[i] = img\n",
    "    data_vector[i] = imgBin.flatten()\n",
    "  return data, data_vector, tags\n",
    "\n",
    "def carregaDigitEval():\n",
    "  path = root + \"/\" + data_root + \"/\" + digits_eval + \"/\"\n",
    "  images = [f for f in listdir(path) if isfile(join(path, f))]\n",
    "  imgBin = 0\n",
    "  size_vector = 32*32\n",
    "  data = np.ndarray((len(images), 32, 32, 3))\n",
    "  data_vector = np.ndarray((len(images), size_vector))\n",
    "  tags = np.ndarray((len(images), 1))\n",
    "  for i in range(len(images)):\n",
    "    img = cv.imread(path + images[i])\n",
    "    img = cv.resize(img,(32,32))\n",
    "    imgBin = binarizacao(cv.cvtColor(img, cv.COLOR_BGR2GRAY))\n",
    "    tags[i] = images[i][:1]\n",
    "    data[i] = img\n",
    "    data_vector[i] = imgBin.flatten()\n",
    "  return data, data_vector, tags\n",
    "\n",
    "def carregaDigitValid():\n",
    "  path = root + \"/\" + data_root + \"/\" + digits_valid + \"/\"\n",
    "  images = [f for f in listdir(path) if isfile(join(path, f))]\n",
    "  imgBin = 0\n",
    "  size_vector = 32*32\n",
    "  data = np.ndarray((len(images), 32, 32, 3))\n",
    "  data_vector = np.ndarray((len(images), size_vector))\n",
    "  tags = np.ndarray((len(images), 1))\n",
    "  for i in range(len(images)):\n",
    "    img = cv.imread(path + images[i])\n",
    "    img = cv.resize(img,(32,32))\n",
    "    imgBin = binarizacao(cv.cvtColor(img, cv.COLOR_BGR2GRAY))\n",
    "    tags[i] = images[i][:1]\n",
    "    data[i] = img\n",
    "    data_vector[i] = imgBin.flatten()\n",
    "  return data, data_vector, tags\n",
    "\n",
    "def carregaStringsValid():\n",
    "  path = root + \"/\" + data_root + \"/\" + string_eval + \"/\"\n",
    "  images = [f for f in listdir(path) if isfile(join(path, f))]\n",
    "  #data = np.ndarray((len(images), 365, 32, 3))\n",
    "  #tags = np.ndarray((len(images), 1))\n",
    "  data = []\n",
    "  digits = []\n",
    "  for i in range(len(images)):\n",
    "    img = cv.imread(path + images[i],0)\n",
    "    #img = cv.resize(img,(365,89))    \n",
    "    tag_num = images[i].split(\"-\",1)[0]\n",
    "    for j in range(len(tag_num)):\n",
    "      digits.append(tag_num[j])\n",
    "    data.append((img, digits))  \n",
    "    #tags[i] = int(tag_num)\n",
    "    #data[i] = img\n",
    "  \n",
    "  return data"
   ]
  },
  {
   "cell_type": "code",
   "execution_count": 62,
   "metadata": {
    "colab": {
     "base_uri": "https://localhost:8080/",
     "height": 69
    },
    "colab_type": "code",
    "id": "vNqD7N-X82zx",
    "outputId": "0ef5410c-8a84-4e63-e557-7729422772e6"
   },
   "outputs": [
    {
     "name": "stdout",
     "output_type": "stream",
     "text": [
      "<class 'numpy.ndarray'>\n",
      "<class 'numpy.ndarray'>\n",
      "[1.]\n",
      "(7000, 1)\n"
     ]
    }
   ],
   "source": [
    "data_train, x_train, tag_train = carregaDigitTrain()\n",
    "\n",
    "data_eval, x_eval, tag_eval = carregaDigitEval()\n",
    "\n",
    "data_valid, x_valid, tag_valid = carregaDigitValid()\n",
    "\n",
    "print(type(tag_train))\n",
    "print(type(tag_train[0]))\n",
    "print(tag_train[0])\n",
    "print(tag_train.shape)\n",
    "\n",
    "# string_digits=carregaStringsValid()"
   ]
  },
  {
   "cell_type": "code",
   "execution_count": 53,
   "metadata": {
    "colab": {},
    "colab_type": "code",
    "id": "B6yR19uvHvAd"
   },
   "outputs": [],
   "source": [
    "#Normaliza\n",
    "x_train /= 255\n",
    "x_eval /= 255\n",
    "x_valid /= 255"
   ]
  },
  {
   "cell_type": "code",
   "execution_count": 54,
   "metadata": {
    "colab": {
     "base_uri": "https://localhost:8080/",
     "height": 34
    },
    "colab_type": "code",
    "id": "A27K2poIXdYo",
    "outputId": "1183b2bb-a314-4a8f-e98f-bba21102d9e2"
   },
   "outputs": [
    {
     "name": "stdout",
     "output_type": "stream",
     "text": [
      "Número de classes: 10\n"
     ]
    }
   ],
   "source": [
    "# Organiza a categoria\n",
    "num_classes = len(np.unique(tag_train))\n",
    "print(\"Número de classes:\", num_classes)\n",
    "\n"
   ]
  },
  {
   "cell_type": "code",
   "execution_count": 67,
   "metadata": {},
   "outputs": [
    {
     "name": "stdout",
     "output_type": "stream",
     "text": [
      "[[1.]\n",
      " [5.]\n",
      " [6.]\n",
      " ...\n",
      " [4.]\n",
      " [0.]\n",
      " [3.]]\n",
      "(7000, 1)\n",
      "1.0\n"
     ]
    }
   ],
   "source": [
    "print(tag_train)\n",
    "print(tag_train.shape)\n",
    "print(tag_train[0][0])"
   ]
  },
  {
   "cell_type": "code",
   "execution_count": 68,
   "metadata": {},
   "outputs": [],
   "source": [
    "tag_train = keras.utils.to_categorical(tag_train, num_classes)\n",
    "tag_valid = keras.utils.to_categorical(tag_valid, num_classes)\n",
    "tag_eval = keras.utils.to_categorical(tag_eval, num_classes)"
   ]
  },
  {
   "cell_type": "code",
   "execution_count": 69,
   "metadata": {},
   "outputs": [
    {
     "name": "stdout",
     "output_type": "stream",
     "text": [
      "[[0. 1. 0. ... 0. 0. 0.]\n",
      " [0. 0. 0. ... 0. 0. 0.]\n",
      " [0. 0. 0. ... 0. 0. 0.]\n",
      " ...\n",
      " [0. 0. 0. ... 0. 0. 0.]\n",
      " [1. 0. 0. ... 0. 0. 0.]\n",
      " [0. 0. 0. ... 0. 0. 0.]]\n",
      "(7000, 10)\n",
      "0.0\n"
     ]
    }
   ],
   "source": [
    "print(tag_train)\n",
    "print(tag_train.shape)\n",
    "print(tag_train[0][0])"
   ]
  },
  {
   "cell_type": "code",
   "execution_count": 56,
   "metadata": {
    "colab": {},
    "colab_type": "code",
    "id": "JPBfUvl8mh2a"
   },
   "outputs": [
    {
     "ename": "NameError",
     "evalue": "name 'images' is not defined",
     "output_type": "error",
     "traceback": [
      "\u001b[0;31m---------------------------------------------------------------------------\u001b[0m",
      "\u001b[0;31mNameError\u001b[0m                                 Traceback (most recent call last)",
      "\u001b[0;32m<ipython-input-56-fc78f80d1034>\u001b[0m in \u001b[0;36m<module>\u001b[0;34m\u001b[0m\n\u001b[1;32m      1\u001b[0m \u001b[0;31m# carregando as imagens\u001b[0m\u001b[0;34m\u001b[0m\u001b[0;34m\u001b[0m\u001b[0;34m\u001b[0m\u001b[0m\n\u001b[1;32m      2\u001b[0m \u001b[0mdata\u001b[0m \u001b[0;34m=\u001b[0m \u001b[0;34m[\u001b[0m\u001b[0;34m]\u001b[0m\u001b[0;34m\u001b[0m\u001b[0;34m\u001b[0m\u001b[0m\n\u001b[0;32m----> 3\u001b[0;31m \u001b[0;32mfor\u001b[0m \u001b[0mimage\u001b[0m \u001b[0;32min\u001b[0m \u001b[0mimages\u001b[0m\u001b[0;34m:\u001b[0m\u001b[0;34m\u001b[0m\u001b[0;34m\u001b[0m\u001b[0m\n\u001b[0m\u001b[1;32m      4\u001b[0m     \u001b[0;31m#i = cv.imread(path + image, 0)\u001b[0m\u001b[0;34m\u001b[0m\u001b[0;34m\u001b[0m\u001b[0;34m\u001b[0m\u001b[0m\n\u001b[1;32m      5\u001b[0m     \u001b[0mimg\u001b[0m \u001b[0;34m=\u001b[0m \u001b[0mcarregaImagem\u001b[0m\u001b[0;34m(\u001b[0m\u001b[0mpath\u001b[0m \u001b[0;34m+\u001b[0m \u001b[0mimage\u001b[0m\u001b[0;34m)\u001b[0m\u001b[0;34m\u001b[0m\u001b[0;34m\u001b[0m\u001b[0m\n",
      "\u001b[0;31mNameError\u001b[0m: name 'images' is not defined"
     ]
    }
   ],
   "source": [
    "# carregando as imagens\n",
    "data = []\n",
    "for image in images:\n",
    "    #i = cv.imread(path + image, 0)\n",
    "    img = carregaImagem(path + image)\n",
    "    tag = formataTag(image)\n",
    "    blur = filtroGaussiano(img)\n",
    "    binImg = binarizacao(blur)\n",
    "    binImg = filtroMorfologico(binImg)\n",
    "    cnts = encontrarContornos(binImg)\n",
    "    cnts = ordenarContornos(cnts)\n",
    "    pos = extrairDadosContorno(cnts)\n",
    "    pos = trataContornos(pos)\n",
    "    marcado = marcarContorno(img.copy(), pos)\n",
    "    digitos = extrairDigitos(img, pos)\n",
    "    data.append((img, blur, binImg, cnts, pos, marcado, digitos, tag))"
   ]
  },
  {
   "cell_type": "code",
   "execution_count": 57,
   "metadata": {
    "colab": {
     "base_uri": "https://localhost:8080/",
     "height": 336
    },
    "colab_type": "code",
    "id": "aI7Eg5sV92mJ",
    "outputId": "c943ca44-e6da-4aac-db69-c2beaddd7020"
   },
   "outputs": [
    {
     "ename": "IndexError",
     "evalue": "list index out of range",
     "output_type": "error",
     "traceback": [
      "\u001b[0;31m---------------------------------------------------------------------------\u001b[0m",
      "\u001b[0;31mIndexError\u001b[0m                                Traceback (most recent call last)",
      "\u001b[0;32m<ipython-input-57-b7972ad5cc95>\u001b[0m in \u001b[0;36m<module>\u001b[0;34m\u001b[0m\n\u001b[0;32m----> 1\u001b[0;31m \u001b[0;34m(\u001b[0m\u001b[0mimg\u001b[0m\u001b[0;34m,\u001b[0m \u001b[0mblur\u001b[0m\u001b[0;34m,\u001b[0m \u001b[0mbinImg\u001b[0m\u001b[0;34m,\u001b[0m \u001b[0mcnts\u001b[0m\u001b[0;34m,\u001b[0m \u001b[0mpos\u001b[0m\u001b[0;34m,\u001b[0m \u001b[0mmarcado\u001b[0m\u001b[0;34m,\u001b[0m \u001b[0mdigitos\u001b[0m\u001b[0;34m,\u001b[0m \u001b[0mtag\u001b[0m\u001b[0;34m)\u001b[0m \u001b[0;34m=\u001b[0m \u001b[0mdata\u001b[0m\u001b[0;34m[\u001b[0m\u001b[0;36m24\u001b[0m\u001b[0;34m]\u001b[0m\u001b[0;34m\u001b[0m\u001b[0;34m\u001b[0m\u001b[0m\n\u001b[0m\u001b[1;32m      2\u001b[0m \u001b[0;34m\u001b[0m\u001b[0m\n\u001b[1;32m      3\u001b[0m \u001b[0mfig\u001b[0m\u001b[0;34m,\u001b[0m\u001b[0maxes\u001b[0m \u001b[0;34m=\u001b[0m \u001b[0mplt\u001b[0m\u001b[0;34m.\u001b[0m\u001b[0msubplots\u001b[0m\u001b[0;34m(\u001b[0m\u001b[0;36m5\u001b[0m\u001b[0;34m,\u001b[0m \u001b[0;36m1\u001b[0m\u001b[0;34m,\u001b[0m \u001b[0mfigsize\u001b[0m\u001b[0;34m=\u001b[0m\u001b[0;34m(\u001b[0m\u001b[0;36m15\u001b[0m\u001b[0;34m,\u001b[0m \u001b[0;36m5\u001b[0m\u001b[0;34m)\u001b[0m\u001b[0;34m)\u001b[0m\u001b[0;34m\u001b[0m\u001b[0;34m\u001b[0m\u001b[0m\n\u001b[1;32m      4\u001b[0m \u001b[0max\u001b[0m \u001b[0;34m=\u001b[0m \u001b[0maxes\u001b[0m\u001b[0;34m.\u001b[0m\u001b[0mravel\u001b[0m\u001b[0;34m(\u001b[0m\u001b[0;34m)\u001b[0m\u001b[0;34m\u001b[0m\u001b[0;34m\u001b[0m\u001b[0m\n\u001b[1;32m      5\u001b[0m \u001b[0;34m\u001b[0m\u001b[0m\n",
      "\u001b[0;31mIndexError\u001b[0m: list index out of range"
     ]
    }
   ],
   "source": [
    "(img, blur, binImg, cnts, pos, marcado, digitos, tag) = data[24]\n",
    "\n",
    "fig,axes = plt.subplots(5, 1, figsize=(15, 5))\n",
    "ax = axes.ravel()\n",
    "\n",
    "ax[0].imshow(cv.cvtColor(img, cv.COLOR_GRAY2BGR))\n",
    "ax[0].set_title(\"Imagem Original\")\n",
    "ax[0].set_axis_off()\n",
    "\n",
    "ax[1].imshow(cv.cvtColor(blur, cv.COLOR_GRAY2BGR))\n",
    "ax[1].set_title(\"Filtro Gaussiano\")\n",
    "ax[1].set_axis_off()\n",
    "\n",
    "ax[2].imshow(cv.cvtColor(binImg, cv.COLOR_GRAY2RGB))\n",
    "ax[2].set_title(\"Imagem Binarizada\")\n",
    "ax[2].set_axis_off()\n",
    "\n",
    "ax[3].imshow(cv.cvtColor(marcado, cv.COLOR_BGR2RGB))\n",
    "ax[3].set_title(\"Segmentos Marcados\")\n",
    "ax[3].set_axis_off()\n",
    "\n",
    "ax[4].imshow(cv.cvtColor(digitos[0], cv.COLOR_BGR2RGB))\n",
    "ax[4].set_title(\"Recorte\")\n",
    "ax[4].set_axis_off()\n",
    "\n",
    "print(tag)"
   ]
  },
  {
   "cell_type": "markdown",
   "metadata": {
    "colab_type": "text",
    "id": "Xq8z6nFcSgCQ"
   },
   "source": [
    "# Criação e treinamento da MLP"
   ]
  },
  {
   "cell_type": "code",
   "execution_count": 58,
   "metadata": {
    "colab": {
     "base_uri": "https://localhost:8080/",
     "height": 469
    },
    "colab_type": "code",
    "id": "Y-M4x7nDGPjp",
    "outputId": "e64a7c5a-b685-47ef-8679-c8fade398e6b"
   },
   "outputs": [
    {
     "name": "stdout",
     "output_type": "stream",
     "text": [
      "_________________________________________________________________\n",
      "Layer (type)                 Output Shape              Param #   \n",
      "=================================================================\n",
      "dense_1 (Dense)              (None, 512)               524800    \n",
      "_________________________________________________________________\n",
      "activation_1 (Activation)    (None, 512)               0         \n",
      "_________________________________________________________________\n",
      "dropout_1 (Dropout)          (None, 512)               0         \n",
      "_________________________________________________________________\n",
      "dense_2 (Dense)              (None, 512)               262656    \n",
      "_________________________________________________________________\n",
      "activation_2 (Activation)    (None, 512)               0         \n",
      "_________________________________________________________________\n",
      "dropout_2 (Dropout)          (None, 512)               0         \n",
      "_________________________________________________________________\n",
      "dense_3 (Dense)              (None, 10)                5130      \n",
      "_________________________________________________________________\n",
      "activation_3 (Activation)    (None, 10)                0         \n",
      "_________________________________________________________________\n",
      "dropout_3 (Dropout)          (None, 10)                0         \n",
      "=================================================================\n",
      "Total params: 792,586\n",
      "Trainable params: 792,586\n",
      "Non-trainable params: 0\n",
      "_________________________________________________________________\n"
     ]
    }
   ],
   "source": [
    "# Modelagem da MLP\n",
    "mlp = Sequential()\n",
    "mlp.add(Dense(512, input_shape=(1024,))) # entrada com imagens 32x32 -> vetor de 1024 posições, primeira camada com 512 neurônios\n",
    "mlp.add(Activation(\"relu\"))\n",
    "mlp.add(Dropout(0.2))\n",
    "\n",
    "mlp.add(Dense(512))\n",
    "mlp.add(Activation(\"relu\"))\n",
    "mlp.add(Dropout(0.2))\n",
    "\n",
    "mlp.add(Dense(10)) # Saída com 10 posições referentes as classes\n",
    "mlp.add(Activation(\"softmax\"))\n",
    "mlp.add(Dropout(0.2))\n",
    "\n",
    "mlp.summary()"
   ]
  },
  {
   "cell_type": "code",
   "execution_count": 59,
   "metadata": {
    "colab": {},
    "colab_type": "code",
    "id": "zpWS8VsjRTfd"
   },
   "outputs": [],
   "source": [
    "# Compilando\n",
    "mlp.compile(loss='categorical_crossentropy', metrics=['accuracy'], optimizer='adam')"
   ]
  },
  {
   "cell_type": "code",
   "execution_count": 60,
   "metadata": {
    "colab": {
     "base_uri": "https://localhost:8080/",
     "height": 1000
    },
    "colab_type": "code",
    "id": "BQHp6S2DSQPg",
    "outputId": "f3088d48-e98a-430a-8605-6d8c1b858506"
   },
   "outputs": [
    {
     "name": "stdout",
     "output_type": "stream",
     "text": [
      "Train on 7000 samples, validate on 7000 samples\n",
      "Epoch 1/50\n",
      " - 12s - loss: 3.6263 - acc: 0.6501 - val_loss: 0.4234 - val_acc: 0.8714\n",
      "\n",
      "Epoch 00001: val_loss improved from inf to 0.42337, saving model to model.weights.best.hdf5\n",
      "Epoch 2/50\n",
      " - 12s - loss: 3.4873 - acc: 0.7320 - val_loss: 0.3911 - val_acc: 0.8807\n",
      "\n",
      "Epoch 00002: val_loss improved from 0.42337 to 0.39114, saving model to model.weights.best.hdf5\n",
      "Epoch 3/50\n",
      " - 12s - loss: 3.3081 - acc: 0.7543 - val_loss: 0.3204 - val_acc: 0.9083\n",
      "\n",
      "Epoch 00003: val_loss improved from 0.39114 to 0.32044, saving model to model.weights.best.hdf5\n",
      "Epoch 4/50\n",
      " - 12s - loss: 3.2108 - acc: 0.7689 - val_loss: 0.3261 - val_acc: 0.9094\n",
      "\n",
      "Epoch 00004: val_loss did not improve from 0.32044\n",
      "Epoch 5/50\n",
      " - 12s - loss: 3.3160 - acc: 0.7700 - val_loss: 0.3084 - val_acc: 0.9127\n",
      "\n",
      "Epoch 00005: val_loss improved from 0.32044 to 0.30842, saving model to model.weights.best.hdf5\n",
      "Epoch 6/50\n",
      " - 12s - loss: 3.1872 - acc: 0.7813 - val_loss: 0.3210 - val_acc: 0.9124\n",
      "\n",
      "Epoch 00006: val_loss did not improve from 0.30842\n",
      "Epoch 7/50\n",
      " - 12s - loss: 3.2490 - acc: 0.7854 - val_loss: 0.3187 - val_acc: 0.9156\n",
      "\n",
      "Epoch 00007: val_loss did not improve from 0.30842\n",
      "Epoch 8/50\n",
      " - 12s - loss: 3.1214 - acc: 0.7899 - val_loss: 0.3270 - val_acc: 0.9123\n",
      "\n",
      "Epoch 00008: val_loss did not improve from 0.30842\n",
      "Epoch 9/50\n",
      " - 12s - loss: 3.2052 - acc: 0.7866 - val_loss: 0.3045 - val_acc: 0.9180\n",
      "\n",
      "Epoch 00009: val_loss improved from 0.30842 to 0.30454, saving model to model.weights.best.hdf5\n",
      "Epoch 10/50\n",
      " - 12s - loss: 3.2864 - acc: 0.7837 - val_loss: 0.3005 - val_acc: 0.9237\n",
      "\n",
      "Epoch 00010: val_loss improved from 0.30454 to 0.30053, saving model to model.weights.best.hdf5\n",
      "Epoch 11/50\n",
      " - 12s - loss: 3.1423 - acc: 0.7941 - val_loss: 0.3010 - val_acc: 0.9240\n",
      "\n",
      "Epoch 00011: val_loss did not improve from 0.30053\n",
      "Epoch 12/50\n",
      " - 12s - loss: 3.2516 - acc: 0.7901 - val_loss: 0.3105 - val_acc: 0.9263\n",
      "\n",
      "Epoch 00012: val_loss did not improve from 0.30053\n",
      "Epoch 13/50\n",
      " - 12s - loss: 3.2815 - acc: 0.7871 - val_loss: 0.3374 - val_acc: 0.9193\n",
      "\n",
      "Epoch 00013: val_loss did not improve from 0.30053\n",
      "Epoch 14/50\n",
      " - 12s - loss: 3.2673 - acc: 0.7861 - val_loss: 0.3063 - val_acc: 0.9263\n",
      "\n",
      "Epoch 00014: val_loss did not improve from 0.30053\n",
      "Epoch 15/50\n",
      " - 12s - loss: 3.2360 - acc: 0.7930 - val_loss: 0.3683 - val_acc: 0.9140\n",
      "\n",
      "Epoch 00015: val_loss did not improve from 0.30053\n",
      "Epoch 16/50\n",
      " - 12s - loss: 3.2378 - acc: 0.7931 - val_loss: 0.3318 - val_acc: 0.9267\n",
      "\n",
      "Epoch 00016: val_loss did not improve from 0.30053\n",
      "Epoch 17/50\n",
      " - 12s - loss: 3.1017 - acc: 0.8023 - val_loss: 0.3707 - val_acc: 0.9194\n",
      "\n",
      "Epoch 00017: val_loss did not improve from 0.30053\n",
      "Epoch 18/50\n",
      " - 12s - loss: 3.3735 - acc: 0.7857 - val_loss: 0.3528 - val_acc: 0.9256\n",
      "\n",
      "Epoch 00018: val_loss did not improve from 0.30053\n",
      "Epoch 19/50\n",
      " - 12s - loss: 3.3421 - acc: 0.7854 - val_loss: 0.3936 - val_acc: 0.9197\n",
      "\n",
      "Epoch 00019: val_loss did not improve from 0.30053\n",
      "Epoch 20/50\n",
      " - 12s - loss: 3.2035 - acc: 0.7970 - val_loss: 0.3663 - val_acc: 0.9243\n",
      "\n",
      "Epoch 00020: val_loss did not improve from 0.30053\n",
      "Epoch 21/50\n",
      " - 12s - loss: 3.3094 - acc: 0.7896 - val_loss: 0.3419 - val_acc: 0.9304\n",
      "\n",
      "Epoch 00021: val_loss did not improve from 0.30053\n",
      "Epoch 22/50\n",
      " - 12s - loss: 3.1503 - acc: 0.7987 - val_loss: 0.3789 - val_acc: 0.9223\n",
      "\n",
      "Epoch 00022: val_loss did not improve from 0.30053\n",
      "Epoch 23/50\n",
      " - 12s - loss: 3.0902 - acc: 0.8033 - val_loss: 0.3533 - val_acc: 0.9240\n",
      "\n",
      "Epoch 00023: val_loss did not improve from 0.30053\n",
      "Epoch 24/50\n",
      " - 12s - loss: 3.0999 - acc: 0.8036 - val_loss: 0.3516 - val_acc: 0.9280\n",
      "\n",
      "Epoch 00024: val_loss did not improve from 0.30053\n",
      "Epoch 25/50\n",
      " - 12s - loss: 3.3300 - acc: 0.7861 - val_loss: 0.3823 - val_acc: 0.9243\n",
      "\n",
      "Epoch 00025: val_loss did not improve from 0.30053\n",
      "Epoch 26/50\n",
      " - 12s - loss: 3.2470 - acc: 0.7904 - val_loss: 0.3423 - val_acc: 0.9307\n",
      "\n",
      "Epoch 00026: val_loss did not improve from 0.30053\n",
      "Epoch 27/50\n",
      " - 12s - loss: 3.3069 - acc: 0.7899 - val_loss: 0.3559 - val_acc: 0.9269\n",
      "\n",
      "Epoch 00027: val_loss did not improve from 0.30053\n",
      "Epoch 28/50\n",
      " - 12s - loss: nan - acc: 0.5179 - val_loss: nan - val_acc: 0.1000\n",
      "\n",
      "Epoch 00028: val_loss did not improve from 0.30053\n",
      "Epoch 29/50\n",
      " - 12s - loss: nan - acc: 0.1000 - val_loss: nan - val_acc: 0.1000\n",
      "\n",
      "Epoch 00029: val_loss did not improve from 0.30053\n",
      "Epoch 30/50\n",
      " - 12s - loss: nan - acc: 0.1000 - val_loss: nan - val_acc: 0.1000\n",
      "\n",
      "Epoch 00030: val_loss did not improve from 0.30053\n",
      "Epoch 31/50\n",
      " - 12s - loss: nan - acc: 0.1000 - val_loss: nan - val_acc: 0.1000\n",
      "\n",
      "Epoch 00031: val_loss did not improve from 0.30053\n",
      "Epoch 32/50\n",
      " - 12s - loss: nan - acc: 0.1000 - val_loss: nan - val_acc: 0.1000\n",
      "\n",
      "Epoch 00032: val_loss did not improve from 0.30053\n",
      "Epoch 33/50\n",
      " - 12s - loss: nan - acc: 0.1000 - val_loss: nan - val_acc: 0.1000\n",
      "\n",
      "Epoch 00033: val_loss did not improve from 0.30053\n",
      "Epoch 34/50\n",
      " - 12s - loss: nan - acc: 0.1000 - val_loss: nan - val_acc: 0.1000\n",
      "\n",
      "Epoch 00034: val_loss did not improve from 0.30053\n",
      "Epoch 35/50\n",
      " - 12s - loss: nan - acc: 0.1000 - val_loss: nan - val_acc: 0.1000\n",
      "\n",
      "Epoch 00035: val_loss did not improve from 0.30053\n",
      "Epoch 36/50\n",
      " - 12s - loss: nan - acc: 0.1000 - val_loss: nan - val_acc: 0.1000\n",
      "\n",
      "Epoch 00036: val_loss did not improve from 0.30053\n",
      "Epoch 37/50\n",
      " - 12s - loss: nan - acc: 0.1000 - val_loss: nan - val_acc: 0.1000\n",
      "\n",
      "Epoch 00037: val_loss did not improve from 0.30053\n",
      "Epoch 38/50\n",
      " - 12s - loss: nan - acc: 0.1000 - val_loss: nan - val_acc: 0.1000\n",
      "\n",
      "Epoch 00038: val_loss did not improve from 0.30053\n",
      "Epoch 39/50\n",
      " - 12s - loss: nan - acc: 0.1000 - val_loss: nan - val_acc: 0.1000\n",
      "\n",
      "Epoch 00039: val_loss did not improve from 0.30053\n",
      "Epoch 40/50\n",
      " - 12s - loss: nan - acc: 0.1000 - val_loss: nan - val_acc: 0.1000\n",
      "\n",
      "Epoch 00040: val_loss did not improve from 0.30053\n",
      "Epoch 41/50\n",
      " - 12s - loss: nan - acc: 0.1000 - val_loss: nan - val_acc: 0.1000\n",
      "\n",
      "Epoch 00041: val_loss did not improve from 0.30053\n",
      "Epoch 42/50\n",
      " - 12s - loss: nan - acc: 0.1000 - val_loss: nan - val_acc: 0.1000\n",
      "\n",
      "Epoch 00042: val_loss did not improve from 0.30053\n",
      "Epoch 43/50\n",
      " - 12s - loss: nan - acc: 0.1000 - val_loss: nan - val_acc: 0.1000\n",
      "\n",
      "Epoch 00043: val_loss did not improve from 0.30053\n",
      "Epoch 44/50\n",
      " - 12s - loss: nan - acc: 0.1000 - val_loss: nan - val_acc: 0.1000\n",
      "\n",
      "Epoch 00044: val_loss did not improve from 0.30053\n",
      "Epoch 45/50\n",
      " - 12s - loss: nan - acc: 0.1000 - val_loss: nan - val_acc: 0.1000\n",
      "\n",
      "Epoch 00045: val_loss did not improve from 0.30053\n",
      "Epoch 46/50\n",
      " - 12s - loss: nan - acc: 0.1000 - val_loss: nan - val_acc: 0.1000\n",
      "\n",
      "Epoch 00046: val_loss did not improve from 0.30053\n",
      "Epoch 47/50\n",
      " - 12s - loss: nan - acc: 0.1000 - val_loss: nan - val_acc: 0.1000\n",
      "\n",
      "Epoch 00047: val_loss did not improve from 0.30053\n",
      "Epoch 48/50\n",
      " - 12s - loss: nan - acc: 0.1000 - val_loss: nan - val_acc: 0.1000\n",
      "\n",
      "Epoch 00048: val_loss did not improve from 0.30053\n",
      "Epoch 49/50\n",
      " - 12s - loss: nan - acc: 0.1000 - val_loss: nan - val_acc: 0.1000\n",
      "\n",
      "Epoch 00049: val_loss did not improve from 0.30053\n",
      "Epoch 50/50\n",
      " - 12s - loss: nan - acc: 0.1000 - val_loss: nan - val_acc: 0.1000\n",
      "\n",
      "Epoch 00050: val_loss did not improve from 0.30053\n"
     ]
    },
    {
     "data": {
      "image/png": "[encoded data removed]",
      "text/plain": [
       "<Figure size 432x288 with 2 Axes>"
      ]
     },
     "execution_count": 60,
     "metadata": {},
     "output_type": "execute_result"
    },
    {
     "data": {
      "image/png": "[encoded data removed]",
      "text/plain": [
       "<Figure size 432x288 with 2 Axes>"
      ]
     },
     "metadata": {
      "needs_background": "light"
     },
     "output_type": "display_data"
    }
   ],
   "source": [
    "#Treinamento\n",
    "\n",
    "# Salva os melhores resultados\n",
    "from keras.callbacks import ModelCheckpoint   \n",
    "checkpointer = ModelCheckpoint(filepath='model.weights.best.hdf5', verbose=1, save_best_only=True)\n",
    "\n",
    "history = mlp.fit(x_train, tag_train, 128, epochs=50, validation_data=(x_valid, tag_valid), verbose=2, callbacks=[checkpointer])\n",
    "\n",
    "# plotting the metrics\n",
    "fig = plt.figure()\n",
    "plt.subplot(2,1,1)\n",
    "plt.plot(history.history['acc'])\n",
    "plt.plot(history.history['val_acc'])\n",
    "plt.title('model accuracy')\n",
    "plt.ylabel('accuracy')\n",
    "plt.xlabel('epoch')\n",
    "plt.legend(['train', 'test'], loc='lower right')\n",
    "\n",
    "plt.subplot(2,1,2)\n",
    "plt.plot(history.history['loss'])\n",
    "plt.plot(history.history['val_loss'])\n",
    "plt.title('model loss')\n",
    "plt.ylabel('loss')\n",
    "plt.xlabel('epoch')\n",
    "plt.legend(['train', 'test'], loc='upper right')\n",
    "\n",
    "plt.tight_layout()\n",
    "\n",
    "fig"
   ]
  },
  {
   "cell_type": "code",
   "execution_count": 0,
   "metadata": {
    "colab": {},
    "colab_type": "code",
    "id": "OcZoj3MHbpiD"
   },
   "outputs": [],
   "source": [
    "# Carrega o modelo com os melhores valores\n",
    "mlp.load_weights('model.weights.best.hdf5')"
   ]
  },
  {
   "cell_type": "code",
   "execution_count": 182,
   "metadata": {
    "colab": {
     "base_uri": "https://localhost:8080/",
     "height": 69
    },
    "colab_type": "code",
    "id": "0pkNR8_KemTr",
    "outputId": "fc973c35-f771-4eaf-a1f2-c216a229c246"
   },
   "outputs": [
    {
     "name": "stdout",
     "output_type": "stream",
     "text": [
      "\n",
      " Test accuracy: 0.9222857142857143\n",
      "Test loss 0.2902929732033185\n"
     ]
    }
   ],
   "source": [
    "# Avalia os resultados\n",
    "# evaluate and print test accuracy\n",
    "score = mlp.evaluate(x_eval, tag_eval, verbose=2)\n",
    "\n",
    "print('\\n', 'Test accuracy:', score[1])\n",
    "print(\"Test loss\", score[0])"
   ]
  },
  {
   "cell_type": "code",
   "execution_count": 183,
   "metadata": {
    "colab": {
     "base_uri": "https://localhost:8080/",
     "height": 34
    },
    "colab_type": "code",
    "id": "ZvNBRlM8fsv9",
    "outputId": "855d2a76-3323-4364-a441-699551979019"
   },
   "outputs": [
    {
     "name": "stdout",
     "output_type": "stream",
     "text": [
      "['0', '1', '2', '3', '4', '5', '6', '7', '8', '9']\n"
     ]
    }
   ],
   "source": [
    "# Predições\n",
    "\n",
    "predict = mlp.predict(x_eval)\n",
    "\n",
    "labels = [str(i) for i in range(10)]\n",
    "\n",
    "print(labels)"
   ]
  },
  {
   "cell_type": "code",
   "execution_count": 184,
   "metadata": {
    "colab": {
     "base_uri": "https://localhost:8080/",
     "height": 485
    },
    "colab_type": "code",
    "id": "peF1Kw34grV1",
    "outputId": "e327cdb1-61f4-4362-bc32-f25dbeb06775"
   },
   "outputs": [
    {
     "data": {
      "image/png": "[encoded data removed]",
      "text/plain": [
       "<Figure size 1440x576 with 32 Axes>"
      ]
     },
     "metadata": {
      "tags": []
     },
     "output_type": "display_data"
    }
   ],
   "source": [
    "# plot a random sample of test images, their predicted labels, and ground truth\n",
    "fig = plt.figure(figsize=(20, 8))\n",
    "for i, idx in enumerate(np.random.choice(x_eval.shape[0], size=32, replace=False)):\n",
    "    ax = fig.add_subplot(4, 8, i + 1, xticks=[], yticks=[])\n",
    "    ax.imshow(np.squeeze(x_eval[idx].reshape(32,32)))\n",
    "    pred_idx = np.argmax(predict[idx])\n",
    "    true_idx = np.argmax(tag_eval[idx])\n",
    "    ax.set_title(\"{} ({})\".format(labels[pred_idx], labels[true_idx]),\n",
    "                 color=(\"green\" if pred_idx == true_idx else \"red\"))"
   ]
  },
  {
   "cell_type": "code",
   "execution_count": 0,
   "metadata": {
    "colab": {},
    "colab_type": "code",
    "id": "XwwPSJ36rCr5"
   },
   "outputs": [],
   "source": [
    "# Salva dados do modelo no pc\n",
    "from google.colab import files\n",
    "\n",
    "#files.download(\"model.weights.best.hdf5\")"
   ]
  },
  {
   "cell_type": "markdown",
   "metadata": {
    "colab_type": "text",
    "id": "SeY3YQRrslSv"
   },
   "source": [
    "# Classificação dos dígitos"
   ]
  },
  {
   "cell_type": "code",
   "execution_count": 204,
   "metadata": {
    "colab": {
     "base_uri": "https://localhost:8080/",
     "height": 233
    },
    "colab_type": "code",
    "id": "PelStVt0s3KG",
    "outputId": "49104d79-d1c4-461b-89c8-a3e0c3474ed0"
   },
   "outputs": [
    {
     "name": "stdout",
     "output_type": "stream",
     "text": [
      "\n",
      " Test accuracy: 1.0\n",
      "Test loss 0.010124290362000465\n"
     ]
    },
    {
     "data": {
      "image/png": "[encoded data removed]",
      "text/plain": [
       "<Figure size 504x1008 with 1 Axes>"
      ]
     },
     "metadata": {
      "tags": []
     },
     "output_type": "display_data"
    }
   ],
   "source": [
    "i =  data[0]\n",
    "digitos = i[6]\n",
    "# plt.imshow(cv.cvtColor(digitos[0], cv.COLOR_BGR2RGB))\n",
    "# plt.show()\n",
    "# print(type(digitos))\n",
    "# print(len(digitos))\n",
    "data = np.ndarray((len(digitos), 32*32))\n",
    "tag = i[7]\n",
    "\n",
    "labels = [str(i) for i in range(10)]\n",
    "\n",
    "\n",
    "for j in range(len(digitos)):\n",
    "    digitos[j] = binarizacao(digitos[j])\n",
    "    data[j] = (digitos[j].flatten())/255\n",
    "tag = keras.utils.to_categorical(tag, num_classes)\n",
    "score = mlp.evaluate(data, tag, verbose=2)\n",
    "\n",
    "predict = mlp.predict(data)\n",
    "print('\\n', 'Test accuracy:'  , score[1])\n",
    "print(\"Test loss\", score[0])\n",
    "\n",
    "\n",
    "\n",
    "final = i[0]\n",
    "pos = i[4]\n",
    "color = (0,0,0)\n",
    "for idx in range(len(tag)):\n",
    "    pred_idx = np.argmax(predict[idx])\n",
    "    true_idx = np.argmax(tag[idx])\n",
    "    if(labels[true_idx] == labels[pred_idx]):\n",
    "        color = (0,255,0)\n",
    "    else:\n",
    "        color = (0,0,255)\n",
    "    (x, y, w, h) = pos[idx]\n",
    "    cv.rectangle(final, (x, y), (x + w, y + h), color, 2)\n",
    "plt.imshow(cv.cvtColor(final, cv.COLOR_BGR2RGB))\n",
    "plt.show()\n",
    "\n",
    "# for i in data:\n",
    "#     digitos = i[6]\n",
    "#     tag = i[7]\n",
    "#     for j in range(len(digitos)):\n",
    "#         digitos[j] = binarizacao(digitos[j])\n",
    "#         digitos[j] = digitos[j].flatten()\n",
    "#     try:\n",
    "#         score = mlp.evaluate(digitos, tag, verbose=2)\n",
    "\n",
    "#         print('\\n', 'Test accuracy:'  , score[1])\n",
    "#         print(\"Test loss\", score[0])\n",
    "#     except:\n",
    "#         print(\"Erro na execução\")"
   ]
  }
 ],
 "metadata": {
  "accelerator": "GPU",
  "colab": {
   "include_colab_link": true,
   "name": "digit-recognition.ipynb",
   "provenance": []
  },
  "kernelspec": {
   "display_name": "Python 3",
   "language": "python",
   "name": "python3"
  },
  "language_info": {
   "codemirror_mode": {
    "name": "ipython",
    "version": 3
   },
   "file_extension": ".py",
   "mimetype": "text/x-python",
   "name": "python",
   "nbconvert_exporter": "python",
   "pygments_lexer": "ipython3",
   "version": "3.8.10"
  }
 },
 "nbformat": 4,
 "nbformat_minor": 1
}
