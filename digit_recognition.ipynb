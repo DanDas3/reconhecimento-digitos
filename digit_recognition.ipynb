{
  "nbformat": 4,
  "nbformat_minor": 0,
  "metadata": {
    "colab": {
      "name": "digit-recognition.ipynb",
      "provenance": [],
      "include_colab_link": true
    },
    "kernelspec": {
      "name": "python3",
      "display_name": "Python 3"
    },
    "accelerator": "GPU"
  },
  "cells": [
    {
      "cell_type": "markdown",
      "metadata": {
        "id": "view-in-github",
        "colab_type": "text"
      },
      "source": [
        "<a href=\"https://colab.research.google.com/github/DanDas3/reconhecimento-digitos/blob/master/digit_recognition.ipynb\" target=\"_parent\"><img src=\"https://colab.research.google.com/assets/colab-badge.svg\" alt=\"Open In Colab\"/></a>"
      ]
    },
    {
      "cell_type": "code",
      "metadata": {
        "id": "lP3z6QjfnMzc",
        "colab_type": "code",
        "colab": {
          "base_uri": "https://localhost:8080/",
          "height": 69
        },
        "outputId": "0a61062a-9e4e-4a18-e496-8b5c1974b555"
      },
      "source": [
        "!pip install --upgrade opencv-python\n",
        "!pip install --upgrade numpy"
      ],
      "execution_count": 18,
      "outputs": [
        {
          "output_type": "stream",
          "text": [
            "Requirement already up-to-date: opencv-python in /usr/local/lib/python3.6/dist-packages (4.1.1.26)\n",
            "Requirement already satisfied, skipping upgrade: numpy>=1.11.3 in /usr/local/lib/python3.6/dist-packages (from opencv-python) (1.17.4)\n",
            "Requirement already up-to-date: numpy in /usr/local/lib/python3.6/dist-packages (1.17.4)\n"
          ],
          "name": "stdout"
        }
      ]
    },
    {
      "cell_type": "code",
      "metadata": {
        "id": "JQLTRyjBBgQB",
        "colab_type": "code",
        "colab": {}
      },
      "source": [
        "#coding: utf-8\n",
        "import cv2 as cv\n",
        "import numpy as np\n",
        "import imutils\n",
        "import os\n",
        "import keras #Rede Neural\n",
        "from keras.models import Sequential, load_model\n",
        "from keras.layers.core import Dense, Dropout, Activation\n",
        "from keras.utils import np_utils\n",
        "from matplotlib import pyplot as plt\n",
        "from getpass import getpass\n",
        "from os import listdir\n",
        "from os.path import isfile, join"
      ],
      "execution_count": 0,
      "outputs": []
    },
    {
      "cell_type": "code",
      "metadata": {
        "id": "RoBIe9lDCCN4",
        "colab_type": "code",
        "colab": {}
      },
      "source": [
        "root = \"reconhecimento-digitos\"\n",
        "data_root = \"data\"\n",
        "out_path_root = \"output\"\n",
        "digits_trains = \"cvl-single-digits-train-validation/train\"\n",
        "digits_eval = \"cvl-single-digits-train-validation/valid\"\n",
        "digits_valid = \"cvl-single-digits-completeDatabase/cvl-single-digits/valid/\"\n",
        "string_trains = \"cvl-strings-train/train\"\n",
        "string_eval = \"cvl-strings-eval/cvl-strings-eval\""
      ],
      "execution_count": 0,
      "outputs": []
    },
    {
      "cell_type": "code",
      "metadata": {
        "id": "AOkJZGaiCJc8",
        "colab_type": "code",
        "colab": {}
      },
      "source": [
        "if os.path.exists(root) == False:\n",
        "  !git clone https://github.com/DanDas3/reconhecimento-digitos.git"
      ],
      "execution_count": 0,
      "outputs": []
    },
    {
      "cell_type": "code",
      "metadata": {
        "id": "epvhmoDUCVyf",
        "colab_type": "code",
        "colab": {}
      },
      "source": [
        "# Funções\n",
        "\n",
        "def carregaImagem(image):\n",
        "    return cv.imread(image, 0)\n",
        "\n",
        "def formataTag(tag):\n",
        "    num = tag.split(\"-\", 1)[0]\n",
        "    return [t for t in num]\n",
        "\n",
        "def filtroGaussiano(img):\n",
        "    return cv.GaussianBlur(img, (5, 5),0)\n",
        "\n",
        "def binarizacao(img):\n",
        "    max_value = 255\n",
        "    neighborhood_size=99\n",
        "    subtract_from_mean = 10\n",
        "    return cv.adaptiveThreshold(img, max_value, cv.ADAPTIVE_THRESH_GAUSSIAN_C, cv.THRESH_BINARY_INV, neighborhood_size, subtract_from_mean)\n",
        "    #return cv.threshold(img, 230, 255, cv.THRESH_BINARY_INV)[1]\n",
        "\n",
        "def filtroMorfologico(img):\n",
        "    return cv.erode(img, cv.getStructuringElement(cv.MORPH_ELLIPSE,(3,1)), iterations=1)\n",
        "\n",
        "def encontrarContornos(img):\n",
        "    cnts = cv.findContours(img, cv.RETR_EXTERNAL, cv.CHAIN_APPROX_SIMPLE)\n",
        "    cnts = imutils.grab_contours(cnts)\n",
        "    return cnts\n",
        "\n",
        "def ordenarContornos(cnts):\n",
        "    for i in range(len(cnts)):\n",
        "        for j in range(i+1,len(cnts)):\n",
        "            x_i = cv.boundingRect(cnts[i])[0]\n",
        "            x_j = cv.boundingRect(cnts[j])[0]\n",
        "\n",
        "            if(x_j < x_i):\n",
        "                aux = cnts[j]\n",
        "                cnts[j] = cnts[i]\n",
        "                cnts[i] = aux\n",
        "    return cnts\n",
        "def extrairDadosContorno(cnts):\n",
        "    dados = []\n",
        "\n",
        "    for c in cnts:\n",
        "        x, y, w, h = cv.boundingRect(c)\n",
        "        dados.append((x,y,w,h))\n",
        "    return dados\n",
        "\n",
        "def trataContornos(dadosContorno):\n",
        "    dados_novo = []\n",
        "    for c in dadosContorno:\n",
        "        x = c[0]\n",
        "        y = c[1]\n",
        "        w = c[2] # width\n",
        "        h = c[3] # height\n",
        "        if w >= 5 and h >= 17:\n",
        "            if (w >= 53):  # Divide a região em duas\n",
        "                dados_novo.append((x, y, w//2, h))\n",
        "                dados_novo.append((x+w//2, y, w//2, h))\n",
        "            else:\n",
        "                dados_novo.append((x, y, w, h))\n",
        "    return dados_novo\n",
        "def marcarContorno(img, pos):\n",
        "    #recorte = []\n",
        "    final = img.copy()\n",
        "    for p in pos:\n",
        "        # dados do contorno\n",
        "        (x, y, w, h) = p\n",
        "        cv.rectangle(final, (x, y), (x + w, y + h), (0, 255, 0), 2)\n",
        "    return final\n",
        "\n",
        "def extrairDigitos(img, pos):\n",
        "    digitos = []\n",
        "    for p in pos:\n",
        "        # dados do contorno\n",
        "        (x, y, w, h) = p\n",
        "        i = img[y:y + h, x:x + w]\n",
        "        i = cv.resize(i, (32, 32))\n",
        "        digitos.append(i)\n",
        "        #cv.rectangle(final, (x, y), (x + w, y + h), (0, 255, 0), 2)\n",
        "    return digitos\n",
        "\n",
        "def carregaDigitTrain():\n",
        "  path = root + \"/\" + data_root + \"/\" + digits_trains + \"/\"\n",
        "  images = [f for f in listdir(path) if isfile(join(path, f))]\n",
        "  imgBin = 0\n",
        "  size_vector = 32*32\n",
        "  data = np.ndarray((len(images), 32, 32, 3))\n",
        "  data_vector = np.ndarray((len(images), size_vector))\n",
        "  tags = np.ndarray((len(images), 1))\n",
        "\n",
        "  for i in range(len(images)):\n",
        "    img = cv.imread(path + images[i])\n",
        "    img = cv.resize(img,(32,32))\n",
        "    imgBin = binarizacao(cv.cvtColor(img, cv.COLOR_BGR2GRAY))\n",
        "    tags[i] = images[i][:1]\n",
        "    data[i] = img\n",
        "    data_vector[i] = imgBin.flatten()\n",
        "  return data, data_vector, tags\n",
        "\n",
        "def carregaDigitEval():\n",
        "  path = root + \"/\" + data_root + \"/\" + digits_eval + \"/\"\n",
        "  images = [f for f in listdir(path) if isfile(join(path, f))]\n",
        "  imgBin = 0\n",
        "  size_vector = 32*32\n",
        "  data = np.ndarray((len(images), 32, 32, 3))\n",
        "  data_vector = np.ndarray((len(images), size_vector))\n",
        "  tags = np.ndarray((len(images), 1))\n",
        "  for i in range(len(images)):\n",
        "    img = cv.imread(path + images[i])\n",
        "    img = cv.resize(img,(32,32))\n",
        "    imgBin = binarizacao(cv.cvtColor(img, cv.COLOR_BGR2GRAY))\n",
        "    tags[i] = images[i][:1]\n",
        "    data[i] = img\n",
        "    data_vector[i] = imgBin.flatten()\n",
        "  return data, data_vector, tags\n",
        "\n",
        "def carregaDigitValid():\n",
        "  path = root + \"/\" + data_root + \"/\" + digits_valid + \"/\"\n",
        "  images = [f for f in listdir(path) if isfile(join(path, f))]\n",
        "  imgBin = 0\n",
        "  size_vector = 32*32\n",
        "  data = np.ndarray((len(images), 32, 32, 3))\n",
        "  data_vector = np.ndarray((len(images), size_vector))\n",
        "  tags = np.ndarray((len(images), 1))\n",
        "  for i in range(len(images)):\n",
        "    img = cv.imread(path + images[i])\n",
        "    img = cv.resize(img,(32,32))\n",
        "    imgBin = binarizacao(cv.cvtColor(img, cv.COLOR_BGR2GRAY))\n",
        "    tags[i] = images[i][:1]\n",
        "    data[i] = img\n",
        "    data_vector[i] = imgBin.flatten()\n",
        "  return data, data_vector, tags\n",
        "\n",
        "def carregaStringsValid():\n",
        "  path = root + \"/\" + data_root + \"/\" + string_eval + \"/\"\n",
        "  images = [f for f in listdir(path) if isfile(join(path, f))]\n",
        "  #data = np.ndarray((len(images), 365, 32, 3))\n",
        "  #tags = np.ndarray((len(images), 1))\n",
        "  data = []\n",
        "  digits = []\n",
        "  for i in range(len(images)):\n",
        "    img = cv.imread(path + images[i],0)\n",
        "    #img = cv.resize(img,(365,89))    \n",
        "    tag_num = images[i].split(\"-\",1)[0]\n",
        "    for j in range(len(tag_num)):\n",
        "      digits.append(tag_num[j])\n",
        "    data.append((img, digits))  \n",
        "    #tags[i] = int(tag_num)\n",
        "    #data[i] = img\n",
        "  \n",
        "  return data"
      ],
      "execution_count": 0,
      "outputs": []
    },
    {
      "cell_type": "code",
      "metadata": {
        "id": "vNqD7N-X82zx",
        "colab_type": "code",
        "outputId": "6c1b41de-1545-483c-dc3c-9237081c753a",
        "colab": {
          "base_uri": "https://localhost:8080/",
          "height": 69
        }
      },
      "source": [
        "data_train, x_train, tag_train = carregaDigitTrain()\n",
        "\n",
        "data_eval, x_eval, tag_eval = carregaDigitEval()\n",
        "\n",
        "data_valid, x_valid, tag_valid = carregaDigitValid()\n",
        "\n",
        "print(type(tag_train))\n",
        "print(type(tag_train[0]))\n",
        "print(tag_train[0])\n",
        "\n",
        "# string_digits=carregaStringsValid()"
      ],
      "execution_count": 43,
      "outputs": [
        {
          "output_type": "stream",
          "text": [
            "<class 'numpy.ndarray'>\n",
            "<class 'numpy.ndarray'>\n",
            "[6.]\n"
          ],
          "name": "stdout"
        }
      ]
    },
    {
      "cell_type": "code",
      "metadata": {
        "id": "B6yR19uvHvAd",
        "colab_type": "code",
        "colab": {}
      },
      "source": [
        "#Normaliza\n",
        "x_train /= 255\n",
        "x_eval /= 255\n",
        "x_valid /= 255"
      ],
      "execution_count": 0,
      "outputs": []
    },
    {
      "cell_type": "code",
      "metadata": {
        "id": "A27K2poIXdYo",
        "colab_type": "code",
        "outputId": "123828cf-b576-4cdf-c216-f7a4840bbecd",
        "colab": {
          "base_uri": "https://localhost:8080/",
          "height": 34
        }
      },
      "source": [
        "# Organiza a categoria\n",
        "num_classes = len(np.unique(tag_train))\n",
        "print(\"Número de classes:\", num_classes)\n",
        "\n",
        "tag_train = keras.utils.to_categorical(tag_train, num_classes)\n",
        "tag_valid = keras.utils.to_categorical(tag_valid, num_classes)\n",
        "tag_eval = keras.utils.to_categorical(tag_eval, num_classes)"
      ],
      "execution_count": 45,
      "outputs": [
        {
          "output_type": "stream",
          "text": [
            "Número de classes: 10\n"
          ],
          "name": "stdout"
        }
      ]
    },
    {
      "cell_type": "code",
      "metadata": {
        "id": "JPBfUvl8mh2a",
        "colab_type": "code",
        "colab": {}
      },
      "source": [
        "# carregando as imagens\n",
        "data = []\n",
        "for image in images:\n",
        "    #i = cv.imread(path + image, 0)\n",
        "    img = carregaImagem(path + image)\n",
        "    tag = formataTag(image)\n",
        "    blur = filtroGaussiano(img)\n",
        "    binImg = binarizacao(blur)\n",
        "    binImg = filtroMorfologico(binImg)\n",
        "    cnts = encontrarContornos(binImg)\n",
        "    cnts = ordenarContornos(cnts)\n",
        "    pos = extrairDadosContorno(cnts)\n",
        "    pos = trataContornos(pos)\n",
        "    marcado = marcarContorno(img.copy(), pos)\n",
        "    digitos = extrairDigitos(img, pos)\n",
        "    data.append((img, blur, binImg, cnts, pos, marcado, digitos, tag))"
      ],
      "execution_count": 0,
      "outputs": []
    },
    {
      "cell_type": "code",
      "metadata": {
        "id": "aI7Eg5sV92mJ",
        "colab_type": "code",
        "outputId": "6a29ca11-aa14-4238-a51a-5b7636e1ad7b",
        "colab": {
          "base_uri": "https://localhost:8080/",
          "height": 336
        }
      },
      "source": [
        "(img, blur, binImg, cnts, pos, marcado, digitos, tag) = data[24]\n",
        "\n",
        "fig,axes = plt.subplots(5, 1, figsize=(15, 5))\n",
        "ax = axes.ravel()\n",
        "\n",
        "ax[0].imshow(cv.cvtColor(img, cv.COLOR_GRAY2BGR))\n",
        "ax[0].set_title(\"Imagem Original\")\n",
        "ax[0].set_axis_off()\n",
        "\n",
        "ax[1].imshow(cv.cvtColor(blur, cv.COLOR_GRAY2BGR))\n",
        "ax[1].set_title(\"Filtro Gaussiano\")\n",
        "ax[1].set_axis_off()\n",
        "\n",
        "ax[2].imshow(cv.cvtColor(binImg, cv.COLOR_GRAY2RGB))\n",
        "ax[2].set_title(\"Imagem Binarizada\")\n",
        "ax[2].set_axis_off()\n",
        "\n",
        "ax[3].imshow(cv.cvtColor(marcado, cv.COLOR_BGR2RGB))\n",
        "ax[3].set_title(\"Segmentos Marcados\")\n",
        "ax[3].set_axis_off()\n",
        "\n",
        "ax[4].imshow(cv.cvtColor(digitos[0], cv.COLOR_BGR2RGB))\n",
        "ax[4].set_title(\"Recorte\")\n",
        "ax[4].set_axis_off()\n",
        "\n",
        "print(tag)"
      ],
      "execution_count": 73,
      "outputs": [
        {
          "output_type": "stream",
          "text": [
            "['4', '1', '2', '2', '5', '8']\n"
          ],
          "name": "stdout"
        },
        {
          "output_type": "display_data",
          "data": {
            "image/png": "[encoded data removed]",
            "text/plain": [
              "<Figure size 1080x360 with 5 Axes>"
            ]
          },
          "metadata": {
            "tags": []
          }
        }
      ]
    },
    {
      "cell_type": "markdown",
      "metadata": {
        "id": "Xq8z6nFcSgCQ",
        "colab_type": "text"
      },
      "source": [
        "# Criação e treinamento da MLP"
      ]
    },
    {
      "cell_type": "code",
      "metadata": {
        "id": "Y-M4x7nDGPjp",
        "colab_type": "code",
        "outputId": "8b244eb3-7f93-4f42-8168-d30331b36657",
        "colab": {
          "base_uri": "https://localhost:8080/",
          "height": 680
        }
      },
      "source": [
        "# Modelagem da MLP\n",
        "mlp = Sequential()\n",
        "mlp.add(Dense(512, input_shape=(1024,))) # entrada com imagens 32x32 -> vetor de 1024 posições, primeira camada com 512 neurônios\n",
        "mlp.add(Activation(\"relu\"))\n",
        "mlp.add(Dropout(0.2))\n",
        "\n",
        "mlp.add(Dense(512))\n",
        "mlp.add(Activation(\"relu\"))\n",
        "mlp.add(Dropout(0.2))\n",
        "\n",
        "mlp.add(Dense(10)) # Saída com 10 posições referentes as classes\n",
        "mlp.add(Activation(\"softmax\"))\n",
        "mlp.add(Dropout(0.2))\n",
        "\n",
        "mlp.summary()"
      ],
      "execution_count": 34,
      "outputs": [
        {
          "output_type": "stream",
          "text": [
            "WARNING:tensorflow:From /usr/local/lib/python3.6/dist-packages/keras/backend/tensorflow_backend.py:66: The name tf.get_default_graph is deprecated. Please use tf.compat.v1.get_default_graph instead.\n",
            "\n",
            "WARNING:tensorflow:From /usr/local/lib/python3.6/dist-packages/keras/backend/tensorflow_backend.py:541: The name tf.placeholder is deprecated. Please use tf.compat.v1.placeholder instead.\n",
            "\n",
            "WARNING:tensorflow:From /usr/local/lib/python3.6/dist-packages/keras/backend/tensorflow_backend.py:4432: The name tf.random_uniform is deprecated. Please use tf.random.uniform instead.\n",
            "\n",
            "WARNING:tensorflow:From /usr/local/lib/python3.6/dist-packages/keras/backend/tensorflow_backend.py:148: The name tf.placeholder_with_default is deprecated. Please use tf.compat.v1.placeholder_with_default instead.\n",
            "\n",
            "WARNING:tensorflow:From /usr/local/lib/python3.6/dist-packages/keras/backend/tensorflow_backend.py:3733: calling dropout (from tensorflow.python.ops.nn_ops) with keep_prob is deprecated and will be removed in a future version.\n",
            "Instructions for updating:\n",
            "Please use `rate` instead of `keep_prob`. Rate should be set to `rate = 1 - keep_prob`.\n",
            "Model: \"sequential_1\"\n",
            "_________________________________________________________________\n",
            "Layer (type)                 Output Shape              Param #   \n",
            "=================================================================\n",
            "dense_1 (Dense)              (None, 512)               524800    \n",
            "_________________________________________________________________\n",
            "activation_1 (Activation)    (None, 512)               0         \n",
            "_________________________________________________________________\n",
            "dropout_1 (Dropout)          (None, 512)               0         \n",
            "_________________________________________________________________\n",
            "dense_2 (Dense)              (None, 512)               262656    \n",
            "_________________________________________________________________\n",
            "activation_2 (Activation)    (None, 512)               0         \n",
            "_________________________________________________________________\n",
            "dropout_2 (Dropout)          (None, 512)               0         \n",
            "_________________________________________________________________\n",
            "dense_3 (Dense)              (None, 10)                5130      \n",
            "_________________________________________________________________\n",
            "activation_3 (Activation)    (None, 10)                0         \n",
            "_________________________________________________________________\n",
            "dropout_3 (Dropout)          (None, 10)                0         \n",
            "=================================================================\n",
            "Total params: 792,586\n",
            "Trainable params: 792,586\n",
            "Non-trainable params: 0\n",
            "_________________________________________________________________\n"
          ],
          "name": "stdout"
        }
      ]
    },
    {
      "cell_type": "code",
      "metadata": {
        "id": "zpWS8VsjRTfd",
        "colab_type": "code",
        "outputId": "8e00bb91-80be-4624-c4d3-a01cdd0cd0a7",
        "colab": {
          "base_uri": "https://localhost:8080/",
          "height": 106
        }
      },
      "source": [
        "# Compilando\n",
        "mlp.compile(loss='categorical_crossentropy', metrics=['accuracy'], optimizer='adam')"
      ],
      "execution_count": 35,
      "outputs": [
        {
          "output_type": "stream",
          "text": [
            "WARNING:tensorflow:From /usr/local/lib/python3.6/dist-packages/keras/optimizers.py:793: The name tf.train.Optimizer is deprecated. Please use tf.compat.v1.train.Optimizer instead.\n",
            "\n",
            "WARNING:tensorflow:From /usr/local/lib/python3.6/dist-packages/keras/backend/tensorflow_backend.py:3576: The name tf.log is deprecated. Please use tf.math.log instead.\n",
            "\n"
          ],
          "name": "stdout"
        }
      ]
    },
    {
      "cell_type": "code",
      "metadata": {
        "id": "BQHp6S2DSQPg",
        "colab_type": "code",
        "outputId": "9aeca710-f2c6-44b4-a74c-527f33fc904a",
        "colab": {
          "base_uri": "https://localhost:8080/",
          "height": 1000
        }
      },
      "source": [
        "#Treinamento\n",
        "\n",
        "# Salva os melhores resultados\n",
        "from keras.callbacks import ModelCheckpoint   \n",
        "checkpointer = ModelCheckpoint(filepath='model.weights.best.hdf5', verbose=1, save_best_only=True)\n",
        "\n",
        "history = mlp.fit(x_train, tag_train, 128, epochs=50, validation_data=(x_valid, tag_valid), verbose=2, callbacks=[checkpointer])\n",
        "\n",
        "# plotting the metrics\n",
        "fig = plt.figure()\n",
        "plt.subplot(2,1,1)\n",
        "plt.plot(history.history['acc'])\n",
        "plt.plot(history.history['val_acc'])\n",
        "plt.title('model accuracy')\n",
        "plt.ylabel('accuracy')\n",
        "plt.xlabel('epoch')\n",
        "plt.legend(['train', 'test'], loc='lower right')\n",
        "\n",
        "plt.subplot(2,1,2)\n",
        "plt.plot(history.history['loss'])\n",
        "plt.plot(history.history['val_loss'])\n",
        "plt.title('model loss')\n",
        "plt.ylabel('loss')\n",
        "plt.xlabel('epoch')\n",
        "plt.legend(['train', 'test'], loc='upper right')\n",
        "\n",
        "plt.tight_layout()\n",
        "\n",
        "fig"
      ],
      "execution_count": 46,
      "outputs": [
        {
          "output_type": "stream",
          "text": [
            "WARNING:tensorflow:From /usr/local/lib/python3.6/dist-packages/tensorflow_core/python/ops/math_grad.py:1424: where (from tensorflow.python.ops.array_ops) is deprecated and will be removed in a future version.\n",
            "Instructions for updating:\n",
            "Use tf.where in 2.0, which has the same broadcast rule as np.where\n",
            "WARNING:tensorflow:From /usr/local/lib/python3.6/dist-packages/keras/backend/tensorflow_backend.py:1033: The name tf.assign_add is deprecated. Please use tf.compat.v1.assign_add instead.\n",
            "\n",
            "WARNING:tensorflow:From /usr/local/lib/python3.6/dist-packages/keras/backend/tensorflow_backend.py:1020: The name tf.assign is deprecated. Please use tf.compat.v1.assign instead.\n",
            "\n",
            "WARNING:tensorflow:From /usr/local/lib/python3.6/dist-packages/keras/backend/tensorflow_backend.py:3005: The name tf.Session is deprecated. Please use tf.compat.v1.Session instead.\n",
            "\n",
            "Train on 7000 samples, validate on 7000 samples\n",
            "Epoch 1/50\n",
            "WARNING:tensorflow:From /usr/local/lib/python3.6/dist-packages/keras/backend/tensorflow_backend.py:190: The name tf.get_default_session is deprecated. Please use tf.compat.v1.get_default_session instead.\n",
            "\n",
            "WARNING:tensorflow:From /usr/local/lib/python3.6/dist-packages/keras/backend/tensorflow_backend.py:197: The name tf.ConfigProto is deprecated. Please use tf.compat.v1.ConfigProto instead.\n",
            "\n",
            "WARNING:tensorflow:From /usr/local/lib/python3.6/dist-packages/keras/backend/tensorflow_backend.py:207: The name tf.global_variables is deprecated. Please use tf.compat.v1.global_variables instead.\n",
            "\n",
            "WARNING:tensorflow:From /usr/local/lib/python3.6/dist-packages/keras/backend/tensorflow_backend.py:216: The name tf.is_variable_initialized is deprecated. Please use tf.compat.v1.is_variable_initialized instead.\n",
            "\n",
            "WARNING:tensorflow:From /usr/local/lib/python3.6/dist-packages/keras/backend/tensorflow_backend.py:223: The name tf.variables_initializer is deprecated. Please use tf.compat.v1.variables_initializer instead.\n",
            "\n",
            " - 5s - loss: 3.7173 - acc: 0.6474 - val_loss: 0.4267 - val_acc: 0.8661\n",
            "\n",
            "Epoch 00001: val_loss improved from inf to 0.42668, saving model to model.weights.best.hdf5\n",
            "Epoch 2/50\n",
            " - 0s - loss: 3.4624 - acc: 0.7361 - val_loss: 0.3688 - val_acc: 0.8870\n",
            "\n",
            "Epoch 00002: val_loss improved from 0.42668 to 0.36877, saving model to model.weights.best.hdf5\n",
            "Epoch 3/50\n",
            " - 0s - loss: 3.3563 - acc: 0.7486 - val_loss: 0.3435 - val_acc: 0.8971\n",
            "\n",
            "Epoch 00003: val_loss improved from 0.36877 to 0.34350, saving model to model.weights.best.hdf5\n",
            "Epoch 4/50\n",
            " - 0s - loss: 3.2954 - acc: 0.7709 - val_loss: 0.3299 - val_acc: 0.9040\n",
            "\n",
            "Epoch 00004: val_loss improved from 0.34350 to 0.32994, saving model to model.weights.best.hdf5\n",
            "Epoch 5/50\n",
            " - 0s - loss: 3.3688 - acc: 0.7684 - val_loss: 0.3520 - val_acc: 0.9016\n",
            "\n",
            "Epoch 00005: val_loss did not improve from 0.32994\n",
            "Epoch 6/50\n",
            " - 0s - loss: 3.1715 - acc: 0.7853 - val_loss: 0.2935 - val_acc: 0.9169\n",
            "\n",
            "Epoch 00006: val_loss improved from 0.32994 to 0.29348, saving model to model.weights.best.hdf5\n",
            "Epoch 7/50\n",
            " - 0s - loss: 3.4581 - acc: 0.7744 - val_loss: 0.2982 - val_acc: 0.9179\n",
            "\n",
            "Epoch 00007: val_loss did not improve from 0.29348\n",
            "Epoch 8/50\n",
            " - 0s - loss: 3.3465 - acc: 0.7784 - val_loss: 0.3035 - val_acc: 0.9201\n",
            "\n",
            "Epoch 00008: val_loss did not improve from 0.29348\n",
            "Epoch 9/50\n",
            " - 0s - loss: 3.2623 - acc: 0.7860 - val_loss: 0.3072 - val_acc: 0.9213\n",
            "\n",
            "Epoch 00009: val_loss did not improve from 0.29348\n",
            "Epoch 10/50\n",
            " - 0s - loss: 3.0773 - acc: 0.8004 - val_loss: 0.2960 - val_acc: 0.9243\n",
            "\n",
            "Epoch 00010: val_loss did not improve from 0.29348\n",
            "Epoch 11/50\n",
            " - 0s - loss: 3.3832 - acc: 0.7791 - val_loss: 0.3033 - val_acc: 0.9220\n",
            "\n",
            "Epoch 00011: val_loss did not improve from 0.29348\n",
            "Epoch 12/50\n",
            " - 0s - loss: 3.2932 - acc: 0.7871 - val_loss: 0.3436 - val_acc: 0.9157\n",
            "\n",
            "Epoch 00012: val_loss did not improve from 0.29348\n",
            "Epoch 13/50\n",
            " - 0s - loss: 3.3291 - acc: 0.7869 - val_loss: 0.3364 - val_acc: 0.9174\n",
            "\n",
            "Epoch 00013: val_loss did not improve from 0.29348\n",
            "Epoch 14/50\n",
            " - 0s - loss: 3.2694 - acc: 0.7910 - val_loss: 0.3225 - val_acc: 0.9257\n",
            "\n",
            "Epoch 00014: val_loss did not improve from 0.29348\n",
            "Epoch 15/50\n",
            " - 0s - loss: 3.2653 - acc: 0.7927 - val_loss: 0.3745 - val_acc: 0.9191\n",
            "\n",
            "Epoch 00015: val_loss did not improve from 0.29348\n",
            "Epoch 16/50\n",
            " - 0s - loss: 3.3031 - acc: 0.7891 - val_loss: 0.3607 - val_acc: 0.9177\n",
            "\n",
            "Epoch 00016: val_loss did not improve from 0.29348\n",
            "Epoch 17/50\n",
            " - 0s - loss: 3.3824 - acc: 0.7829 - val_loss: 0.3719 - val_acc: 0.9201\n",
            "\n",
            "Epoch 00017: val_loss did not improve from 0.29348\n",
            "Epoch 18/50\n",
            " - 0s - loss: 3.2167 - acc: 0.7923 - val_loss: 0.3447 - val_acc: 0.9237\n",
            "\n",
            "Epoch 00018: val_loss did not improve from 0.29348\n",
            "Epoch 19/50\n",
            " - 0s - loss: 3.1664 - acc: 0.7956 - val_loss: 0.3649 - val_acc: 0.9207\n",
            "\n",
            "Epoch 00019: val_loss did not improve from 0.29348\n",
            "Epoch 20/50\n",
            " - 0s - loss: 3.2476 - acc: 0.7927 - val_loss: 0.3839 - val_acc: 0.9230\n",
            "\n",
            "Epoch 00020: val_loss did not improve from 0.29348\n",
            "Epoch 21/50\n",
            " - 0s - loss: 3.2345 - acc: 0.7929 - val_loss: 0.4569 - val_acc: 0.9053\n",
            "\n",
            "Epoch 00021: val_loss did not improve from 0.29348\n",
            "Epoch 22/50\n",
            " - 0s - loss: 3.1272 - acc: 0.7989 - val_loss: 0.3831 - val_acc: 0.9223\n",
            "\n",
            "Epoch 00022: val_loss did not improve from 0.29348\n",
            "Epoch 23/50\n",
            " - 0s - loss: 3.1330 - acc: 0.8007 - val_loss: 0.4284 - val_acc: 0.9184\n",
            "\n",
            "Epoch 00023: val_loss did not improve from 0.29348\n",
            "Epoch 24/50\n",
            " - 0s - loss: 3.2133 - acc: 0.7964 - val_loss: 0.4031 - val_acc: 0.9236\n",
            "\n",
            "Epoch 00024: val_loss did not improve from 0.29348\n",
            "Epoch 25/50\n",
            " - 0s - loss: 3.1632 - acc: 0.8010 - val_loss: 0.3659 - val_acc: 0.9267\n",
            "\n",
            "Epoch 00025: val_loss did not improve from 0.29348\n",
            "Epoch 26/50\n",
            " - 0s - loss: 3.3262 - acc: 0.7913 - val_loss: 0.3836 - val_acc: 0.9253\n",
            "\n",
            "Epoch 00026: val_loss did not improve from 0.29348\n",
            "Epoch 27/50\n",
            " - 0s - loss: 3.2347 - acc: 0.7973 - val_loss: 0.4226 - val_acc: 0.9206\n",
            "\n",
            "Epoch 00027: val_loss did not improve from 0.29348\n",
            "Epoch 28/50\n",
            " - 0s - loss: 3.2037 - acc: 0.7976 - val_loss: 0.4554 - val_acc: 0.9170\n",
            "\n",
            "Epoch 00028: val_loss did not improve from 0.29348\n",
            "Epoch 29/50\n",
            " - 0s - loss: 3.3352 - acc: 0.7877 - val_loss: 0.3744 - val_acc: 0.9247\n",
            "\n",
            "Epoch 00029: val_loss did not improve from 0.29348\n",
            "Epoch 30/50\n",
            " - 0s - loss: 3.1360 - acc: 0.8007 - val_loss: 0.3769 - val_acc: 0.9271\n",
            "\n",
            "Epoch 00030: val_loss did not improve from 0.29348\n",
            "Epoch 31/50\n",
            " - 0s - loss: 3.2619 - acc: 0.7920 - val_loss: 0.4320 - val_acc: 0.9211\n",
            "\n",
            "Epoch 00031: val_loss did not improve from 0.29348\n",
            "Epoch 32/50\n",
            " - 0s - loss: 3.2100 - acc: 0.7970 - val_loss: 0.3886 - val_acc: 0.9314\n",
            "\n",
            "Epoch 00032: val_loss did not improve from 0.29348\n",
            "Epoch 33/50\n",
            " - 0s - loss: 3.3254 - acc: 0.7891 - val_loss: 0.3986 - val_acc: 0.9280\n",
            "\n",
            "Epoch 00033: val_loss did not improve from 0.29348\n",
            "Epoch 34/50\n",
            " - 0s - loss: 3.3865 - acc: 0.7851 - val_loss: 0.4260 - val_acc: 0.9253\n",
            "\n",
            "Epoch 00034: val_loss did not improve from 0.29348\n",
            "Epoch 35/50\n",
            " - 0s - loss: 3.1175 - acc: 0.8017 - val_loss: 0.4308 - val_acc: 0.9256\n",
            "\n",
            "Epoch 00035: val_loss did not improve from 0.29348\n",
            "Epoch 36/50\n",
            " - 0s - loss: 3.3208 - acc: 0.7881 - val_loss: 0.4333 - val_acc: 0.9234\n",
            "\n",
            "Epoch 00036: val_loss did not improve from 0.29348\n",
            "Epoch 37/50\n",
            " - 0s - loss: 3.1892 - acc: 0.7953 - val_loss: 0.5024 - val_acc: 0.9116\n",
            "\n",
            "Epoch 00037: val_loss did not improve from 0.29348\n",
            "Epoch 38/50\n",
            " - 0s - loss: 3.1899 - acc: 0.7976 - val_loss: 0.4562 - val_acc: 0.9249\n",
            "\n",
            "Epoch 00038: val_loss did not improve from 0.29348\n",
            "Epoch 39/50\n",
            " - 0s - loss: 3.1254 - acc: 0.8014 - val_loss: 0.4481 - val_acc: 0.9249\n",
            "\n",
            "Epoch 00039: val_loss did not improve from 0.29348\n",
            "Epoch 40/50\n",
            " - 0s - loss: 3.2860 - acc: 0.7891 - val_loss: 0.4709 - val_acc: 0.9167\n",
            "\n",
            "Epoch 00040: val_loss did not improve from 0.29348\n",
            "Epoch 41/50\n",
            " - 0s - loss: 3.2267 - acc: 0.7949 - val_loss: 0.3978 - val_acc: 0.9310\n",
            "\n",
            "Epoch 00041: val_loss did not improve from 0.29348\n",
            "Epoch 42/50\n",
            " - 0s - loss: 3.3378 - acc: 0.7887 - val_loss: 0.4319 - val_acc: 0.9303\n",
            "\n",
            "Epoch 00042: val_loss did not improve from 0.29348\n",
            "Epoch 43/50\n",
            " - 0s - loss: 3.2354 - acc: 0.7970 - val_loss: 0.4295 - val_acc: 0.9290\n",
            "\n",
            "Epoch 00043: val_loss did not improve from 0.29348\n",
            "Epoch 44/50\n",
            " - 0s - loss: 3.2495 - acc: 0.7971 - val_loss: 0.4089 - val_acc: 0.9313\n",
            "\n",
            "Epoch 00044: val_loss did not improve from 0.29348\n",
            "Epoch 45/50\n",
            " - 0s - loss: 3.1619 - acc: 0.8021 - val_loss: 0.4004 - val_acc: 0.9339\n",
            "\n",
            "Epoch 00045: val_loss did not improve from 0.29348\n",
            "Epoch 46/50\n",
            " - 0s - loss: 3.2525 - acc: 0.7969 - val_loss: 0.4673 - val_acc: 0.9233\n",
            "\n",
            "Epoch 00046: val_loss did not improve from 0.29348\n",
            "Epoch 47/50\n",
            " - 0s - loss: 3.2331 - acc: 0.7964 - val_loss: 0.4354 - val_acc: 0.9293\n",
            "\n",
            "Epoch 00047: val_loss did not improve from 0.29348\n",
            "Epoch 48/50\n",
            " - 0s - loss: 3.1787 - acc: 0.7993 - val_loss: 0.4978 - val_acc: 0.9211\n",
            "\n",
            "Epoch 00048: val_loss did not improve from 0.29348\n",
            "Epoch 49/50\n",
            " - 0s - loss: 3.1034 - acc: 0.8026 - val_loss: 0.3985 - val_acc: 0.9316\n",
            "\n",
            "Epoch 00049: val_loss did not improve from 0.29348\n",
            "Epoch 50/50\n",
            " - 0s - loss: 3.2378 - acc: 0.7949 - val_loss: 0.4036 - val_acc: 0.9326\n",
            "\n",
            "Epoch 00050: val_loss did not improve from 0.29348\n"
          ],
          "name": "stdout"
        },
        {
          "output_type": "execute_result",
          "data": {
            "image/png": "[encoded data removed]",
            "text/plain": [
              "<Figure size 432x288 with 2 Axes>"
            ]
          },
          "metadata": {
            "tags": []
          },
          "execution_count": 46
        },
        {
          "output_type": "display_data",
          "data": {
            "image/png": "[encoded data removed]",
            "text/plain": [
              "<Figure size 432x288 with 2 Axes>"
            ]
          },
          "metadata": {
            "tags": []
          }
        }
      ]
    },
    {
      "cell_type": "code",
      "metadata": {
        "id": "OcZoj3MHbpiD",
        "colab_type": "code",
        "colab": {}
      },
      "source": [
        "# Carrega o modelo com os melhores valores\n",
        "mlp.load_weights('model.weights.best.hdf5')"
      ],
      "execution_count": 0,
      "outputs": []
    },
    {
      "cell_type": "code",
      "metadata": {
        "id": "0pkNR8_KemTr",
        "colab_type": "code",
        "outputId": "b5f76ae8-429f-49be-bd95-82b750d8aaaf",
        "colab": {
          "base_uri": "https://localhost:8080/",
          "height": 69
        }
      },
      "source": [
        "# Avalia os resultados\n",
        "# evaluate and print test accuracy\n",
        "score = mlp.evaluate(x_eval, tag_eval, verbose=2)\n",
        "\n",
        "print('\\n', 'Test accuracy:', score[1])\n",
        "print(\"Test loss\", score[0])"
      ],
      "execution_count": 48,
      "outputs": [
        {
          "output_type": "stream",
          "text": [
            "\n",
            " Test accuracy: 0.9168571429252624\n",
            "Test loss 0.2934764419538634\n"
          ],
          "name": "stdout"
        }
      ]
    },
    {
      "cell_type": "code",
      "metadata": {
        "id": "ZvNBRlM8fsv9",
        "colab_type": "code",
        "outputId": "4ab815e6-7089-4f52-d021-d1fd7743cc3d",
        "colab": {
          "base_uri": "https://localhost:8080/",
          "height": 34
        }
      },
      "source": [
        "# Predições\n",
        "\n",
        "predict = mlp.predict(x_eval)\n",
        "\n",
        "labels = [str(i) for i in range(10)]\n",
        "\n",
        "print(labels)"
      ],
      "execution_count": 49,
      "outputs": [
        {
          "output_type": "stream",
          "text": [
            "['0', '1', '2', '3', '4', '5', '6', '7', '8', '9']\n"
          ],
          "name": "stdout"
        }
      ]
    },
    {
      "cell_type": "code",
      "metadata": {
        "id": "peF1Kw34grV1",
        "colab_type": "code",
        "outputId": "5937b9ee-f0b7-4d2b-817a-12f6c0b84a97",
        "colab": {
          "base_uri": "https://localhost:8080/",
          "height": 485
        }
      },
      "source": [
        "# plot a random sample of test images, their predicted labels, and ground truth\n",
        "fig = plt.figure(figsize=(20, 8))\n",
        "for i, idx in enumerate(np.random.choice(x_eval.shape[0], size=32, replace=False)):\n",
        "    ax = fig.add_subplot(4, 8, i + 1, xticks=[], yticks=[])\n",
        "    ax.imshow(np.squeeze(x_eval[idx].reshape(32,32)))\n",
        "    pred_idx = np.argmax(predict[idx])\n",
        "    true_idx = np.argmax(tag_eval[idx])\n",
        "    ax.set_title(\"{} ({})\".format(labels[pred_idx], labels[true_idx]),\n",
        "                 color=(\"green\" if pred_idx == true_idx else \"red\"))"
      ],
      "execution_count": 50,
      "outputs": [
        {
          "output_type": "display_data",
          "data": {
            "image/png": "[encoded data removed]",
            "text/plain": [
              "<Figure size 1440x576 with 32 Axes>"
            ]
          },
          "metadata": {
            "tags": []
          }
        }
      ]
    },
    {
      "cell_type": "code",
      "metadata": {
        "id": "XwwPSJ36rCr5",
        "colab_type": "code",
        "colab": {}
      },
      "source": [
        "# Salva dados do modelo no pc\n",
        "from google.colab import files\n",
        "\n",
        "files.download(\"model.weights.best.hdf5\")"
      ],
      "execution_count": 0,
      "outputs": []
    },
    {
      "cell_type": "markdown",
      "metadata": {
        "id": "SeY3YQRrslSv",
        "colab_type": "text"
      },
      "source": [
        "# Classificação dos dígitos"
      ]
    },
    {
      "cell_type": "code",
      "metadata": {
        "id": "PelStVt0s3KG",
        "colab_type": "code",
        "colab": {
          "base_uri": "https://localhost:8080/",
          "height": 69
        },
        "outputId": "fc2b7de1-4556-45f2-e447-3ee3c8ea6c95"
      },
      "source": [
        "i =  data[0]\n",
        "digitos = i[6]\n",
        "# plt.imshow(cv.cvtColor(digitos[0], cv.COLOR_BGR2RGB))\n",
        "# plt.show()\n",
        "# print(type(digitos))\n",
        "# print(len(digitos))\n",
        "data = np.ndarray((len(digitos), 32*32))\n",
        "tag = i[7]\n",
        "\n",
        "labels = [str(i) for i in range(10)]\n",
        "\n",
        "\n",
        "for j in range(len(digitos)):\n",
        "    digitos[j] = binarizacao(digitos[j])\n",
        "    data[j] = (digitos[j].flatten())/255\n",
        "tag = keras.utils.to_categorical(tag, num_classes)\n",
        "score = mlp.evaluate(data, tag, verbose=2)\n",
        "\n",
        "predict = mlp.predict(data)\n",
        "print('\\n', 'Test accuracy:'  , score[1])\n",
        "print(\"Test loss\", score[0])\n",
        "# for i in data:\n",
        "#     digitos = i[6]\n",
        "#     tag = i[7]\n",
        "#     for j in range(len(digitos)):\n",
        "#         digitos[j] = binarizacao(digitos[j])\n",
        "#         digitos[j] = digitos[j].flatten()\n",
        "#     try:\n",
        "#         score = mlp.evaluate(digitos, tag, verbose=2)\n",
        "\n",
        "#         print('\\n', 'Test accuracy:'  , score[1])\n",
        "#         print(\"Test loss\", score[0])\n",
        "#     except:\n",
        "#         print(\"Erro na execução\")"
      ],
      "execution_count": 76,
      "outputs": [
        {
          "output_type": "stream",
          "text": [
            "\n",
            " Test accuracy: 1.0\n",
            "Test loss 0.007653279695659876\n"
          ],
          "name": "stdout"
        }
      ]
    }
  ]
}