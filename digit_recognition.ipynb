{
  "cells": [
    {
      "cell_type": "markdown",
      "metadata": {
        "id": "view-in-github",
        "colab_type": "text"
      },
      "source": [
        "<a href=\"https://colab.research.google.com/github/DanDas3/reconhecimento-digitos/blob/master/digit_recognition.ipynb\" target=\"_parent\"><img src=\"https://colab.research.google.com/assets/colab-badge.svg\" alt=\"Open In Colab\"/></a>"
      ]
    },
    {
      "cell_type": "code",
      "execution_count": 1,
      "metadata": {
        "colab": {
          "base_uri": "https://localhost:8080/"
        },
        "id": "lP3z6QjfnMzc",
        "outputId": "8bdd8b86-aaa3-49ab-a5c4-5538ff755557"
      },
      "outputs": [
        {
          "output_type": "stream",
          "name": "stdout",
          "text": [
            "Looking in indexes: https://pypi.org/simple, https://us-python.pkg.dev/colab-wheels/public/simple/\n",
            "Requirement already satisfied: opencv-python in /usr/local/lib/python3.7/dist-packages (4.6.0.66)\n",
            "Requirement already satisfied: numpy>=1.14.5 in /usr/local/lib/python3.7/dist-packages (from opencv-python) (1.21.6)\n",
            "Looking in indexes: https://pypi.org/simple, https://us-python.pkg.dev/colab-wheels/public/simple/\n",
            "Requirement already satisfied: numpy in /usr/local/lib/python3.7/dist-packages (1.21.6)\n",
            "Looking in indexes: https://pypi.org/simple, https://us-python.pkg.dev/colab-wheels/public/simple/\n",
            "Requirement already satisfied: imutils in /usr/local/lib/python3.7/dist-packages (0.5.4)\n"
          ]
        }
      ],
      "source": [
        "!pip install --upgrade opencv-python\n",
        "!pip install --upgrade numpy\n",
        "!pip install --upgrade imutils"
      ]
    },
    {
      "cell_type": "code",
      "execution_count": null,
      "metadata": {
        "id": "ZBwPc3-pDQOF",
        "outputId": "0bc547f6-e13d-4e76-b1cb-3a534b40b252"
      },
      "outputs": [
        {
          "name": "stderr",
          "output_type": "stream",
          "text": [
            "WARNING: pip is being invoked by an old script wrapper. This will fail in a future version of pip.\n",
            "Please see https://github.com/pypa/pip/issues/5599 for advice on fixing the underlying issue.\n",
            "To avoid this problem you can invoke Python with '-m pip' instead of running pip directly.\n"
          ]
        },
        {
          "name": "stdout",
          "output_type": "stream",
          "text": [
            "Processing /home/danilo/.cache/pip/wheels/59/1b/52/0dea905f8278d5514dc4d0be5e251967f8681670cadd3dca89/imutils-0.5.4-py3-none-any.whl\n",
            "Installing collected packages: imutils\n",
            "Successfully installed imutils-0.5.4\n"
          ]
        },
        {
          "data": {
            "text/plain": [
              "0"
            ]
          },
          "execution_count": 33,
          "metadata": {},
          "output_type": "execute_result"
        }
      ],
      "source": [
        "import pip  \n",
        "pip.main(['install', 'imutils']) "
      ]
    },
    {
      "cell_type": "code",
      "execution_count": 2,
      "metadata": {
        "id": "JQLTRyjBBgQB"
      },
      "outputs": [],
      "source": [
        "#coding: utf-8\n",
        "import cv2 as cv\n",
        "import numpy as np\n",
        "#import imutils\n",
        "import os\n",
        "import tensorflow\n",
        "from tensorflow import keras #Rede Neural\n",
        "from keras.models import Sequential, load_model\n",
        "from keras.layers.core import Dense, Dropout, Activation\n",
        "from keras.utils import np_utils\n",
        "from matplotlib import pyplot as plt\n",
        "from getpass import getpass\n",
        "from os import listdir\n",
        "from os.path import isfile, join"
      ]
    },
    {
      "cell_type": "code",
      "execution_count": 3,
      "metadata": {
        "id": "RoBIe9lDCCN4"
      },
      "outputs": [],
      "source": [
        "root = \"./reconhecimento-digitos\"\n",
        "data_root = \"data\"\n",
        "out_path_root = \"output\"\n",
        "digits_trains = \"cvl-single-digits-train-validation/train\"\n",
        "digits_eval = \"cvl-single-digits-train-validation/valid\"\n",
        "digits_valid = \"cvl-single-digits-completeDatabase/cvl-single-digits/valid/\"\n",
        "string_trains = \"cvl-strings-train/train\"\n",
        "string_eval = \"cvl-strings-eval/cvl-strings-eval\""
      ]
    },
    {
      "cell_type": "code",
      "execution_count": 4,
      "metadata": {
        "colab": {
          "base_uri": "https://localhost:8080/"
        },
        "id": "AOkJZGaiCJc8",
        "outputId": "6c35f8be-6cc2-4eb7-cdc2-a02138cd6b27"
      },
      "outputs": [
        {
          "output_type": "stream",
          "name": "stdout",
          "text": [
            "Cloning into 'reconhecimento-digitos'...\n",
            "remote: Enumerating objects: 79520, done.\u001b[K\n",
            "remote: Counting objects: 100% (75/75), done.\u001b[K\n",
            "remote: Compressing objects: 100% (47/47), done.\u001b[K\n",
            "remote: Total 79520 (delta 30), reused 73 (delta 28), pack-reused 79445\u001b[K\n",
            "Receiving objects: 100% (79520/79520), 188.12 MiB | 38.65 MiB/s, done.\n",
            "Resolving deltas: 100% (34/34), done.\n",
            "Checking out files: 100% (93530/93530), done.\n"
          ]
        }
      ],
      "source": [
        "if os.path.exists(root) == False:\n",
        "  !git clone https://github.com/DanDas3/reconhecimento-digitos.git"
      ]
    },
    {
      "cell_type": "code",
      "execution_count": 5,
      "metadata": {
        "id": "epvhmoDUCVyf"
      },
      "outputs": [],
      "source": [
        "# Funções\n",
        "\n",
        "def carregaImagem(image):\n",
        "    return cv.imread(image)\n",
        "\n",
        "def formataTag(tag):\n",
        "    num = tag.split(\"-\", 1)[0]\n",
        "    return [t for t in num]\n",
        "\n",
        "def filtroGaussiano(img):\n",
        "    return cv.GaussianBlur(img, (5, 5),0)\n",
        "\n",
        "def binarizacao(img):\n",
        "    max_value = 255\n",
        "    neighborhood_size=99\n",
        "    subtract_from_mean = 10\n",
        "    #return cv.adaptiveThreshold(cv.cvtColor(img, cv.COLOR_BGR2GRAY), max_value, cv.ADAPTIVE_THRESH_GAUSSIAN_C, cv.THRESH_BINARY_INV, neighborhood_size, subtract_from_mean)\n",
        "    return cv.threshold(img, 230, 255, cv.THRESH_BINARY_INV)[1]\n",
        "\n",
        "def filtroMorfologico(img):\n",
        "    return cv.erode(img, cv.getStructuringElement(cv.MORPH_ELLIPSE,(3,1)), iterations=1)\n",
        "\n",
        "def encontrarContornos(img):\n",
        "    cnts = cv.findContours(img, cv.RETR_EXTERNAL, cv.CHAIN_APPROX_SIMPLE)\n",
        "    #cnts = imutils.grab_contours(cnts)\n",
        "    return cnts\n",
        "\n",
        "def ordenarContornos(cnts):\n",
        "    for i in range(len(cnts)):\n",
        "        for j in range(i+1,len(cnts)):\n",
        "            x_i = cv.boundingRect(cnts[i])[0]\n",
        "            x_j = cv.boundingRect(cnts[j])[0]\n",
        "\n",
        "            if(x_j < x_i):\n",
        "                aux = cnts[j]\n",
        "                cnts[j] = cnts[i]\n",
        "                cnts[i] = aux\n",
        "    return cnts\n",
        "def extrairDadosContorno(cnts):\n",
        "    dados = []\n",
        "\n",
        "    for c in cnts:\n",
        "        x, y, w, h = cv.boundingRect(c)\n",
        "        dados.append((x,y,w,h))\n",
        "    return dados\n",
        "\n",
        "def trataContornos(dadosContorno):\n",
        "    dados_novo = []\n",
        "    for c in dadosContorno:\n",
        "        x = c[0]\n",
        "        y = c[1]\n",
        "        w = c[2] # width\n",
        "        h = c[3] # height\n",
        "        if w >= 5 and h >= 17:\n",
        "            if (w >= 53):  # Divide a região em duas\n",
        "                dados_novo.append((x, y, w//2, h))\n",
        "                dados_novo.append((x+w//2, y, w//2, h))\n",
        "            else:\n",
        "                dados_novo.append((x, y, w, h))\n",
        "    return dados_novo\n",
        "def marcarContorno(img, pos):\n",
        "    #recorte = []\n",
        "    final = img.copy()\n",
        "    for p in pos:\n",
        "        # dados do contorno\n",
        "        (x, y, w, h) = p\n",
        "        cv.rectangle(final, (x, y), (x + w, y + h), (0, 255, 0), 2)\n",
        "    return final\n",
        "\n",
        "def extrairDigitos(img, pos):\n",
        "    digitos = []\n",
        "    for p in pos:\n",
        "        # dados do contorno\n",
        "        (x, y, w, h) = p\n",
        "        i = img[y:y + h, x:x + w]\n",
        "        i = cv.resize(i, (32, 32))\n",
        "        digitos.append(i)\n",
        "        #cv.rectangle(final, (x, y), (x + w, y + h), (0, 255, 0), 2)\n",
        "    return digitos\n",
        "\n",
        "def carregaDigitTrain():\n",
        "  path = root + \"/\" + data_root + \"/\" + digits_trains + \"/\"\n",
        "  images = [f for f in listdir(path) if isfile(join(path, f))]\n",
        "  imgBin = 0\n",
        "  size_vector = 32*32\n",
        "  data = np.ndarray((len(images), 32, 32, 3))\n",
        "  data_vector = np.ndarray((len(images), size_vector))\n",
        "  tags = np.ndarray((len(images), 1))\n",
        "\n",
        "  for i in range(len(images)):\n",
        "    img = cv.imread(path + images[i])\n",
        "    img = cv.resize(img,(32,32))\n",
        "    imgBin = binarizacao(cv.cvtColor(img, cv.COLOR_BGR2GRAY))\n",
        "    tags[i] = images[i][:1]\n",
        "    data[i] = img\n",
        "    data_vector[i] = imgBin.flatten()\n",
        "  return data, data_vector, tags\n",
        "\n",
        "def carregaDigitEval():\n",
        "  path = root + \"/\" + data_root + \"/\" + digits_eval + \"/\"\n",
        "  images = [f for f in listdir(path) if isfile(join(path, f))]\n",
        "  imgBin = 0\n",
        "  size_vector = 32*32\n",
        "  data = np.ndarray((len(images), 32, 32, 3))\n",
        "  data_vector = np.ndarray((len(images), size_vector))\n",
        "  tags = np.ndarray((len(images), 1))\n",
        "  for i in range(len(images)):\n",
        "    img = cv.imread(path + images[i])\n",
        "    img = cv.resize(img,(32,32))\n",
        "    imgBin = binarizacao(cv.cvtColor(img, cv.COLOR_BGR2GRAY))\n",
        "    tags[i] = images[i][:1]\n",
        "    data[i] = img\n",
        "    data_vector[i] = imgBin.flatten()\n",
        "  return data, data_vector, tags\n",
        "\n",
        "def carregaDigitValid():\n",
        "  path = root + \"/\" + data_root + \"/\" + digits_valid + \"/\"\n",
        "  images = [f for f in listdir(path) if isfile(join(path, f))]\n",
        "  imgBin = 0\n",
        "  size_vector = 32*32\n",
        "  data = np.ndarray((len(images), 32, 32, 3))\n",
        "  data_vector = np.ndarray((len(images), size_vector))\n",
        "  tags = np.ndarray((len(images), 1))\n",
        "  for i in range(len(images)):\n",
        "    img = cv.imread(path + images[i])\n",
        "    img = cv.resize(img,(32,32))\n",
        "    imgBin = binarizacao(cv.cvtColor(img, cv.COLOR_BGR2GRAY))\n",
        "    tags[i] = images[i][:1]\n",
        "    data[i] = img\n",
        "    data_vector[i] = imgBin.flatten()\n",
        "  return data, data_vector, tags\n",
        "\n",
        "def carregaStringsValid():\n",
        "  path = root + \"/\" + data_root + \"/\" + string_eval + \"/\"\n",
        "  images = [f for f in listdir(path) if isfile(join(path, f))]\n",
        "  #data = np.ndarray((len(images), 365, 32, 3))\n",
        "  #tags = np.ndarray((len(images), 1))\n",
        "  data = []\n",
        "  digits = []\n",
        "  for i in range(len(images)):\n",
        "    img = cv.imread(path + images[i],0)\n",
        "    #img = cv.resize(img,(365,89))    \n",
        "    tag_num = images[i].split(\"-\",1)[0]\n",
        "    for j in range(len(tag_num)):\n",
        "      digits.append(tag_num[j])\n",
        "    data.append((img, digits))  \n",
        "    #tags[i] = int(tag_num)\n",
        "    #data[i] = img\n",
        "  \n",
        "  return data"
      ]
    },
    {
      "cell_type": "code",
      "execution_count": 6,
      "metadata": {
        "colab": {
          "base_uri": "https://localhost:8080/"
        },
        "id": "vNqD7N-X82zx",
        "outputId": "08973b6e-0ff8-4c6b-c759-a5a17f629106"
      },
      "outputs": [
        {
          "output_type": "stream",
          "name": "stdout",
          "text": [
            "<class 'numpy.ndarray'>\n",
            "<class 'numpy.ndarray'>\n",
            "[1.]\n",
            "(7000, 1)\n"
          ]
        }
      ],
      "source": [
        "data_train, x_train, tag_train = carregaDigitTrain()\n",
        "\n",
        "data_eval, x_eval, tag_eval = carregaDigitEval()\n",
        "\n",
        "data_valid, x_valid, tag_valid = carregaDigitValid()\n",
        "\n",
        "print(type(tag_train))\n",
        "print(type(tag_train[0]))\n",
        "print(tag_train[0])\n",
        "print(tag_train.shape)\n",
        "\n",
        "# string_digits=carregaStringsValid()"
      ]
    },
    {
      "cell_type": "code",
      "execution_count": 7,
      "metadata": {
        "id": "B6yR19uvHvAd"
      },
      "outputs": [],
      "source": [
        "#Normaliza\n",
        "x_train /= 255\n",
        "x_eval /= 255\n",
        "x_valid /= 255"
      ]
    },
    {
      "cell_type": "code",
      "execution_count": 8,
      "metadata": {
        "colab": {
          "base_uri": "https://localhost:8080/"
        },
        "id": "A27K2poIXdYo",
        "outputId": "bdade85b-dae6-4ecc-e97b-75b15b9f43c4"
      },
      "outputs": [
        {
          "output_type": "stream",
          "name": "stdout",
          "text": [
            "Número de classes: 10\n"
          ]
        }
      ],
      "source": [
        "# Organiza a categoria\n",
        "num_classes = len(np.unique(tag_train))\n",
        "print(\"Número de classes:\", num_classes)\n",
        "\n"
      ]
    },
    {
      "cell_type": "code",
      "execution_count": null,
      "metadata": {
        "id": "EkHUvL79DQOM",
        "outputId": "ed88735b-00e4-4be0-a64f-1459e97013a8"
      },
      "outputs": [
        {
          "name": "stdout",
          "output_type": "stream",
          "text": [
            "[[1.]\n",
            " [5.]\n",
            " [6.]\n",
            " ...\n",
            " [4.]\n",
            " [0.]\n",
            " [3.]]\n",
            "(7000, 1)\n",
            "1.0\n"
          ]
        }
      ],
      "source": [
        "print(tag_train)\n",
        "print(tag_train.shape)\n",
        "print(tag_train[0][0])"
      ]
    },
    {
      "cell_type": "code",
      "execution_count": 9,
      "metadata": {
        "id": "F-CsuvRiDQOM"
      },
      "outputs": [],
      "source": [
        "tag_train = keras.utils.to_categorical(tag_train, num_classes)\n",
        "tag_valid = keras.utils.to_categorical(tag_valid, num_classes)\n",
        "tag_eval = keras.utils.to_categorical(tag_eval, num_classes)"
      ]
    },
    {
      "cell_type": "code",
      "execution_count": null,
      "metadata": {
        "id": "5WsyJwMlDQON",
        "outputId": "9e5ae529-2a61-416b-91d9-31d146b2da20"
      },
      "outputs": [
        {
          "name": "stdout",
          "output_type": "stream",
          "text": [
            "[[0. 1. 0. ... 0. 0. 0.]\n",
            " [0. 0. 0. ... 0. 0. 0.]\n",
            " [0. 0. 0. ... 0. 0. 0.]\n",
            " ...\n",
            " [0. 0. 0. ... 0. 0. 0.]\n",
            " [1. 0. 0. ... 0. 0. 0.]\n",
            " [0. 0. 0. ... 0. 0. 0.]]\n",
            "(7000, 10)\n",
            "0.0\n"
          ]
        }
      ],
      "source": [
        "print(tag_train)\n",
        "print(tag_train.shape)\n",
        "print(tag_train[0][0])"
      ]
    },
    {
      "cell_type": "code",
      "execution_count": null,
      "metadata": {
        "id": "JPBfUvl8mh2a",
        "outputId": "94e4374d-ca6c-4426-ffc5-0ad716516e83"
      },
      "outputs": [
        {
          "ename": "NameError",
          "evalue": "name 'images' is not defined",
          "output_type": "error",
          "traceback": [
            "\u001b[0;31m---------------------------------------------------------------------------\u001b[0m",
            "\u001b[0;31mNameError\u001b[0m                                 Traceback (most recent call last)",
            "\u001b[0;32m<ipython-input-56-fc78f80d1034>\u001b[0m in \u001b[0;36m<module>\u001b[0;34m\u001b[0m\n\u001b[1;32m      1\u001b[0m \u001b[0;31m# carregando as imagens\u001b[0m\u001b[0;34m\u001b[0m\u001b[0;34m\u001b[0m\u001b[0;34m\u001b[0m\u001b[0m\n\u001b[1;32m      2\u001b[0m \u001b[0mdata\u001b[0m \u001b[0;34m=\u001b[0m \u001b[0;34m[\u001b[0m\u001b[0;34m]\u001b[0m\u001b[0;34m\u001b[0m\u001b[0;34m\u001b[0m\u001b[0m\n\u001b[0;32m----> 3\u001b[0;31m \u001b[0;32mfor\u001b[0m \u001b[0mimage\u001b[0m \u001b[0;32min\u001b[0m \u001b[0mimages\u001b[0m\u001b[0;34m:\u001b[0m\u001b[0;34m\u001b[0m\u001b[0;34m\u001b[0m\u001b[0m\n\u001b[0m\u001b[1;32m      4\u001b[0m     \u001b[0;31m#i = cv.imread(path + image, 0)\u001b[0m\u001b[0;34m\u001b[0m\u001b[0;34m\u001b[0m\u001b[0;34m\u001b[0m\u001b[0m\n\u001b[1;32m      5\u001b[0m     \u001b[0mimg\u001b[0m \u001b[0;34m=\u001b[0m \u001b[0mcarregaImagem\u001b[0m\u001b[0;34m(\u001b[0m\u001b[0mpath\u001b[0m \u001b[0;34m+\u001b[0m \u001b[0mimage\u001b[0m\u001b[0;34m)\u001b[0m\u001b[0;34m\u001b[0m\u001b[0;34m\u001b[0m\u001b[0m\n",
            "\u001b[0;31mNameError\u001b[0m: name 'images' is not defined"
          ]
        }
      ],
      "source": [
        "# carregando as imagens\n",
        "data = []\n",
        "for image in images:\n",
        "    #i = cv.imread(path + image, 0)\n",
        "    img = carregaImagem(path + image)\n",
        "    tag = formataTag(image)\n",
        "    blur = filtroGaussiano(img)\n",
        "    binImg = binarizacao(blur)\n",
        "    binImg = filtroMorfologico(binImg)\n",
        "    cnts = encontrarContornos(binImg)\n",
        "    cnts = ordenarContornos(cnts)\n",
        "    pos = extrairDadosContorno(cnts)\n",
        "    pos = trataContornos(pos)\n",
        "    marcado = marcarContorno(img.copy(), pos)\n",
        "    digitos = extrairDigitos(img, pos)\n",
        "    data.append((img, blur, binImg, cnts, pos, marcado, digitos, tag))"
      ]
    },
    {
      "cell_type": "code",
      "execution_count": null,
      "metadata": {
        "colab": {
          "base_uri": "https://localhost:8080/",
          "height": 336
        },
        "id": "aI7Eg5sV92mJ",
        "outputId": "c943ca44-e6da-4aac-db69-c2beaddd7020"
      },
      "outputs": [
        {
          "ename": "IndexError",
          "evalue": "list index out of range",
          "output_type": "error",
          "traceback": [
            "\u001b[0;31m---------------------------------------------------------------------------\u001b[0m",
            "\u001b[0;31mIndexError\u001b[0m                                Traceback (most recent call last)",
            "\u001b[0;32m<ipython-input-57-b7972ad5cc95>\u001b[0m in \u001b[0;36m<module>\u001b[0;34m\u001b[0m\n\u001b[0;32m----> 1\u001b[0;31m \u001b[0;34m(\u001b[0m\u001b[0mimg\u001b[0m\u001b[0;34m,\u001b[0m \u001b[0mblur\u001b[0m\u001b[0;34m,\u001b[0m \u001b[0mbinImg\u001b[0m\u001b[0;34m,\u001b[0m \u001b[0mcnts\u001b[0m\u001b[0;34m,\u001b[0m \u001b[0mpos\u001b[0m\u001b[0;34m,\u001b[0m \u001b[0mmarcado\u001b[0m\u001b[0;34m,\u001b[0m \u001b[0mdigitos\u001b[0m\u001b[0;34m,\u001b[0m \u001b[0mtag\u001b[0m\u001b[0;34m)\u001b[0m \u001b[0;34m=\u001b[0m \u001b[0mdata\u001b[0m\u001b[0;34m[\u001b[0m\u001b[0;36m24\u001b[0m\u001b[0;34m]\u001b[0m\u001b[0;34m\u001b[0m\u001b[0;34m\u001b[0m\u001b[0m\n\u001b[0m\u001b[1;32m      2\u001b[0m \u001b[0;34m\u001b[0m\u001b[0m\n\u001b[1;32m      3\u001b[0m \u001b[0mfig\u001b[0m\u001b[0;34m,\u001b[0m\u001b[0maxes\u001b[0m \u001b[0;34m=\u001b[0m \u001b[0mplt\u001b[0m\u001b[0;34m.\u001b[0m\u001b[0msubplots\u001b[0m\u001b[0;34m(\u001b[0m\u001b[0;36m5\u001b[0m\u001b[0;34m,\u001b[0m \u001b[0;36m1\u001b[0m\u001b[0;34m,\u001b[0m \u001b[0mfigsize\u001b[0m\u001b[0;34m=\u001b[0m\u001b[0;34m(\u001b[0m\u001b[0;36m15\u001b[0m\u001b[0;34m,\u001b[0m \u001b[0;36m5\u001b[0m\u001b[0;34m)\u001b[0m\u001b[0;34m)\u001b[0m\u001b[0;34m\u001b[0m\u001b[0;34m\u001b[0m\u001b[0m\n\u001b[1;32m      4\u001b[0m \u001b[0max\u001b[0m \u001b[0;34m=\u001b[0m \u001b[0maxes\u001b[0m\u001b[0;34m.\u001b[0m\u001b[0mravel\u001b[0m\u001b[0;34m(\u001b[0m\u001b[0;34m)\u001b[0m\u001b[0;34m\u001b[0m\u001b[0;34m\u001b[0m\u001b[0m\n\u001b[1;32m      5\u001b[0m \u001b[0;34m\u001b[0m\u001b[0m\n",
            "\u001b[0;31mIndexError\u001b[0m: list index out of range"
          ]
        }
      ],
      "source": [
        "(img, blur, binImg, cnts, pos, marcado, digitos, tag) = data[24]\n",
        "\n",
        "fig,axes = plt.subplots(5, 1, figsize=(15, 5))\n",
        "ax = axes.ravel()\n",
        "\n",
        "ax[0].imshow(cv.cvtColor(img, cv.COLOR_GRAY2BGR))\n",
        "ax[0].set_title(\"Imagem Original\")\n",
        "ax[0].set_axis_off()\n",
        "\n",
        "ax[1].imshow(cv.cvtColor(blur, cv.COLOR_GRAY2BGR))\n",
        "ax[1].set_title(\"Filtro Gaussiano\")\n",
        "ax[1].set_axis_off()\n",
        "\n",
        "ax[2].imshow(cv.cvtColor(binImg, cv.COLOR_GRAY2RGB))\n",
        "ax[2].set_title(\"Imagem Binarizada\")\n",
        "ax[2].set_axis_off()\n",
        "\n",
        "ax[3].imshow(cv.cvtColor(marcado, cv.COLOR_BGR2RGB))\n",
        "ax[3].set_title(\"Segmentos Marcados\")\n",
        "ax[3].set_axis_off()\n",
        "\n",
        "ax[4].imshow(cv.cvtColor(digitos[0], cv.COLOR_BGR2RGB))\n",
        "ax[4].set_title(\"Recorte\")\n",
        "ax[4].set_axis_off()\n",
        "\n",
        "print(tag)"
      ]
    },
    {
      "cell_type": "markdown",
      "metadata": {
        "id": "Xq8z6nFcSgCQ"
      },
      "source": [
        "# Criação e treinamento da MLP"
      ]
    },
    {
      "cell_type": "code",
      "execution_count": 10,
      "metadata": {
        "colab": {
          "base_uri": "https://localhost:8080/"
        },
        "id": "Y-M4x7nDGPjp",
        "outputId": "a0ebfe19-434a-4fbc-b134-dc70b68eed0e"
      },
      "outputs": [
        {
          "output_type": "stream",
          "name": "stdout",
          "text": [
            "Model: \"sequential\"\n",
            "_________________________________________________________________\n",
            " Layer (type)                Output Shape              Param #   \n",
            "=================================================================\n",
            " dense (Dense)               (None, 512)               524800    \n",
            "                                                                 \n",
            " activation (Activation)     (None, 512)               0         \n",
            "                                                                 \n",
            " dropout (Dropout)           (None, 512)               0         \n",
            "                                                                 \n",
            " dense_1 (Dense)             (None, 512)               262656    \n",
            "                                                                 \n",
            " activation_1 (Activation)   (None, 512)               0         \n",
            "                                                                 \n",
            " dropout_1 (Dropout)         (None, 512)               0         \n",
            "                                                                 \n",
            " dense_2 (Dense)             (None, 10)                5130      \n",
            "                                                                 \n",
            " activation_2 (Activation)   (None, 10)                0         \n",
            "                                                                 \n",
            " dropout_2 (Dropout)         (None, 10)                0         \n",
            "                                                                 \n",
            "=================================================================\n",
            "Total params: 792,586\n",
            "Trainable params: 792,586\n",
            "Non-trainable params: 0\n",
            "_________________________________________________________________\n"
          ]
        }
      ],
      "source": [
        "# Modelagem da MLP\n",
        "mlp = Sequential()\n",
        "mlp.add(Dense(512, input_shape=(1024,))) # entrada com imagens 32x32 -> vetor de 1024 posições, primeira camada com 512 neurônios\n",
        "mlp.add(Activation(\"relu\"))\n",
        "mlp.add(Dropout(0.2))\n",
        "\n",
        "mlp.add(Dense(512))\n",
        "mlp.add(Activation(\"relu\"))\n",
        "mlp.add(Dropout(0.2))\n",
        "\n",
        "mlp.add(Dense(10)) # Saída com 10 posições referentes as classes\n",
        "mlp.add(Activation(\"softmax\"))\n",
        "mlp.add(Dropout(0.2))\n",
        "\n",
        "mlp.summary()"
      ]
    },
    {
      "cell_type": "code",
      "execution_count": 11,
      "metadata": {
        "id": "zpWS8VsjRTfd"
      },
      "outputs": [],
      "source": [
        "# Compilando\n",
        "mlp.compile(loss='categorical_crossentropy', metrics=['accuracy'], optimizer='adam')"
      ]
    },
    {
      "cell_type": "code",
      "execution_count": 12,
      "metadata": {
        "colab": {
          "base_uri": "https://localhost:8080/",
          "height": 1000
        },
        "id": "BQHp6S2DSQPg",
        "outputId": "a3bf704e-df63-41b5-f46a-f54a0e6fda9b"
      },
      "outputs": [
        {
          "output_type": "stream",
          "name": "stdout",
          "text": [
            "Epoch 1/50\n",
            "\n",
            "Epoch 1: val_loss improved from inf to 0.40945, saving model to model.weights.best.hdf5\n",
            "55/55 - 2s - loss: 3.7496 - accuracy: 0.6386 - val_loss: 0.4095 - val_accuracy: 0.8746 - 2s/epoch - 40ms/step\n",
            "Epoch 2/50\n",
            "\n",
            "Epoch 2: val_loss improved from 0.40945 to 0.33519, saving model to model.weights.best.hdf5\n",
            "55/55 - 1s - loss: 3.5045 - accuracy: 0.7311 - val_loss: 0.3352 - val_accuracy: 0.8970 - 1s/epoch - 22ms/step\n",
            "Epoch 3/50\n",
            "\n",
            "Epoch 3: val_loss did not improve from 0.33519\n",
            "55/55 - 1s - loss: 3.4856 - accuracy: 0.7433 - val_loss: 0.3818 - val_accuracy: 0.8900 - 1s/epoch - 20ms/step\n",
            "Epoch 4/50\n",
            "\n",
            "Epoch 4: val_loss did not improve from 0.33519\n",
            "55/55 - 1s - loss: 3.3174 - accuracy: 0.7667 - val_loss: 0.3865 - val_accuracy: 0.8876 - 1s/epoch - 20ms/step\n",
            "Epoch 5/50\n",
            "\n",
            "Epoch 5: val_loss improved from 0.33519 to 0.29869, saving model to model.weights.best.hdf5\n",
            "55/55 - 1s - loss: 3.1503 - accuracy: 0.7807 - val_loss: 0.2987 - val_accuracy: 0.9153 - 1s/epoch - 20ms/step\n",
            "Epoch 6/50\n",
            "\n",
            "Epoch 6: val_loss improved from 0.29869 to 0.29547, saving model to model.weights.best.hdf5\n",
            "55/55 - 1s - loss: 3.3699 - accuracy: 0.7707 - val_loss: 0.2955 - val_accuracy: 0.9207 - 1s/epoch - 22ms/step\n",
            "Epoch 7/50\n",
            "\n",
            "Epoch 7: val_loss did not improve from 0.29547\n",
            "55/55 - 1s - loss: 3.4203 - accuracy: 0.7693 - val_loss: 0.3352 - val_accuracy: 0.9120 - 1s/epoch - 21ms/step\n",
            "Epoch 8/50\n",
            "\n",
            "Epoch 8: val_loss did not improve from 0.29547\n",
            "55/55 - 1s - loss: 3.2723 - accuracy: 0.7834 - val_loss: 0.3806 - val_accuracy: 0.9061 - 1s/epoch - 22ms/step\n",
            "Epoch 9/50\n",
            "\n",
            "Epoch 9: val_loss did not improve from 0.29547\n",
            "55/55 - 1s - loss: 3.4002 - accuracy: 0.7744 - val_loss: 0.3015 - val_accuracy: 0.9284 - 1s/epoch - 21ms/step\n",
            "Epoch 10/50\n",
            "\n",
            "Epoch 10: val_loss did not improve from 0.29547\n",
            "55/55 - 1s - loss: 3.3532 - accuracy: 0.7809 - val_loss: 0.3072 - val_accuracy: 0.9204 - 1s/epoch - 21ms/step\n",
            "Epoch 11/50\n",
            "\n",
            "Epoch 11: val_loss did not improve from 0.29547\n",
            "55/55 - 1s - loss: 3.2114 - accuracy: 0.7893 - val_loss: 0.3338 - val_accuracy: 0.9196 - 1s/epoch - 21ms/step\n",
            "Epoch 12/50\n",
            "\n",
            "Epoch 12: val_loss did not improve from 0.29547\n",
            "55/55 - 1s - loss: 3.1938 - accuracy: 0.7899 - val_loss: 0.3614 - val_accuracy: 0.9116 - 1s/epoch - 21ms/step\n",
            "Epoch 13/50\n",
            "\n",
            "Epoch 13: val_loss did not improve from 0.29547\n",
            "55/55 - 1s - loss: 3.1867 - accuracy: 0.7909 - val_loss: 0.3372 - val_accuracy: 0.9223 - 1s/epoch - 22ms/step\n",
            "Epoch 14/50\n",
            "\n",
            "Epoch 14: val_loss did not improve from 0.29547\n",
            "55/55 - 1s - loss: 3.2699 - accuracy: 0.7906 - val_loss: 0.3389 - val_accuracy: 0.9244 - 1s/epoch - 22ms/step\n",
            "Epoch 15/50\n",
            "\n",
            "Epoch 15: val_loss did not improve from 0.29547\n",
            "55/55 - 1s - loss: 3.2625 - accuracy: 0.7931 - val_loss: 0.3765 - val_accuracy: 0.9191 - 1s/epoch - 21ms/step\n",
            "Epoch 16/50\n",
            "\n",
            "Epoch 16: val_loss did not improve from 0.29547\n",
            "55/55 - 1s - loss: 3.2375 - accuracy: 0.7924 - val_loss: 0.3557 - val_accuracy: 0.9250 - 1s/epoch - 22ms/step\n",
            "Epoch 17/50\n",
            "\n",
            "Epoch 17: val_loss did not improve from 0.29547\n",
            "55/55 - 1s - loss: 3.2970 - accuracy: 0.7896 - val_loss: 0.3465 - val_accuracy: 0.9244 - 1s/epoch - 22ms/step\n",
            "Epoch 18/50\n",
            "\n",
            "Epoch 18: val_loss did not improve from 0.29547\n",
            "55/55 - 1s - loss: 3.2252 - accuracy: 0.7934 - val_loss: 0.4280 - val_accuracy: 0.9201 - 1s/epoch - 22ms/step\n",
            "Epoch 19/50\n",
            "\n",
            "Epoch 19: val_loss did not improve from 0.29547\n",
            "55/55 - 1s - loss: 3.2939 - accuracy: 0.7887 - val_loss: 0.3552 - val_accuracy: 0.9257 - 1s/epoch - 22ms/step\n",
            "Epoch 20/50\n",
            "\n",
            "Epoch 20: val_loss did not improve from 0.29547\n",
            "55/55 - 1s - loss: 3.2654 - accuracy: 0.7926 - val_loss: 0.3881 - val_accuracy: 0.9210 - 1s/epoch - 22ms/step\n",
            "Epoch 21/50\n",
            "\n",
            "Epoch 21: val_loss did not improve from 0.29547\n",
            "55/55 - 1s - loss: 3.3574 - accuracy: 0.7853 - val_loss: 0.4070 - val_accuracy: 0.9180 - 1s/epoch - 22ms/step\n",
            "Epoch 22/50\n",
            "\n",
            "Epoch 22: val_loss did not improve from 0.29547\n",
            "55/55 - 1s - loss: 3.2029 - accuracy: 0.7927 - val_loss: 0.3894 - val_accuracy: 0.9249 - 1s/epoch - 22ms/step\n",
            "Epoch 23/50\n",
            "\n",
            "Epoch 23: val_loss did not improve from 0.29547\n",
            "55/55 - 1s - loss: 3.3206 - accuracy: 0.7884 - val_loss: 0.3490 - val_accuracy: 0.9296 - 1s/epoch - 22ms/step\n",
            "Epoch 24/50\n",
            "\n",
            "Epoch 24: val_loss did not improve from 0.29547\n",
            "55/55 - 1s - loss: 3.3834 - accuracy: 0.7866 - val_loss: 0.3845 - val_accuracy: 0.9267 - 1s/epoch - 20ms/step\n",
            "Epoch 25/50\n",
            "\n",
            "Epoch 25: val_loss did not improve from 0.29547\n",
            "55/55 - 1s - loss: 3.2636 - accuracy: 0.7940 - val_loss: 0.4121 - val_accuracy: 0.9246 - 1s/epoch - 20ms/step\n",
            "Epoch 26/50\n",
            "\n",
            "Epoch 26: val_loss did not improve from 0.29547\n",
            "55/55 - 1s - loss: 3.3332 - accuracy: 0.7889 - val_loss: 0.4066 - val_accuracy: 0.9239 - 1s/epoch - 19ms/step\n",
            "Epoch 27/50\n",
            "\n",
            "Epoch 27: val_loss did not improve from 0.29547\n",
            "55/55 - 1s - loss: 3.1068 - accuracy: 0.8019 - val_loss: 0.3775 - val_accuracy: 0.9269 - 1s/epoch - 20ms/step\n",
            "Epoch 28/50\n",
            "\n",
            "Epoch 28: val_loss did not improve from 0.29547\n",
            "55/55 - 1s - loss: 3.1514 - accuracy: 0.8003 - val_loss: 0.4376 - val_accuracy: 0.9156 - 1s/epoch - 20ms/step\n",
            "Epoch 29/50\n",
            "\n",
            "Epoch 29: val_loss did not improve from 0.29547\n",
            "55/55 - 1s - loss: 3.3529 - accuracy: 0.7859 - val_loss: 0.4345 - val_accuracy: 0.9216 - 1s/epoch - 20ms/step\n",
            "Epoch 30/50\n",
            "\n",
            "Epoch 30: val_loss did not improve from 0.29547\n",
            "55/55 - 1s - loss: 3.1692 - accuracy: 0.7986 - val_loss: 0.3911 - val_accuracy: 0.9273 - 1s/epoch - 19ms/step\n",
            "Epoch 31/50\n",
            "\n",
            "Epoch 31: val_loss did not improve from 0.29547\n",
            "55/55 - 1s - loss: 3.2182 - accuracy: 0.7984 - val_loss: 0.3905 - val_accuracy: 0.9330 - 1s/epoch - 20ms/step\n",
            "Epoch 32/50\n",
            "\n",
            "Epoch 32: val_loss did not improve from 0.29547\n",
            "55/55 - 1s - loss: 3.1621 - accuracy: 0.8003 - val_loss: 0.4315 - val_accuracy: 0.9223 - 1s/epoch - 20ms/step\n",
            "Epoch 33/50\n",
            "\n",
            "Epoch 33: val_loss did not improve from 0.29547\n",
            "55/55 - 1s - loss: 3.4263 - accuracy: 0.7816 - val_loss: 0.4397 - val_accuracy: 0.9190 - 1s/epoch - 19ms/step\n",
            "Epoch 34/50\n",
            "\n",
            "Epoch 34: val_loss did not improve from 0.29547\n",
            "55/55 - 1s - loss: 3.3109 - accuracy: 0.7900 - val_loss: 0.4198 - val_accuracy: 0.9244 - 1s/epoch - 19ms/step\n",
            "Epoch 35/50\n",
            "\n",
            "Epoch 35: val_loss did not improve from 0.29547\n",
            "55/55 - 1s - loss: 3.2583 - accuracy: 0.7899 - val_loss: 0.3739 - val_accuracy: 0.9311 - 1s/epoch - 19ms/step\n",
            "Epoch 36/50\n",
            "\n",
            "Epoch 36: val_loss did not improve from 0.29547\n",
            "55/55 - 1s - loss: 3.3465 - accuracy: 0.7840 - val_loss: 0.4056 - val_accuracy: 0.9231 - 1s/epoch - 19ms/step\n",
            "Epoch 37/50\n",
            "\n",
            "Epoch 37: val_loss did not improve from 0.29547\n",
            "55/55 - 1s - loss: 3.3502 - accuracy: 0.7883 - val_loss: 0.3696 - val_accuracy: 0.9303 - 1s/epoch - 19ms/step\n",
            "Epoch 38/50\n",
            "\n",
            "Epoch 38: val_loss did not improve from 0.29547\n",
            "55/55 - 1s - loss: 3.1589 - accuracy: 0.8021 - val_loss: 0.4032 - val_accuracy: 0.9294 - 1s/epoch - 19ms/step\n",
            "Epoch 39/50\n",
            "\n",
            "Epoch 39: val_loss did not improve from 0.29547\n",
            "55/55 - 1s - loss: 3.1566 - accuracy: 0.8004 - val_loss: 0.4444 - val_accuracy: 0.9233 - 1s/epoch - 19ms/step\n",
            "Epoch 40/50\n",
            "\n",
            "Epoch 40: val_loss did not improve from 0.29547\n",
            "55/55 - 1s - loss: 3.1541 - accuracy: 0.8013 - val_loss: 0.4379 - val_accuracy: 0.9239 - 1s/epoch - 19ms/step\n",
            "Epoch 41/50\n",
            "\n",
            "Epoch 41: val_loss did not improve from 0.29547\n",
            "55/55 - 1s - loss: 3.4665 - accuracy: 0.7823 - val_loss: 0.4738 - val_accuracy: 0.9166 - 1s/epoch - 19ms/step\n",
            "Epoch 42/50\n",
            "\n",
            "Epoch 42: val_loss did not improve from 0.29547\n",
            "55/55 - 1s - loss: 3.2303 - accuracy: 0.7951 - val_loss: 0.4179 - val_accuracy: 0.9281 - 1s/epoch - 20ms/step\n",
            "Epoch 43/50\n",
            "\n",
            "Epoch 43: val_loss did not improve from 0.29547\n",
            "55/55 - 1s - loss: 3.1942 - accuracy: 0.7956 - val_loss: 0.4412 - val_accuracy: 0.9220 - 1s/epoch - 24ms/step\n",
            "Epoch 44/50\n",
            "\n",
            "Epoch 44: val_loss did not improve from 0.29547\n",
            "55/55 - 1s - loss: 3.1096 - accuracy: 0.8040 - val_loss: 0.4151 - val_accuracy: 0.9290 - 1s/epoch - 27ms/step\n",
            "Epoch 45/50\n",
            "\n",
            "Epoch 45: val_loss did not improve from 0.29547\n",
            "55/55 - 1s - loss: 3.1526 - accuracy: 0.7986 - val_loss: 0.4577 - val_accuracy: 0.9203 - 1s/epoch - 26ms/step\n",
            "Epoch 46/50\n",
            "\n",
            "Epoch 46: val_loss did not improve from 0.29547\n",
            "55/55 - 1s - loss: 3.2238 - accuracy: 0.7954 - val_loss: 0.4617 - val_accuracy: 0.9241 - 1s/epoch - 19ms/step\n",
            "Epoch 47/50\n",
            "\n",
            "Epoch 47: val_loss did not improve from 0.29547\n",
            "55/55 - 1s - loss: 3.3352 - accuracy: 0.7887 - val_loss: 0.4705 - val_accuracy: 0.9256 - 1s/epoch - 19ms/step\n",
            "Epoch 48/50\n",
            "\n",
            "Epoch 48: val_loss did not improve from 0.29547\n",
            "55/55 - 1s - loss: 3.2702 - accuracy: 0.7933 - val_loss: 0.4188 - val_accuracy: 0.9317 - 1s/epoch - 19ms/step\n",
            "Epoch 49/50\n",
            "\n",
            "Epoch 49: val_loss did not improve from 0.29547\n",
            "55/55 - 1s - loss: 3.2351 - accuracy: 0.7970 - val_loss: 0.4148 - val_accuracy: 0.9349 - 1s/epoch - 19ms/step\n",
            "Epoch 50/50\n",
            "\n",
            "Epoch 50: val_loss did not improve from 0.29547\n",
            "55/55 - 1s - loss: 3.2230 - accuracy: 0.7970 - val_loss: 0.4765 - val_accuracy: 0.9233 - 1s/epoch - 19ms/step\n"
          ]
        },
        {
          "output_type": "error",
          "ename": "KeyError",
          "evalue": "ignored",
          "traceback": [
            "\u001b[0;31m---------------------------------------------------------------------------\u001b[0m",
            "\u001b[0;31mKeyError\u001b[0m                                  Traceback (most recent call last)",
            "\u001b[0;32m<ipython-input-12-71f5f8a865eb>\u001b[0m in \u001b[0;36m<module>\u001b[0;34m\u001b[0m\n\u001b[1;32m     10\u001b[0m \u001b[0mfig\u001b[0m \u001b[0;34m=\u001b[0m \u001b[0mplt\u001b[0m\u001b[0;34m.\u001b[0m\u001b[0mfigure\u001b[0m\u001b[0;34m(\u001b[0m\u001b[0;34m)\u001b[0m\u001b[0;34m\u001b[0m\u001b[0;34m\u001b[0m\u001b[0m\n\u001b[1;32m     11\u001b[0m \u001b[0mplt\u001b[0m\u001b[0;34m.\u001b[0m\u001b[0msubplot\u001b[0m\u001b[0;34m(\u001b[0m\u001b[0;36m2\u001b[0m\u001b[0;34m,\u001b[0m\u001b[0;36m1\u001b[0m\u001b[0;34m,\u001b[0m\u001b[0;36m1\u001b[0m\u001b[0;34m)\u001b[0m\u001b[0;34m\u001b[0m\u001b[0;34m\u001b[0m\u001b[0m\n\u001b[0;32m---> 12\u001b[0;31m \u001b[0mplt\u001b[0m\u001b[0;34m.\u001b[0m\u001b[0mplot\u001b[0m\u001b[0;34m(\u001b[0m\u001b[0mhistory\u001b[0m\u001b[0;34m.\u001b[0m\u001b[0mhistory\u001b[0m\u001b[0;34m[\u001b[0m\u001b[0;34m'acc'\u001b[0m\u001b[0;34m]\u001b[0m\u001b[0;34m)\u001b[0m\u001b[0;34m\u001b[0m\u001b[0;34m\u001b[0m\u001b[0m\n\u001b[0m\u001b[1;32m     13\u001b[0m \u001b[0mplt\u001b[0m\u001b[0;34m.\u001b[0m\u001b[0mplot\u001b[0m\u001b[0;34m(\u001b[0m\u001b[0mhistory\u001b[0m\u001b[0;34m.\u001b[0m\u001b[0mhistory\u001b[0m\u001b[0;34m[\u001b[0m\u001b[0;34m'val_acc'\u001b[0m\u001b[0;34m]\u001b[0m\u001b[0;34m)\u001b[0m\u001b[0;34m\u001b[0m\u001b[0;34m\u001b[0m\u001b[0m\n\u001b[1;32m     14\u001b[0m \u001b[0mplt\u001b[0m\u001b[0;34m.\u001b[0m\u001b[0mtitle\u001b[0m\u001b[0;34m(\u001b[0m\u001b[0;34m'model accuracy'\u001b[0m\u001b[0;34m)\u001b[0m\u001b[0;34m\u001b[0m\u001b[0;34m\u001b[0m\u001b[0m\n",
            "\u001b[0;31mKeyError\u001b[0m: 'acc'"
          ]
        },
        {
          "output_type": "display_data",
          "data": {
            "text/plain": [
              "<Figure size 432x288 with 1 Axes>"
            ],
            "image/png": "[encoded data removed]"
          },
          "metadata": {
            "needs_background": "light"
          }
        }
      ],
      "source": [
        "#Treinamento\n",
        "\n",
        "# Salva os melhores resultados\n",
        "from keras.callbacks import ModelCheckpoint   \n",
        "checkpointer = ModelCheckpoint(filepath='model.weights.best.hdf5', verbose=1, save_best_only=True)\n",
        "\n",
        "history = mlp.fit(x_train, tag_train, 128, epochs=50, validation_data=(x_valid, tag_valid), verbose=2, callbacks=[checkpointer])\n",
        "\n",
        "# plotting the metrics\n",
        "fig = plt.figure()\n",
        "plt.subplot(2,1,1)\n",
        "plt.plot(history.history['acc'])\n",
        "plt.plot(history.history['val_acc'])\n",
        "plt.title('model accuracy')\n",
        "plt.ylabel('accuracy')\n",
        "plt.xlabel('epoch')\n",
        "plt.legend(['train', 'test'], loc='lower right')\n",
        "\n",
        "plt.subplot(2,1,2)\n",
        "plt.plot(history.history['loss'])\n",
        "plt.plot(history.history['val_loss'])\n",
        "plt.title('model loss')\n",
        "plt.ylabel('loss')\n",
        "plt.xlabel('epoch')\n",
        "plt.legend(['train', 'test'], loc='upper right')\n",
        "\n",
        "plt.tight_layout()\n",
        "\n",
        "fig"
      ]
    },
    {
      "cell_type": "code",
      "execution_count": 14,
      "metadata": {
        "id": "OcZoj3MHbpiD"
      },
      "outputs": [],
      "source": [
        "# Carrega o modelo com os melhores valores\n",
        "mlp.load_weights('model.weights.best.hdf5')"
      ]
    },
    {
      "cell_type": "code",
      "execution_count": 15,
      "metadata": {
        "colab": {
          "base_uri": "https://localhost:8080/"
        },
        "id": "0pkNR8_KemTr",
        "outputId": "99eaea0f-68c4-4eef-8800-19f0c3f7e181"
      },
      "outputs": [
        {
          "output_type": "stream",
          "name": "stdout",
          "text": [
            "219/219 - 1s - loss: 0.2958 - accuracy: 0.9187 - 738ms/epoch - 3ms/step\n",
            "\n",
            " Test accuracy: 0.9187142848968506\n",
            "Test loss 0.29580482840538025\n"
          ]
        }
      ],
      "source": [
        "# Avalia os resultados\n",
        "# evaluate and print test accuracy\n",
        "score = mlp.evaluate(x_eval, tag_eval, verbose=2)\n",
        "\n",
        "print('\\n', 'Test accuracy:', score[1])\n",
        "print(\"Test loss\", score[0])"
      ]
    },
    {
      "cell_type": "code",
      "execution_count": 16,
      "metadata": {
        "colab": {
          "base_uri": "https://localhost:8080/"
        },
        "id": "ZvNBRlM8fsv9",
        "outputId": "d276095b-202f-4a70-beb9-7ff877fac544"
      },
      "outputs": [
        {
          "output_type": "stream",
          "name": "stdout",
          "text": [
            "['0', '1', '2', '3', '4', '5', '6', '7', '8', '9']\n"
          ]
        }
      ],
      "source": [
        "# Predições\n",
        "\n",
        "predict = mlp.predict(x_eval)\n",
        "\n",
        "labels = [str(i) for i in range(10)]\n",
        "\n",
        "print(labels)"
      ]
    },
    {
      "cell_type": "code",
      "source": [
        "print(predict[0])\n",
        "print(np.argmax(predict[0]))\n",
        "i = np.argmax(predict[0])\n",
        "print(tag_eval[0])\n",
        "print(np.argmax(tag_eval[0]))"
      ],
      "metadata": {
        "id": "laHZsAi0Ed1n",
        "outputId": "55b90dd2-96ab-4f84-c9a2-47577c9282e7",
        "colab": {
          "base_uri": "https://localhost:8080/"
        }
      },
      "execution_count": 21,
      "outputs": [
        {
          "output_type": "stream",
          "name": "stdout",
          "text": [
            "[1.0541290e-09 6.4945391e-09 6.1175349e-08 9.9848133e-01 4.3602416e-10\n",
            " 8.6690952e-06 6.9367199e-11 1.7722400e-07 1.8778985e-07 1.5095191e-03]\n",
            "3\n",
            "[0. 0. 0. 1. 0. 0. 0. 0. 0. 0.]\n",
            "3\n"
          ]
        }
      ]
    },
    {
      "cell_type": "code",
      "execution_count": null,
      "metadata": {
        "colab": {
          "base_uri": "https://localhost:8080/",
          "height": 485
        },
        "id": "peF1Kw34grV1",
        "outputId": "e327cdb1-61f4-4362-bc32-f25dbeb06775"
      },
      "outputs": [
        {
          "data": {
            "image/png": "[encoded data removed]",
            "text/plain": [
              "<Figure size 1440x576 with 32 Axes>"
            ]
          },
          "metadata": {
            "tags": []
          },
          "output_type": "display_data"
        }
      ],
      "source": [
        "# plot a random sample of test images, their predicted labels, and ground truth\n",
        "fig = plt.figure(figsize=(20, 8))\n",
        "for i, idx in enumerate(np.random.choice(x_eval.shape[0], size=32, replace=False)):\n",
        "    ax = fig.add_subplot(4, 8, i + 1, xticks=[], yticks=[])\n",
        "    ax.imshow(np.squeeze(x_eval[idx].reshape(32,32)))\n",
        "    pred_idx = np.argmax(predict[idx])\n",
        "    true_idx = np.argmax(tag_eval[idx])\n",
        "    ax.set_title(\"{} ({})\".format(labels[pred_idx], labels[true_idx]),\n",
        "                 color=(\"green\" if pred_idx == true_idx else \"red\"))"
      ]
    },
    {
      "cell_type": "code",
      "execution_count": null,
      "metadata": {
        "id": "XwwPSJ36rCr5"
      },
      "outputs": [],
      "source": [
        "# Salva dados do modelo no pc\n",
        "from google.colab import files\n",
        "\n",
        "#files.download(\"model.weights.best.hdf5\")"
      ]
    },
    {
      "cell_type": "markdown",
      "metadata": {
        "id": "SeY3YQRrslSv"
      },
      "source": [
        "# Classificação dos dígitos"
      ]
    },
    {
      "cell_type": "code",
      "execution_count": null,
      "metadata": {
        "colab": {
          "base_uri": "https://localhost:8080/",
          "height": 233
        },
        "id": "PelStVt0s3KG",
        "outputId": "49104d79-d1c4-461b-89c8-a3e0c3474ed0"
      },
      "outputs": [
        {
          "name": "stdout",
          "output_type": "stream",
          "text": [
            "\n",
            " Test accuracy: 1.0\n",
            "Test loss 0.010124290362000465\n"
          ]
        },
        {
          "data": {
            "image/png": "[encoded data removed]",
            "text/plain": [
              "<Figure size 504x1008 with 1 Axes>"
            ]
          },
          "metadata": {
            "tags": []
          },
          "output_type": "display_data"
        }
      ],
      "source": [
        "i =  data[0]\n",
        "digitos = i[6]\n",
        "# plt.imshow(cv.cvtColor(digitos[0], cv.COLOR_BGR2RGB))\n",
        "# plt.show()\n",
        "# print(type(digitos))\n",
        "# print(len(digitos))\n",
        "data = np.ndarray((len(digitos), 32*32))\n",
        "tag = i[7]\n",
        "\n",
        "labels = [str(i) for i in range(10)]\n",
        "\n",
        "\n",
        "for j in range(len(digitos)):\n",
        "    digitos[j] = binarizacao(digitos[j])\n",
        "    data[j] = (digitos[j].flatten())/255\n",
        "tag = keras.utils.to_categorical(tag, num_classes)\n",
        "score = mlp.evaluate(data, tag, verbose=2)\n",
        "\n",
        "predict = mlp.predict(data)\n",
        "print('\\n', 'Test accuracy:'  , score[1])\n",
        "print(\"Test loss\", score[0])\n",
        "\n",
        "\n",
        "\n",
        "final = i[0]\n",
        "pos = i[4]\n",
        "color = (0,0,0)\n",
        "for idx in range(len(tag)):\n",
        "    pred_idx = np.argmax(predict[idx])\n",
        "    true_idx = np.argmax(tag[idx])\n",
        "    if(labels[true_idx] == labels[pred_idx]):\n",
        "        color = (0,255,0)\n",
        "    else:\n",
        "        color = (0,0,255)\n",
        "    (x, y, w, h) = pos[idx]\n",
        "    cv.rectangle(final, (x, y), (x + w, y + h), color, 2)\n",
        "plt.imshow(cv.cvtColor(final, cv.COLOR_BGR2RGB))\n",
        "plt.show()\n",
        "\n",
        "# for i in data:\n",
        "#     digitos = i[6]\n",
        "#     tag = i[7]\n",
        "#     for j in range(len(digitos)):\n",
        "#         digitos[j] = binarizacao(digitos[j])\n",
        "#         digitos[j] = digitos[j].flatten()\n",
        "#     try:\n",
        "#         score = mlp.evaluate(digitos, tag, verbose=2)\n",
        "\n",
        "#         print('\\n', 'Test accuracy:'  , score[1])\n",
        "#         print(\"Test loss\", score[0])\n",
        "#     except:\n",
        "#         print(\"Erro na execução\")"
      ]
    }
  ],
  "metadata": {
    "colab": {
      "name": "digit-recognition.ipynb",
      "provenance": [],
      "include_colab_link": true
    },
    "kernelspec": {
      "display_name": "Python 3",
      "language": "python",
      "name": "python3"
    },
    "language_info": {
      "codemirror_mode": {
        "name": "ipython",
        "version": 3
      },
      "file_extension": ".py",
      "mimetype": "text/x-python",
      "name": "python",
      "nbconvert_exporter": "python",
      "pygments_lexer": "ipython3",
      "version": "3.8.10"
    }
  },
  "nbformat": 4,
  "nbformat_minor": 0
}