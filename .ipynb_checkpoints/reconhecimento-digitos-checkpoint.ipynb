{
  "nbformat": 4,
  "nbformat_minor": 0,
  "metadata": {
    "kernelspec": {
      "display_name": "Python 3",
      "language": "python",
      "name": "python3"
    },
    "language_info": {
      "codemirror_mode": {
        "name": "ipython",
        "version": 3
      },
      "file_extension": ".py",
      "mimetype": "text/x-python",
      "name": "python",
      "nbconvert_exporter": "python",
      "pygments_lexer": "ipython3",
      "version": "3.7.3"
    },
    "colab": {
      "name": "reconhecimento-digitos-checkpoint.ipynb",
      "provenance": [],
      "include_colab_link": true
    }
  },
  "cells": [
    {
      "cell_type": "markdown",
      "metadata": {
        "id": "view-in-github",
        "colab_type": "text"
      },
      "source": [
        "<a href=\"https://colab.research.google.com/github/DanDas3/reconhecimento-digitos/blob/master/.ipynb_checkpoints/reconhecimento-digitos-checkpoint.ipynb\" target=\"_parent\"><img src=\"https://colab.research.google.com/assets/colab-badge.svg\" alt=\"Open In Colab\"/></a>"
      ]
    },
    {
      "cell_type": "code",
      "metadata": {
        "id": "bjxq-ly52WPq",
        "colab_type": "code",
        "colab": {}
      },
      "source": [
        "#coding: utf-8\n",
        "import cv2 as cv\n",
        "import numpy as np\n",
        "import os\n",
        "from matplotlib import pyplot as plt\n",
        "from getpass import getpass\n",
        "from os import listdir\n",
        "from os.path import isfile, join"
      ],
      "execution_count": 0,
      "outputs": []
    },
    {
      "cell_type": "code",
      "metadata": {
        "id": "K2txYIOpyUAM",
        "colab_type": "code",
        "colab": {}
      },
      "source": [
        "root = \"reconhecimento-digitos\"\n",
        "data_root = \"data\"\n",
        "out_path_root = \"output\"\n",
        "string_trains = \"cvl-strings-train/train\"\n",
        "string_eval = \"cvl-strings-eval/cvl-strings-eval\""
      ],
      "execution_count": 0,
      "outputs": []
    },
    {
      "cell_type": "code",
      "metadata": {
        "id": "FE0yA88c2WO9",
        "colab_type": "code",
        "colab": {}
      },
      "source": [
        "if os.path.exists(root) == False:\n",
        "  !git clone https://github.com/DanDas3/reconhecimento-digitos.git"
      ],
      "execution_count": 0,
      "outputs": []
    },
    {
      "cell_type": "code",
      "metadata": {
        "id": "Y32cpxgy2WQM",
        "colab_type": "code",
        "colab": {}
      },
      "source": [
        "# Funções\n",
        "\n",
        "def convertBin(img):\n",
        "  return cv.threshold(img, 200, 255, cv.THRESH_BINARY)\n",
        "\n",
        "def segmenta(img):\n",
        "  linha = img.shape[0]\n",
        "  coluna = img.shape[1]\n",
        "  \n",
        "  # armazena uma tupla com o inicio e fim do dígito\n",
        "  posicoes = []\n",
        "\n",
        "  inicioBool = False\n",
        "  #fimBool = False\n",
        "  xInicial = 0\n",
        "  xFinal = 0\n",
        "  countPreto = 0\n",
        "\n",
        "  for x in range(coluna):\n",
        "    for y in range(linha):\n",
        "      if(pb[y][x] == 0):\n",
        "        if (inicioBool == False):\n",
        "          inicioBool = True\n",
        "          xInicial = x;\n",
        "\n",
        "        countPreto += 1\n",
        "    if(countPreto == 0 and inicioBool == True):\n",
        "        xFinal = x\n",
        "        inicioBool = False\n",
        "        posicoes.append(((xInicial,0+5), (xFinal, pb.shape[0]-5)))  \n",
        "    countPreto = 0\n",
        "  return posicoes\n",
        "\n",
        "def marcarSegmentos(img, positions):\n",
        "  for position in positions:\n",
        "    cv.rectangle(img, position[0],position[1],(0,0,0),thickness=2)\n",
        "  return img"
      ],
      "execution_count": 0,
      "outputs": []
    },
    {
      "cell_type": "code",
      "metadata": {
        "id": "W9Ad8kx52WRC",
        "colab_type": "code",
        "outputId": "524ee042-edb2-4e33-f94a-a6b5b73c70cb",
        "colab": {
          "base_uri": "https://localhost:8080/",
          "height": 135
        }
      },
      "source": [
        "# Execução\n",
        "path = root + \"/\" + data_root + \"/\" + string_trains + \"/\"\n",
        "out_path = root + \"/\" + data_root + \"/\" + out_path_root + \"/\" + string_trains + \"/\"\n",
        "images = [f for f in listdir(path) if isfile(join(path, f))]\n",
        "\n",
        "for image in images:\n",
        "  img  cv.imread(image,0)\n",
        "  pb = convertBin(img)\n",
        "  segmentos = segmenta(pb)\n",
        "  image = marcarSegmentos(image, segmentos)\n",
        "  print(out_path + image)\n",
        "  #cv.imwrite"
      ],
      "execution_count": 53,
      "outputs": [
        {
          "output_type": "error",
          "ename": "SyntaxError",
          "evalue": "ignored",
          "traceback": [
            "\u001b[0;36m  File \u001b[0;32m\"<ipython-input-53-65742a45a789>\"\u001b[0;36m, line \u001b[0;32m6\u001b[0m\n\u001b[0;31m    img  cv.imread(image,0)\u001b[0m\n\u001b[0m          ^\u001b[0m\n\u001b[0;31mSyntaxError\u001b[0m\u001b[0;31m:\u001b[0m invalid syntax\n"
          ]
        }
      ]
    },
    {
      "cell_type": "code",
      "metadata": {
        "id": "oH_BWIo72WQs",
        "colab_type": "code",
        "outputId": "356fa03f-754a-47b5-880a-1a513b113aa3",
        "colab": {
          "base_uri": "https://localhost:8080/",
          "height": 429
        }
      },
      "source": [
        "# Testes\n",
        "#img = cv.imread(\"reconhecimento-digitos/data/cvl-strings-train/train/135579-0001-10.png\", 0)\n",
        "img = cv.imread(root + \"/\" + data_root + \"/\" + string_trains + \"/\" + \"135579-0041-10.png\", 0)\n",
        "#img = cv.imread(root + \"/\" + data_root + \"/\" + string_trains + \"/\" + \"609251-0180-05.png\", 0)\n",
        "#img = cv.imread(root + \"/\" + data_root + \"/\" + string_trains + \"/\" + \"7062543-0081-01.png\", 0)\n",
        "\n",
        "# 200\n",
        "# 250\n",
        "ret, pb = cv.threshold(img, 200, 255, cv.THRESH_BINARY)\n",
        "\n",
        "#pb = cv.dilate(pb, cv.getStructuringElement(cv.MORPH_CROSS,(3,3)),iterations=1)\n",
        "\n",
        "#pb = cv.medianBlur(pb, 3)\n",
        "\n",
        "print(pb.shape)\n",
        "\n",
        "linha = pb.shape[0]\n",
        "coluna = pb.shape[1]\n",
        "\n",
        "print(pb[0][0])\n",
        "\n",
        "# armazena uma tupla com o inicio e fim do dígito\n",
        "posicoes = []\n",
        "pretosColuna = []\n",
        "\n",
        "inicioBool = False\n",
        "#fimBool = False\n",
        "xInicial = 0\n",
        "xFinal = 0\n",
        "countPreto = 0\n",
        "\n",
        "for x in range(coluna):\n",
        "  for y in range(linha):\n",
        "    if(pb[y][x] == 0):\n",
        "      #if (inicioBool == False):\n",
        "      #  inicioBool = True\n",
        "      #  xInicial = x;        \n",
        "      countPreto += 1\n",
        "  #if(countPreto == 0 and inicioBool == True):\n",
        "  #    xFinal = x\n",
        "  #    inicioBool = False\n",
        "  #    posicoes.append(((xInicial,5), (xFinal, pb.shape[0]-5)))\n",
        "  pretosColuna.append(countPreto)\n",
        "  countPreto = 0\n",
        "print(pretosColuna)\n",
        "\n",
        "for x in range(len(pretosColuna)):\n",
        "  if(pretosColuna[x] > 5):\n",
        "    if inicioBool == False:\n",
        "      inicioBool = True\n",
        "      xInicial = x\n",
        "  else:\n",
        "    if inicioBool == True:\n",
        "      xFinal = x\n",
        "      if (xFinal - xInicial)> 7:\n",
        "        inicioBool = False\n",
        "        posicoes.append(((xInicial,5), (xFinal, pb.shape[0]-5)))\n",
        "#posicoes = segmenta(pb)\n",
        "print(\"Dígitos identificados:\",len(posicoes))\n",
        "\n",
        "color = cv.cvtColor(img, cv.COLOR_GRAY2RGB)\n",
        "\n",
        "for limits in posicoes:\n",
        "  #cv.rectangle(img, limits[0],limits[1],(0,0,0),thickness=1)\n",
        "  cv.rectangle(color, limits[0],limits[1],(255,0,0),thickness=1)\n",
        "#col\n",
        "#plt.imshow(cv.cvtColor(img, cv.COLOR_GRAY2RGB))\n",
        "\n",
        "fig,axes = plt.subplots(3, 1, figsize=(15, 5))\n",
        "ax = axes.ravel()\n",
        "\n",
        "ax[0].imshow(cv.cvtColor(img, cv.COLOR_GRAY2RGB))\n",
        "ax[0].set_title(\"Imagem Original\")\n",
        "ax[0].set_axis_off()\n",
        "\n",
        "ax[1].imshow(cv.cvtColor(pb, cv.COLOR_GRAY2RGB))\n",
        "ax[1].set_title(\"Limiarização\")\n",
        "ax[1].set_axis_off()\n",
        "\n",
        "ax[2].imshow(color)\n",
        "ax[2].set_title(\"Imagem Saída\")\n",
        "ax[2].set_axis_off()\n",
        "\n",
        "\n",
        "#plt.imshow(color)\n",
        "plt.show()\n"
      ],
      "execution_count": 151,
      "outputs": [
        {
          "output_type": "stream",
          "text": [
            "(86, 294)\n",
            "255\n",
            "[0, 0, 7, 11, 9, 8, 8, 8, 8, 8, 14, 19, 22, 23, 26, 26, 23, 17, 17, 19, 21, 24, 30, 25, 19, 17, 5, 0, 0, 0, 0, 0, 0, 3, 18, 22, 25, 16, 17, 16, 20, 20, 21, 24, 28, 36, 38, 35, 28, 22, 21, 22, 19, 16, 8, 0, 0, 4, 6, 6, 4, 8, 11, 14, 17, 19, 22, 24, 23, 26, 30, 30, 28, 23, 18, 6, 6, 6, 6, 6, 6, 6, 6, 6, 7, 7, 6, 6, 6, 6, 6, 6, 6, 6, 5, 6, 5, 5, 5, 5, 5, 5, 4, 4, 4, 4, 15, 16, 13, 9, 6, 5, 5, 14, 21, 25, 27, 31, 26, 27, 29, 34, 35, 30, 26, 20, 5, 6, 5, 5, 6, 6, 6, 5, 6, 6, 6, 6, 5, 6, 6, 6, 6, 6, 6, 6, 6, 6, 6, 5, 5, 5, 4, 3, 1, 0, 0, 0, 0, 0, 0, 0, 0, 0, 0, 0, 0, 0, 0, 0, 0, 0, 0, 0, 0, 0, 0, 0, 0, 0, 0, 0, 0, 0, 0, 0, 0, 0, 0, 0, 0, 0, 0, 0, 0, 0, 0, 0, 0, 0, 0, 0, 0, 0, 0, 0, 0, 0, 0, 0, 0, 0, 0, 0, 4, 5, 6, 5, 4, 5, 5, 5, 7, 11, 11, 7, 5, 5, 9, 19, 25, 31, 39, 41, 41, 40, 35, 34, 32, 26, 24, 17, 16, 13, 12, 12, 10, 8, 5, 5, 4, 4, 3, 3, 2, 0, 0, 0, 0, 0, 0, 0, 0, 0, 1, 3, 12, 19, 26, 31, 32, 33, 22, 19, 18, 19, 20, 22, 21, 25, 25, 29, 28, 31, 29, 24, 21, 20, 19, 17, 13, 9, 3, 0]\n",
            "Dígitos identificados: 10\n"
          ],
          "name": "stdout"
        },
        {
          "output_type": "display_data",
          "data": {
            "image/png": "[encoded data removed]",
            "text/plain": [
              "<Figure size 1080x360 with 3 Axes>"
            ]
          },
          "metadata": {
            "tags": []
          }
        }
      ]
    }
  ]
}