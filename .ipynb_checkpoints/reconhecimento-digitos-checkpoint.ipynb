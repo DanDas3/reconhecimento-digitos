{
  "nbformat": 4,
  "nbformat_minor": 0,
  "metadata": {
    "kernelspec": {
      "name": "python3",
      "display_name": "Python 3"
    },
    "language_info": {
      "codemirror_mode": {
        "name": "ipython",
        "version": 3
      },
      "file_extension": ".py",
      "mimetype": "text/x-python",
      "name": "python",
      "nbconvert_exporter": "python",
      "pygments_lexer": "ipython3",
      "version": "3.7.3"
    },
    "colab": {
      "name": "reconhecimento-digitos-checkpoint.ipynb",
      "provenance": [],
      "include_colab_link": true
    },
    "accelerator": "GPU"
  },
  "cells": [
    {
      "cell_type": "markdown",
      "metadata": {
        "id": "view-in-github",
        "colab_type": "text"
      },
      "source": [
        "<a href=\"https://colab.research.google.com/github/DanDas3/reconhecimento-digitos/blob/master/.ipynb_checkpoints/reconhecimento-digitos-checkpoint.ipynb\" target=\"_parent\"><img src=\"https://colab.research.google.com/assets/colab-badge.svg\" alt=\"Open In Colab\"/></a>"
      ]
    },
    {
      "cell_type": "code",
      "metadata": {
        "id": "bjxq-ly52WPq",
        "colab_type": "code",
        "colab": {}
      },
      "source": [
        "#coding: utf-8\n",
        "import cv2 as cv\n",
        "import numpy as np\n",
        "import os\n",
        "import keras #Rede Neural\n",
        "from keras.layers import Conv2D, MaxPooling2D, Flatten, Dense, Dropout\n",
        "from matplotlib import pyplot as plt\n",
        "from getpass import getpass\n",
        "from os import listdir\n",
        "from os.path import isfile, join"
      ],
      "execution_count": 0,
      "outputs": []
    },
    {
      "cell_type": "code",
      "metadata": {
        "id": "K2txYIOpyUAM",
        "colab_type": "code",
        "colab": {}
      },
      "source": [
        "root = \"reconhecimento-digitos\"\n",
        "data_root = \"data\"\n",
        "out_path_root = \"output\"\n",
        "digits_trains = \"cvl-single-digits-train-validation/train\"\n",
        "digits_eval = \"cvl-single-digits-train-validation/valid\"\n",
        "digits_valid = \"cvl-single-digits-completeDatabase/cvl-single-digits/valid/\"\n",
        "string_trains = \"cvl-strings-train/train\"\n",
        "string_eval = \"cvl-strings-eval/cvl-strings-eval\""
      ],
      "execution_count": 0,
      "outputs": []
    },
    {
      "cell_type": "code",
      "metadata": {
        "id": "FE0yA88c2WO9",
        "colab_type": "code",
        "outputId": "54f0f0ff-a44c-454c-86b2-5a7275e46018",
        "colab": {
          "base_uri": "https://localhost:8080/",
          "height": 164
        }
      },
      "source": [
        "if os.path.exists(root) == False:\n",
        "  !git clone https://github.com/DanDas3/reconhecimento-digitos.git"
      ],
      "execution_count": 5,
      "outputs": [
        {
          "output_type": "stream",
          "text": [
            "Cloning into 'reconhecimento-digitos'...\n",
            "remote: Enumerating objects: 41, done.\u001b[K\n",
            "remote: Counting objects:   2% (1/41)\u001b[K\rremote: Counting objects:   4% (2/41)\u001b[K\rremote: Counting objects:   7% (3/41)\u001b[K\rremote: Counting objects:   9% (4/41)\u001b[K\rremote: Counting objects:  12% (5/41)\u001b[K\rremote: Counting objects:  14% (6/41)\u001b[K\rremote: Counting objects:  17% (7/41)\u001b[K\rremote: Counting objects:  19% (8/41)\u001b[K\rremote: Counting objects:  21% (9/41)\u001b[K\rremote: Counting objects:  24% (10/41)\u001b[K\rremote: Counting objects:  26% (11/41)\u001b[K\rremote: Counting objects:  29% (12/41)\u001b[K\rremote: Counting objects:  31% (13/41)\u001b[K\rremote: Counting objects:  34% (14/41)\u001b[K\rremote: Counting objects:  36% (15/41)\u001b[K\rremote: Counting objects:  39% (16/41)\u001b[K\rremote: Counting objects:  41% (17/41)\u001b[K\rremote: Counting objects:  43% (18/41)\u001b[K\rremote: Counting objects:  46% (19/41)\u001b[K\rremote: Counting objects:  48% (20/41)\u001b[K\rremote: Counting objects:  51% (21/41)\u001b[K\rremote: Counting objects:  53% (22/41)\u001b[K\rremote: Counting objects:  56% (23/41)\u001b[K\rremote: Counting objects:  58% (24/41)\u001b[K\rremote: Counting objects:  60% (25/41)\u001b[K\rremote: Counting objects:  63% (26/41)\u001b[K\rremote: Counting objects:  65% (27/41)\u001b[K\rremote: Counting objects:  68% (28/41)\u001b[K\rremote: Counting objects:  70% (29/41)\u001b[K\rremote: Counting objects:  73% (30/41)\u001b[K\rremote: Counting objects:  75% (31/41)\u001b[K\rremote: Counting objects:  78% (32/41)\u001b[K\rremote: Counting objects:  80% (33/41)\u001b[K\rremote: Counting objects:  82% (34/41)\u001b[K\rremote: Counting objects:  85% (35/41)\u001b[K\rremote: Counting objects:  87% (36/41)\u001b[K\rremote: Counting objects:  90% (37/41)\u001b[K\rremote: Counting objects:  92% (38/41)\u001b[K\rremote: Counting objects:  95% (39/41)\u001b[K\rremote: Counting objects:  97% (40/41)\u001b[K\rremote: Counting objects: 100% (41/41)\u001b[K\rremote: Counting objects: 100% (41/41), done.\u001b[K\n",
            "remote: Compressing objects: 100% (41/41), done.\u001b[K\n",
            "remote: Total 79486 (delta 13), reused 1 (delta 0), pack-reused 79445\u001b[K\n",
            "Receiving objects: 100% (79486/79486), 187.71 MiB | 34.58 MiB/s, done.\n",
            "Resolving deltas: 100% (17/17), done.\n",
            "Checking out files: 100% (93528/93528), done.\n"
          ],
          "name": "stdout"
        }
      ]
    },
    {
      "cell_type": "code",
      "metadata": {
        "id": "Y32cpxgy2WQM",
        "colab_type": "code",
        "colab": {}
      },
      "source": [
        "# Funções\n",
        "\n",
        "def convertBin(img):\n",
        "  max_value = 255\n",
        "  neighborhood_size=99\n",
        "  subtract_from_mean = 10\n",
        "  return cv.adaptiveThreshold(img, max_value, cv.ADAPTIVE_THRESH_GAUSSIAN_C, cv.THRESH_BINARY, neighborhood_size, subtract_from_mean)\n",
        "  #return cv.threshold(img, 200, 255, cv.THRESH_BINARY)\n",
        "\n",
        "def segmenta(img):\n",
        "  linha = img.shape[0]\n",
        "  coluna = img.shape[1]\n",
        "  \n",
        "  # armazena uma tupla com o inicio e fim do dígito\n",
        "  posicoes = []\n",
        "\n",
        "  inicioBool = False\n",
        "  #fimBool = False\n",
        "  xInicial = 0\n",
        "  xFinal = 0\n",
        "  countPreto = 0\n",
        "\n",
        "  for x in range(coluna):\n",
        "    for y in range(linha):\n",
        "      if(pb[y][x] == 0):\n",
        "        if (inicioBool == False):\n",
        "          inicioBool = True\n",
        "          xInicial = x;\n",
        "\n",
        "        countPreto += 1\n",
        "    if(countPreto == 0 and inicioBool == True):\n",
        "        xFinal = x\n",
        "        inicioBool = False\n",
        "        posicoes.append(((xInicial,0+5), (xFinal, pb.shape[0]-5)))  \n",
        "    countPreto = 0\n",
        "  return posicoes\n",
        "\n",
        "def marcarSegmentos(img, positions):\n",
        "  for position in positions:\n",
        "    cv.rectangle(img, position[0],position[1],(0,0,0),thickness=2)\n",
        "  return img\n",
        "\n",
        "def carregaDigitTrain():\n",
        "  path = root + \"/\" + data_root + \"/\" + digits_trains + \"/\"\n",
        "  images = [f for f in listdir(path) if isfile(join(path, f))]\n",
        "  data = np.ndarray((len(images), 32, 32, 3))\n",
        "  tags = np.ndarray((len(images), 1))\n",
        "  for i in range(len(images)):\n",
        "    img = cv.imread(path + images[i])\n",
        "    img = cv.resize(img,(32,32))\n",
        "    tags[i] = int(images[i][:1])\n",
        "    data[i] = img\n",
        "  \n",
        "  return data, tags\n",
        "\n",
        "def carregaDigitEval():\n",
        "  path = root + \"/\" + data_root + \"/\" + digits_eval + \"/\"\n",
        "  images = [f for f in listdir(path) if isfile(join(path, f))]\n",
        "  data = np.ndarray((len(images), 32, 32, 3))\n",
        "  tags = np.ndarray((len(images), 1))\n",
        "  for i in range(len(images)):\n",
        "    img = cv.imread(path + images[i])\n",
        "    img = cv.resize(img,(32,32))\n",
        "    tags[i] = int(images[i][:1])\n",
        "    data[i] = img\n",
        "  \n",
        "  return data, tags\n",
        "\n",
        "def carregaDigitValid():\n",
        "  path = root + \"/\" + data_root + \"/\" + digits_valid + \"/\"\n",
        "  images = [f for f in listdir(path) if isfile(join(path, f))]\n",
        "  data = np.ndarray((len(images), 32, 32, 3))\n",
        "  tags = np.ndarray((len(images), 1))\n",
        "  for i in range(len(images)):\n",
        "    img = cv.imread(path + images[i])\n",
        "    img = cv.resize(img,(32,32))\n",
        "    tags[i] = int(images[i][:1])\n",
        "    data[i] = img\n",
        "  return data, tags\n",
        "\n",
        "def carregaStringsValid():\n",
        "  path = root + \"/\" + data_root + \"/\" + string_eval + \"/\"\n",
        "  images = [f for f in listdir(path) if isfile(join(path, f))]\n",
        "  data = np.ndarray((len(images), 32, 32, 3))\n",
        "  tags = np.ndarray((len(images), 1))\n",
        "  for i in range(len(images)):\n",
        "    img = cv.imread(path + images[i])\n",
        "    img = cv.resize(img,(365,89))    \n",
        "    tag_num = images[i].split(\"-\",1)[0]\n",
        "    tags[i] = int(tag_num)\n",
        "    data[i] = img\n",
        "  \n",
        "  return data, tags"
      ],
      "execution_count": 0,
      "outputs": []
    },
    {
      "cell_type": "code",
      "metadata": {
        "id": "W9Ad8kx52WRC",
        "colab_type": "code",
        "outputId": "8aefe80f-b2c8-409f-be0e-b1ffc528e926",
        "colab": {
          "base_uri": "https://localhost:8080/",
          "height": 55
        }
      },
      "source": [
        "# Execução\n",
        "path = root + \"/\" + data_root + \"/\" + string_trains + \"/\"\n",
        "out_path = root + \"/\" + data_root + \"/\" + out_path_root + \"/\" + string_trains + \"/\"\n",
        "images = [f for f in listdir(path) if isfile(join(path, f))]\n",
        "\n",
        "\"\"\"for image in images:\n",
        "  img = cv.imread(path+image,0)\n",
        "  pb = convertBin(img)\n",
        "  segmentos = segmenta(pb)\n",
        "  img = marcarSegmentos(img, segmentos)\n",
        "  print(out_path + image)\n",
        "  cv.imwrite(out_path + \"out-\" + image,img)\"\"\""
      ],
      "execution_count": 0,
      "outputs": [
        {
          "output_type": "execute_result",
          "data": {
            "text/plain": [
              "'for image in images:\\n  img = cv.imread(path+image,0)\\n  pb = convertBin(img)\\n  segmentos = segmenta(pb)\\n  img = marcarSegmentos(img, segmentos)\\n  print(out_path + image)\\n  cv.imwrite(out_path + \"out-\" + image,img)'"
            ]
          },
          "metadata": {
            "tags": []
          },
          "execution_count": 75
        }
      ]
    },
    {
      "cell_type": "code",
      "metadata": {
        "id": "FbgH93H4hYXL",
        "colab_type": "code",
        "outputId": "93b26d02-efe3-4990-a096-beaa7291eaa3",
        "colab": {
          "base_uri": "https://localhost:8080/",
          "height": 827
        }
      },
      "source": [
        "# Rede Neural Convolucional - CNN\n",
        "cnn = keras.Sequential()\n",
        "\n",
        "cnn.add(Conv2D(filters=16, kernel_size=2, padding='same', activation='relu', input_shape=(32, 32, 3)))\n",
        "cnn.add(MaxPooling2D(pool_size=2))\n",
        "cnn.add(Conv2D(filters=32, kernel_size=2, padding='same', activation='relu'))\n",
        "cnn.add(MaxPooling2D(pool_size=2))\n",
        "cnn.add(Conv2D(filters=64, kernel_size=2, padding='same', activation='relu'))\n",
        "cnn.add(MaxPooling2D(pool_size=2))\n",
        "cnn.add(Dropout(0.3))\n",
        "cnn.add(Flatten())\n",
        "cnn.add(Dense(500, activation='relu'))\n",
        "cnn.add(Dropout(0.4))\n",
        "cnn.add(Dense(10, activation='softmax'))\n",
        "\n",
        "cnn.summary()\n"
      ],
      "execution_count": 7,
      "outputs": [
        {
          "output_type": "stream",
          "text": [
            "WARNING:tensorflow:From /usr/local/lib/python3.6/dist-packages/keras/backend/tensorflow_backend.py:66: The name tf.get_default_graph is deprecated. Please use tf.compat.v1.get_default_graph instead.\n",
            "\n",
            "WARNING:tensorflow:From /usr/local/lib/python3.6/dist-packages/keras/backend/tensorflow_backend.py:541: The name tf.placeholder is deprecated. Please use tf.compat.v1.placeholder instead.\n",
            "\n",
            "WARNING:tensorflow:From /usr/local/lib/python3.6/dist-packages/keras/backend/tensorflow_backend.py:4432: The name tf.random_uniform is deprecated. Please use tf.random.uniform instead.\n",
            "\n",
            "WARNING:tensorflow:From /usr/local/lib/python3.6/dist-packages/keras/backend/tensorflow_backend.py:4267: The name tf.nn.max_pool is deprecated. Please use tf.nn.max_pool2d instead.\n",
            "\n",
            "WARNING:tensorflow:From /usr/local/lib/python3.6/dist-packages/keras/backend/tensorflow_backend.py:148: The name tf.placeholder_with_default is deprecated. Please use tf.compat.v1.placeholder_with_default instead.\n",
            "\n",
            "WARNING:tensorflow:From /usr/local/lib/python3.6/dist-packages/keras/backend/tensorflow_backend.py:3733: calling dropout (from tensorflow.python.ops.nn_ops) with keep_prob is deprecated and will be removed in a future version.\n",
            "Instructions for updating:\n",
            "Please use `rate` instead of `keep_prob`. Rate should be set to `rate = 1 - keep_prob`.\n",
            "Model: \"sequential_1\"\n",
            "_________________________________________________________________\n",
            "Layer (type)                 Output Shape              Param #   \n",
            "=================================================================\n",
            "conv2d_1 (Conv2D)            (None, 32, 32, 16)        208       \n",
            "_________________________________________________________________\n",
            "max_pooling2d_1 (MaxPooling2 (None, 16, 16, 16)        0         \n",
            "_________________________________________________________________\n",
            "conv2d_2 (Conv2D)            (None, 16, 16, 32)        2080      \n",
            "_________________________________________________________________\n",
            "max_pooling2d_2 (MaxPooling2 (None, 8, 8, 32)          0         \n",
            "_________________________________________________________________\n",
            "conv2d_3 (Conv2D)            (None, 8, 8, 64)          8256      \n",
            "_________________________________________________________________\n",
            "max_pooling2d_3 (MaxPooling2 (None, 4, 4, 64)          0         \n",
            "_________________________________________________________________\n",
            "dropout_1 (Dropout)          (None, 4, 4, 64)          0         \n",
            "_________________________________________________________________\n",
            "flatten_1 (Flatten)          (None, 1024)              0         \n",
            "_________________________________________________________________\n",
            "dense_1 (Dense)              (None, 500)               512500    \n",
            "_________________________________________________________________\n",
            "dropout_2 (Dropout)          (None, 500)               0         \n",
            "_________________________________________________________________\n",
            "dense_2 (Dense)              (None, 10)                5010      \n",
            "=================================================================\n",
            "Total params: 528,054\n",
            "Trainable params: 528,054\n",
            "Non-trainable params: 0\n",
            "_________________________________________________________________\n"
          ],
          "name": "stdout"
        }
      ]
    },
    {
      "cell_type": "code",
      "metadata": {
        "id": "H3nRWTslm_Vs",
        "colab_type": "code",
        "colab": {
          "base_uri": "https://localhost:8080/",
          "height": 110
        },
        "outputId": "6f9a2949-cceb-480e-93b1-0cf19c34a76f"
      },
      "source": [
        "# Compilação da Rede Neural\n",
        "cnn.compile(loss='categorical_crossentropy', optimizer='rmsprop', metrics=['accuracy'])"
      ],
      "execution_count": 8,
      "outputs": [
        {
          "output_type": "stream",
          "text": [
            "WARNING:tensorflow:From /usr/local/lib/python3.6/dist-packages/keras/optimizers.py:793: The name tf.train.Optimizer is deprecated. Please use tf.compat.v1.train.Optimizer instead.\n",
            "\n",
            "WARNING:tensorflow:From /usr/local/lib/python3.6/dist-packages/keras/backend/tensorflow_backend.py:3576: The name tf.log is deprecated. Please use tf.math.log instead.\n",
            "\n"
          ],
          "name": "stdout"
        }
      ]
    },
    {
      "cell_type": "code",
      "metadata": {
        "id": "VuEBgFjaoUbI",
        "colab_type": "code",
        "outputId": "7efd484b-6c56-4658-a8a8-7577e6df3b1a",
        "colab": {
          "base_uri": "https://localhost:8080/",
          "height": 374
        }
      },
      "source": [
        "#Carrega imagens\n",
        "data_train, tag_train = carregaDigitTrain()\n",
        "\n",
        "data_eval, tag_eval = carregaDigitEval()\n",
        "\n",
        "data_valid, tag_valid = carregaDigitValid()\n",
        "\n",
        "data_string_valid, tag_string_valid = carregaStringsValid()\n",
        "\n",
        "print(tag_train.shape)\n",
        "print(tag_string_valid.shape)"
      ],
      "execution_count": 4,
      "outputs": [
        {
          "output_type": "error",
          "ename": "FileNotFoundError",
          "evalue": "ignored",
          "traceback": [
            "\u001b[0;31m---------------------------------------------------------------------------\u001b[0m",
            "\u001b[0;31mFileNotFoundError\u001b[0m                         Traceback (most recent call last)",
            "\u001b[0;32m<ipython-input-4-2afc56463717>\u001b[0m in \u001b[0;36m<module>\u001b[0;34m()\u001b[0m\n\u001b[0;32m----> 1\u001b[0;31m \u001b[0mdata_train\u001b[0m\u001b[0;34m,\u001b[0m \u001b[0mtag_train\u001b[0m \u001b[0;34m=\u001b[0m \u001b[0mcarregaDigitTrain\u001b[0m\u001b[0;34m(\u001b[0m\u001b[0;34m)\u001b[0m\u001b[0;34m\u001b[0m\u001b[0;34m\u001b[0m\u001b[0m\n\u001b[0m\u001b[1;32m      2\u001b[0m \u001b[0;34m\u001b[0m\u001b[0m\n\u001b[1;32m      3\u001b[0m \u001b[0mdata_eval\u001b[0m\u001b[0;34m,\u001b[0m \u001b[0mtag_eval\u001b[0m \u001b[0;34m=\u001b[0m \u001b[0mcarregaDigitEval\u001b[0m\u001b[0;34m(\u001b[0m\u001b[0;34m)\u001b[0m\u001b[0;34m\u001b[0m\u001b[0;34m\u001b[0m\u001b[0m\n\u001b[1;32m      4\u001b[0m \u001b[0;34m\u001b[0m\u001b[0m\n\u001b[1;32m      5\u001b[0m \u001b[0mdata_valid\u001b[0m\u001b[0;34m,\u001b[0m \u001b[0mtag_valid\u001b[0m \u001b[0;34m=\u001b[0m \u001b[0mcarregaDigitValid\u001b[0m\u001b[0;34m(\u001b[0m\u001b[0;34m)\u001b[0m\u001b[0;34m\u001b[0m\u001b[0;34m\u001b[0m\u001b[0m\n",
            "\u001b[0;32m<ipython-input-3-a31960dbbb03>\u001b[0m in \u001b[0;36mcarregaDigitTrain\u001b[0;34m()\u001b[0m\n\u001b[1;32m     42\u001b[0m \u001b[0;32mdef\u001b[0m \u001b[0mcarregaDigitTrain\u001b[0m\u001b[0;34m(\u001b[0m\u001b[0;34m)\u001b[0m\u001b[0;34m:\u001b[0m\u001b[0;34m\u001b[0m\u001b[0;34m\u001b[0m\u001b[0m\n\u001b[1;32m     43\u001b[0m   \u001b[0mpath\u001b[0m \u001b[0;34m=\u001b[0m \u001b[0mroot\u001b[0m \u001b[0;34m+\u001b[0m \u001b[0;34m\"/\"\u001b[0m \u001b[0;34m+\u001b[0m \u001b[0mdata_root\u001b[0m \u001b[0;34m+\u001b[0m \u001b[0;34m\"/\"\u001b[0m \u001b[0;34m+\u001b[0m \u001b[0mdigits_trains\u001b[0m \u001b[0;34m+\u001b[0m \u001b[0;34m\"/\"\u001b[0m\u001b[0;34m\u001b[0m\u001b[0;34m\u001b[0m\u001b[0m\n\u001b[0;32m---> 44\u001b[0;31m   \u001b[0mimages\u001b[0m \u001b[0;34m=\u001b[0m \u001b[0;34m[\u001b[0m\u001b[0mf\u001b[0m \u001b[0;32mfor\u001b[0m \u001b[0mf\u001b[0m \u001b[0;32min\u001b[0m \u001b[0mlistdir\u001b[0m\u001b[0;34m(\u001b[0m\u001b[0mpath\u001b[0m\u001b[0;34m)\u001b[0m \u001b[0;32mif\u001b[0m \u001b[0misfile\u001b[0m\u001b[0;34m(\u001b[0m\u001b[0mjoin\u001b[0m\u001b[0;34m(\u001b[0m\u001b[0mpath\u001b[0m\u001b[0;34m,\u001b[0m \u001b[0mf\u001b[0m\u001b[0;34m)\u001b[0m\u001b[0;34m)\u001b[0m\u001b[0;34m]\u001b[0m\u001b[0;34m\u001b[0m\u001b[0;34m\u001b[0m\u001b[0m\n\u001b[0m\u001b[1;32m     45\u001b[0m   \u001b[0mdata\u001b[0m \u001b[0;34m=\u001b[0m \u001b[0mnp\u001b[0m\u001b[0;34m.\u001b[0m\u001b[0mndarray\u001b[0m\u001b[0;34m(\u001b[0m\u001b[0;34m(\u001b[0m\u001b[0mlen\u001b[0m\u001b[0;34m(\u001b[0m\u001b[0mimages\u001b[0m\u001b[0;34m)\u001b[0m\u001b[0;34m,\u001b[0m \u001b[0;36m32\u001b[0m\u001b[0;34m,\u001b[0m \u001b[0;36m32\u001b[0m\u001b[0;34m,\u001b[0m \u001b[0;36m3\u001b[0m\u001b[0;34m)\u001b[0m\u001b[0;34m)\u001b[0m\u001b[0;34m\u001b[0m\u001b[0;34m\u001b[0m\u001b[0m\n\u001b[1;32m     46\u001b[0m   \u001b[0mtags\u001b[0m \u001b[0;34m=\u001b[0m \u001b[0mnp\u001b[0m\u001b[0;34m.\u001b[0m\u001b[0mndarray\u001b[0m\u001b[0;34m(\u001b[0m\u001b[0;34m(\u001b[0m\u001b[0mlen\u001b[0m\u001b[0;34m(\u001b[0m\u001b[0mimages\u001b[0m\u001b[0;34m)\u001b[0m\u001b[0;34m,\u001b[0m \u001b[0;36m1\u001b[0m\u001b[0;34m)\u001b[0m\u001b[0;34m)\u001b[0m\u001b[0;34m\u001b[0m\u001b[0;34m\u001b[0m\u001b[0m\n",
            "\u001b[0;31mFileNotFoundError\u001b[0m: [Errno 2] No such file or directory: 'reconhecimento-digitos/data/cvl-single-digits-train-validation/train/'"
          ]
        }
      ]
    },
    {
      "cell_type": "code",
      "metadata": {
        "id": "0qRc3tG915BZ",
        "colab_type": "code",
        "colab": {}
      },
      "source": [
        "# rescale [0,255] --> [0,1]\n",
        "data_train = data_train.astype('float32')/255\n",
        "data_eval = data_eval.astype('float32')/255\n",
        "data_valid = data_valid.astype('float32')/255\n",
        "data_string_valid = data_string_valid.astype('float32')/255"
      ],
      "execution_count": 0,
      "outputs": []
    },
    {
      "cell_type": "code",
      "metadata": {
        "id": "y7JgPVzaoI8l",
        "colab_type": "code",
        "outputId": "af936e6d-0e75-417b-adbd-d71e75076a72",
        "colab": {
          "base_uri": "https://localhost:8080/",
          "height": 184
        }
      },
      "source": [
        "# Deixa todas as imagens com as mesma dimensões\n",
        "print(len(data_train))\n",
        "print(len(tag_train))\n",
        "print(len(data_valid))\n",
        "print(type(data_train[0]))\n",
        "print(type(tag_train[0]))\n",
        "print(tag_train[0])\n",
        "print(root + \"/\" + data_root + \"/\" + digits_trains + \"/\")\n",
        "\"\"\"for i in range(len(data_train)):\n",
        "  data_train[i] = cv.resize(data_train[i],(32,32))\n",
        "  \n",
        "for i in range(len(data_train)):\n",
        "  data_eval[i] = cv.resize(data_eval[i],(32,32))\"\"\" \n",
        "  "
      ],
      "execution_count": 0,
      "outputs": [
        {
          "output_type": "stream",
          "text": [
            "7000\n",
            "7000\n",
            "7000\n",
            "<class 'numpy.ndarray'>\n",
            "<class 'numpy.ndarray'>\n",
            "[1.]\n",
            "reconhecimento-digitos/data/cvl-single-digits-train-validation/train/\n"
          ],
          "name": "stdout"
        },
        {
          "output_type": "execute_result",
          "data": {
            "text/plain": [
              "'for i in range(len(data_train)):\\n  data_train[i] = cv.resize(data_train[i],(32,32))\\n  \\nfor i in range(len(data_train)):\\n  data_eval[i] = cv.resize(data_eval[i],(32,32))'"
            ]
          },
          "metadata": {
            "tags": []
          },
          "execution_count": 105
        }
      ]
    },
    {
      "cell_type": "code",
      "metadata": {
        "id": "Keqc4vJ21PkM",
        "colab_type": "code",
        "outputId": "21a2a641-9914-4e9d-e779-4f5bbe3c3533",
        "colab": {
          "base_uri": "https://localhost:8080/",
          "height": 521
        }
      },
      "source": [
        "# Prepara a base\n",
        "# one-hot encode the labels\n",
        "print(num_classes_string)\n",
        "print(np.arange(tag_train.shape[0]))\n",
        "print(np.arange(tag_string_valid.shape[0]))\n",
        "print(tag_valid.shape)\n",
        "print(tag_string_valid.shape)\n",
        "tag_train = keras.utils.to_categorical(tag_train, num_classes)\n",
        "tag_eval = keras.utils.to_categorical(tag_eval, num_classes)\n",
        "print(type(tag_valid))\n",
        "tag_valid = keras.utils.to_categorical(tag_valid, num_classes)\n",
        "print(type(tag_string_valid))\n",
        "tag_string_valid = keras.utils.to_categorical(tag_string_valid, num_classes_string)\n",
        "\n",
        "print(type(tag_eval))\n",
        "print(type(tag_valid))\n",
        "\n",
        "print(tag_eval.shape)\n",
        "print(tag_train.shape)\n",
        "print(tag_valid.shape)\n",
        "print(data_valid.shape)\n",
        "print(tag_string_valid.shape)\n",
        "# break training set into training and validation sets\n",
        "#(x_train, x_valid) = x_train[5000:], x_train[:5000]\n",
        "#(y_train, y_valid) = y_train[5000:], y_train[:5000]\n",
        "\n",
        "# print shape of training set\n",
        "#print('data_train shape:', data_train.shape)\n",
        "\n",
        "# print number of training, validation, and test images\n",
        "#print(data_train.shape[0], 'train samples')\n",
        "#print(data_eval.shape[0], 'test samples')\n",
        "#print(x_valid.shape[0], 'validation samples')"
      ],
      "execution_count": 53,
      "outputs": [
        {
          "output_type": "stream",
          "text": [
            "10\n",
            "26\n",
            "[   0    1    2 ... 6997 6998 6999]\n",
            "[   0    1    2 ... 6695 6696 6697]\n",
            "(7000, 1)\n",
            "(6698, 1)\n",
            "<class 'numpy.ndarray'>\n",
            "<class 'numpy.ndarray'>\n"
          ],
          "name": "stdout"
        },
        {
          "output_type": "error",
          "ename": "IndexError",
          "evalue": "ignored",
          "traceback": [
            "\u001b[0;31m---------------------------------------------------------------------------\u001b[0m",
            "\u001b[0;31mIndexError\u001b[0m                                Traceback (most recent call last)",
            "\u001b[0;32m<ipython-input-53-0a52227cf1c4>\u001b[0m in \u001b[0;36m<module>\u001b[0;34m()\u001b[0m\n\u001b[1;32m     12\u001b[0m \u001b[0mtag_valid\u001b[0m \u001b[0;34m=\u001b[0m \u001b[0mkeras\u001b[0m\u001b[0;34m.\u001b[0m\u001b[0mutils\u001b[0m\u001b[0;34m.\u001b[0m\u001b[0mto_categorical\u001b[0m\u001b[0;34m(\u001b[0m\u001b[0mtag_valid\u001b[0m\u001b[0;34m,\u001b[0m \u001b[0mnum_classes\u001b[0m\u001b[0;34m)\u001b[0m\u001b[0;34m\u001b[0m\u001b[0;34m\u001b[0m\u001b[0m\n\u001b[1;32m     13\u001b[0m \u001b[0mprint\u001b[0m\u001b[0;34m(\u001b[0m\u001b[0mtype\u001b[0m\u001b[0;34m(\u001b[0m\u001b[0mtag_string_valid\u001b[0m\u001b[0;34m)\u001b[0m\u001b[0;34m)\u001b[0m\u001b[0;34m\u001b[0m\u001b[0;34m\u001b[0m\u001b[0m\n\u001b[0;32m---> 14\u001b[0;31m \u001b[0mtag_string_valid\u001b[0m \u001b[0;34m=\u001b[0m \u001b[0mkeras\u001b[0m\u001b[0;34m.\u001b[0m\u001b[0mutils\u001b[0m\u001b[0;34m.\u001b[0m\u001b[0mto_categorical\u001b[0m\u001b[0;34m(\u001b[0m\u001b[0mtag_string_valid\u001b[0m\u001b[0;34m,\u001b[0m \u001b[0mnum_classes_string\u001b[0m\u001b[0;34m)\u001b[0m\u001b[0;34m\u001b[0m\u001b[0;34m\u001b[0m\u001b[0m\n\u001b[0m\u001b[1;32m     15\u001b[0m \u001b[0;34m\u001b[0m\u001b[0m\n\u001b[1;32m     16\u001b[0m \u001b[0mprint\u001b[0m\u001b[0;34m(\u001b[0m\u001b[0mtype\u001b[0m\u001b[0;34m(\u001b[0m\u001b[0mtag_eval\u001b[0m\u001b[0;34m)\u001b[0m\u001b[0;34m)\u001b[0m\u001b[0;34m\u001b[0m\u001b[0;34m\u001b[0m\u001b[0m\n",
            "\u001b[0;32m/usr/local/lib/python3.6/dist-packages/keras/utils/np_utils.py\u001b[0m in \u001b[0;36mto_categorical\u001b[0;34m(y, num_classes, dtype)\u001b[0m\n\u001b[1;32m     50\u001b[0m     \u001b[0mn\u001b[0m \u001b[0;34m=\u001b[0m \u001b[0my\u001b[0m\u001b[0;34m.\u001b[0m\u001b[0mshape\u001b[0m\u001b[0;34m[\u001b[0m\u001b[0;36m0\u001b[0m\u001b[0;34m]\u001b[0m\u001b[0;34m\u001b[0m\u001b[0;34m\u001b[0m\u001b[0m\n\u001b[1;32m     51\u001b[0m     \u001b[0mcategorical\u001b[0m \u001b[0;34m=\u001b[0m \u001b[0mnp\u001b[0m\u001b[0;34m.\u001b[0m\u001b[0mzeros\u001b[0m\u001b[0;34m(\u001b[0m\u001b[0;34m(\u001b[0m\u001b[0mn\u001b[0m\u001b[0;34m,\u001b[0m \u001b[0mnum_classes\u001b[0m\u001b[0;34m)\u001b[0m\u001b[0;34m,\u001b[0m \u001b[0mdtype\u001b[0m\u001b[0;34m=\u001b[0m\u001b[0mdtype\u001b[0m\u001b[0;34m)\u001b[0m\u001b[0;34m\u001b[0m\u001b[0;34m\u001b[0m\u001b[0m\n\u001b[0;32m---> 52\u001b[0;31m     \u001b[0mcategorical\u001b[0m\u001b[0;34m[\u001b[0m\u001b[0mnp\u001b[0m\u001b[0;34m.\u001b[0m\u001b[0marange\u001b[0m\u001b[0;34m(\u001b[0m\u001b[0mn\u001b[0m\u001b[0;34m)\u001b[0m\u001b[0;34m,\u001b[0m \u001b[0my\u001b[0m\u001b[0;34m]\u001b[0m \u001b[0;34m=\u001b[0m \u001b[0;36m1\u001b[0m\u001b[0;34m\u001b[0m\u001b[0;34m\u001b[0m\u001b[0m\n\u001b[0m\u001b[1;32m     53\u001b[0m     \u001b[0moutput_shape\u001b[0m \u001b[0;34m=\u001b[0m \u001b[0minput_shape\u001b[0m \u001b[0;34m+\u001b[0m \u001b[0;34m(\u001b[0m\u001b[0mnum_classes\u001b[0m\u001b[0;34m,\u001b[0m\u001b[0;34m)\u001b[0m\u001b[0;34m\u001b[0m\u001b[0;34m\u001b[0m\u001b[0m\n\u001b[1;32m     54\u001b[0m     \u001b[0mcategorical\u001b[0m \u001b[0;34m=\u001b[0m \u001b[0mnp\u001b[0m\u001b[0;34m.\u001b[0m\u001b[0mreshape\u001b[0m\u001b[0;34m(\u001b[0m\u001b[0mcategorical\u001b[0m\u001b[0;34m,\u001b[0m \u001b[0moutput_shape\u001b[0m\u001b[0;34m)\u001b[0m\u001b[0;34m\u001b[0m\u001b[0;34m\u001b[0m\u001b[0m\n",
            "\u001b[0;31mIndexError\u001b[0m: index 102246 is out of bounds for axis 1 with size 26"
          ]
        }
      ]
    },
    {
      "cell_type": "code",
      "metadata": {
        "id": "lTi3PQ4K0Awv",
        "colab_type": "code",
        "outputId": "5867be93-67bb-4e6f-a6a6-9182ae0fe217",
        "colab": {
          "base_uri": "https://localhost:8080/",
          "height": 1000
        }
      },
      "source": [
        "#Treinamento\n",
        "from keras.callbacks import ModelCheckpoint   \n",
        "\n",
        "checkpointer = ModelCheckpoint(filepath='weights.best.hdf5', verbose=1, \n",
        "                               save_best_only=True)\n",
        "hist = cnn.fit(data_train, tag_train, batch_size=32, epochs=100,\n",
        "          validation_data=(data_eval, tag_eval), callbacks=[checkpointer], \n",
        "          verbose=2, shuffle=True)"
      ],
      "execution_count": 0,
      "outputs": [
        {
          "output_type": "stream",
          "text": [
            "Train on 7000 samples, validate on 7000 samples\n",
            "Epoch 1/100\n",
            " - 2s - loss: 1.2485 - acc: 0.5907 - val_loss: 0.6020 - val_acc: 0.8086\n",
            "\n",
            "Epoch 00001: val_loss improved from inf to 0.60200, saving model to weights.best.hdf5\n",
            "Epoch 2/100\n",
            " - 2s - loss: 0.4069 - acc: 0.8714 - val_loss: 0.4058 - val_acc: 0.8850\n",
            "\n",
            "Epoch 00002: val_loss improved from 0.60200 to 0.40584, saving model to weights.best.hdf5\n",
            "Epoch 3/100\n",
            " - 2s - loss: 0.2842 - acc: 0.9120 - val_loss: 0.2916 - val_acc: 0.9070\n",
            "\n",
            "Epoch 00003: val_loss improved from 0.40584 to 0.29161, saving model to weights.best.hdf5\n",
            "Epoch 4/100\n",
            " - 2s - loss: 0.2210 - acc: 0.9304 - val_loss: 0.2457 - val_acc: 0.9241\n",
            "\n",
            "Epoch 00004: val_loss improved from 0.29161 to 0.24566, saving model to weights.best.hdf5\n",
            "Epoch 5/100\n",
            " - 2s - loss: 0.1892 - acc: 0.9413 - val_loss: 0.2359 - val_acc: 0.9270\n",
            "\n",
            "Epoch 00005: val_loss improved from 0.24566 to 0.23590, saving model to weights.best.hdf5\n",
            "Epoch 6/100\n",
            " - 2s - loss: 0.1577 - acc: 0.9496 - val_loss: 0.2426 - val_acc: 0.9284\n",
            "\n",
            "Epoch 00006: val_loss did not improve from 0.23590\n",
            "Epoch 7/100\n",
            " - 2s - loss: 0.1404 - acc: 0.9560 - val_loss: 0.2281 - val_acc: 0.9324\n",
            "\n",
            "Epoch 00007: val_loss improved from 0.23590 to 0.22806, saving model to weights.best.hdf5\n",
            "Epoch 8/100\n",
            " - 2s - loss: 0.1239 - acc: 0.9620 - val_loss: 0.2110 - val_acc: 0.9369\n",
            "\n",
            "Epoch 00008: val_loss improved from 0.22806 to 0.21099, saving model to weights.best.hdf5\n",
            "Epoch 9/100\n",
            " - 2s - loss: 0.1141 - acc: 0.9650 - val_loss: 0.2363 - val_acc: 0.9304\n",
            "\n",
            "Epoch 00009: val_loss did not improve from 0.21099\n",
            "Epoch 10/100\n",
            " - 2s - loss: 0.1061 - acc: 0.9683 - val_loss: 0.2073 - val_acc: 0.9410\n",
            "\n",
            "Epoch 00010: val_loss improved from 0.21099 to 0.20726, saving model to weights.best.hdf5\n",
            "Epoch 11/100\n",
            " - 2s - loss: 0.0933 - acc: 0.9687 - val_loss: 0.1961 - val_acc: 0.9436\n",
            "\n",
            "Epoch 00011: val_loss improved from 0.20726 to 0.19611, saving model to weights.best.hdf5\n",
            "Epoch 12/100\n",
            " - 2s - loss: 0.0902 - acc: 0.9719 - val_loss: 0.2128 - val_acc: 0.9371\n",
            "\n",
            "Epoch 00012: val_loss did not improve from 0.19611\n",
            "Epoch 13/100\n",
            " - 2s - loss: 0.0817 - acc: 0.9743 - val_loss: 0.2149 - val_acc: 0.9393\n",
            "\n",
            "Epoch 00013: val_loss did not improve from 0.19611\n",
            "Epoch 14/100\n",
            " - 2s - loss: 0.0726 - acc: 0.9773 - val_loss: 0.2286 - val_acc: 0.9334\n",
            "\n",
            "Epoch 00014: val_loss did not improve from 0.19611\n",
            "Epoch 15/100\n",
            " - 2s - loss: 0.0668 - acc: 0.9779 - val_loss: 0.2065 - val_acc: 0.9417\n",
            "\n",
            "Epoch 00015: val_loss did not improve from 0.19611\n",
            "Epoch 16/100\n",
            " - 2s - loss: 0.0664 - acc: 0.9799 - val_loss: 0.2013 - val_acc: 0.9429\n",
            "\n",
            "Epoch 00016: val_loss did not improve from 0.19611\n",
            "Epoch 17/100\n",
            " - 2s - loss: 0.0585 - acc: 0.9803 - val_loss: 0.2053 - val_acc: 0.9483\n",
            "\n",
            "Epoch 00017: val_loss did not improve from 0.19611\n",
            "Epoch 18/100\n",
            " - 2s - loss: 0.0629 - acc: 0.9814 - val_loss: 0.2002 - val_acc: 0.9451\n",
            "\n",
            "Epoch 00018: val_loss did not improve from 0.19611\n",
            "Epoch 19/100\n",
            " - 2s - loss: 0.0510 - acc: 0.9841 - val_loss: 0.2565 - val_acc: 0.9349\n",
            "\n",
            "Epoch 00019: val_loss did not improve from 0.19611\n",
            "Epoch 20/100\n",
            " - 2s - loss: 0.0472 - acc: 0.9853 - val_loss: 0.3702 - val_acc: 0.9193\n",
            "\n",
            "Epoch 00020: val_loss did not improve from 0.19611\n",
            "Epoch 21/100\n",
            " - 2s - loss: 0.0475 - acc: 0.9846 - val_loss: 0.2696 - val_acc: 0.9380\n",
            "\n",
            "Epoch 00021: val_loss did not improve from 0.19611\n",
            "Epoch 22/100\n",
            " - 2s - loss: 0.0474 - acc: 0.9843 - val_loss: 0.3697 - val_acc: 0.9181\n",
            "\n",
            "Epoch 00022: val_loss did not improve from 0.19611\n",
            "Epoch 23/100\n",
            " - 2s - loss: 0.0439 - acc: 0.9866 - val_loss: 0.2013 - val_acc: 0.9489\n",
            "\n",
            "Epoch 00023: val_loss did not improve from 0.19611\n",
            "Epoch 24/100\n",
            " - 2s - loss: 0.0466 - acc: 0.9850 - val_loss: 0.2669 - val_acc: 0.9397\n",
            "\n",
            "Epoch 00024: val_loss did not improve from 0.19611\n",
            "Epoch 25/100\n",
            " - 2s - loss: 0.0427 - acc: 0.9864 - val_loss: 0.2457 - val_acc: 0.9451\n",
            "\n",
            "Epoch 00025: val_loss did not improve from 0.19611\n",
            "Epoch 26/100\n",
            " - 2s - loss: 0.0426 - acc: 0.9871 - val_loss: 0.2242 - val_acc: 0.9451\n",
            "\n",
            "Epoch 00026: val_loss did not improve from 0.19611\n",
            "Epoch 27/100\n",
            " - 2s - loss: 0.0378 - acc: 0.9891 - val_loss: 0.2437 - val_acc: 0.9497\n",
            "\n",
            "Epoch 00027: val_loss did not improve from 0.19611\n",
            "Epoch 28/100\n",
            " - 2s - loss: 0.0406 - acc: 0.9861 - val_loss: 0.2184 - val_acc: 0.9484\n",
            "\n",
            "Epoch 00028: val_loss did not improve from 0.19611\n",
            "Epoch 29/100\n",
            " - 2s - loss: 0.0410 - acc: 0.9879 - val_loss: 0.2382 - val_acc: 0.9454\n",
            "\n",
            "Epoch 00029: val_loss did not improve from 0.19611\n",
            "Epoch 30/100\n",
            " - 2s - loss: 0.0432 - acc: 0.9874 - val_loss: 0.2478 - val_acc: 0.9497\n",
            "\n",
            "Epoch 00030: val_loss did not improve from 0.19611\n",
            "Epoch 31/100\n",
            " - 2s - loss: 0.0350 - acc: 0.9890 - val_loss: 0.2305 - val_acc: 0.9491\n",
            "\n",
            "Epoch 00031: val_loss did not improve from 0.19611\n",
            "Epoch 32/100\n",
            " - 2s - loss: 0.0331 - acc: 0.9896 - val_loss: 0.2443 - val_acc: 0.9453\n",
            "\n",
            "Epoch 00032: val_loss did not improve from 0.19611\n",
            "Epoch 33/100\n",
            " - 2s - loss: 0.0361 - acc: 0.9891 - val_loss: 0.2713 - val_acc: 0.9439\n",
            "\n",
            "Epoch 00033: val_loss did not improve from 0.19611\n",
            "Epoch 34/100\n",
            " - 2s - loss: 0.0362 - acc: 0.9903 - val_loss: 0.2234 - val_acc: 0.9454\n",
            "\n",
            "Epoch 00034: val_loss did not improve from 0.19611\n",
            "Epoch 35/100\n",
            " - 2s - loss: 0.0344 - acc: 0.9901 - val_loss: 0.2436 - val_acc: 0.9436\n",
            "\n",
            "Epoch 00035: val_loss did not improve from 0.19611\n",
            "Epoch 36/100\n",
            " - 2s - loss: 0.0293 - acc: 0.9916 - val_loss: 0.2729 - val_acc: 0.9484\n",
            "\n",
            "Epoch 00036: val_loss did not improve from 0.19611\n",
            "Epoch 37/100\n",
            " - 2s - loss: 0.0318 - acc: 0.9894 - val_loss: 0.2951 - val_acc: 0.9449\n",
            "\n",
            "Epoch 00037: val_loss did not improve from 0.19611\n",
            "Epoch 38/100\n",
            " - 2s - loss: 0.0338 - acc: 0.9904 - val_loss: 0.2761 - val_acc: 0.9413\n",
            "\n",
            "Epoch 00038: val_loss did not improve from 0.19611\n",
            "Epoch 39/100\n",
            " - 2s - loss: 0.0302 - acc: 0.9929 - val_loss: 0.2866 - val_acc: 0.9436\n",
            "\n",
            "Epoch 00039: val_loss did not improve from 0.19611\n",
            "Epoch 40/100\n",
            " - 2s - loss: 0.0276 - acc: 0.9924 - val_loss: 0.2966 - val_acc: 0.9469\n",
            "\n",
            "Epoch 00040: val_loss did not improve from 0.19611\n",
            "Epoch 41/100\n",
            " - 2s - loss: 0.0280 - acc: 0.9930 - val_loss: 0.3107 - val_acc: 0.9399\n",
            "\n",
            "Epoch 00041: val_loss did not improve from 0.19611\n",
            "Epoch 42/100\n",
            " - 2s - loss: 0.0251 - acc: 0.9917 - val_loss: 0.2753 - val_acc: 0.9497\n",
            "\n",
            "Epoch 00042: val_loss did not improve from 0.19611\n",
            "Epoch 43/100\n",
            " - 2s - loss: 0.0307 - acc: 0.9904 - val_loss: 0.2421 - val_acc: 0.9477\n",
            "\n",
            "Epoch 00043: val_loss did not improve from 0.19611\n",
            "Epoch 44/100\n",
            " - 2s - loss: 0.0266 - acc: 0.9910 - val_loss: 0.2516 - val_acc: 0.9466\n",
            "\n",
            "Epoch 00044: val_loss did not improve from 0.19611\n",
            "Epoch 45/100\n",
            " - 2s - loss: 0.0292 - acc: 0.9904 - val_loss: 0.2608 - val_acc: 0.9529\n",
            "\n",
            "Epoch 00045: val_loss did not improve from 0.19611\n",
            "Epoch 46/100\n",
            " - 2s - loss: 0.0300 - acc: 0.9914 - val_loss: 0.2604 - val_acc: 0.9513\n",
            "\n",
            "Epoch 00046: val_loss did not improve from 0.19611\n",
            "Epoch 47/100\n",
            " - 2s - loss: 0.0247 - acc: 0.9931 - val_loss: 0.3377 - val_acc: 0.9411\n",
            "\n",
            "Epoch 00047: val_loss did not improve from 0.19611\n",
            "Epoch 48/100\n",
            " - 2s - loss: 0.0248 - acc: 0.9939 - val_loss: 0.4054 - val_acc: 0.9309\n",
            "\n",
            "Epoch 00048: val_loss did not improve from 0.19611\n",
            "Epoch 49/100\n",
            " - 2s - loss: 0.0233 - acc: 0.9926 - val_loss: 0.2544 - val_acc: 0.9494\n",
            "\n",
            "Epoch 00049: val_loss did not improve from 0.19611\n",
            "Epoch 50/100\n",
            " - 2s - loss: 0.0283 - acc: 0.9917 - val_loss: 0.2985 - val_acc: 0.9411\n",
            "\n",
            "Epoch 00050: val_loss did not improve from 0.19611\n",
            "Epoch 51/100\n",
            " - 2s - loss: 0.0287 - acc: 0.9909 - val_loss: 0.2873 - val_acc: 0.9463\n",
            "\n",
            "Epoch 00051: val_loss did not improve from 0.19611\n",
            "Epoch 52/100\n",
            " - 2s - loss: 0.0342 - acc: 0.9907 - val_loss: 0.2270 - val_acc: 0.9514\n",
            "\n",
            "Epoch 00052: val_loss did not improve from 0.19611\n",
            "Epoch 53/100\n",
            " - 2s - loss: 0.0266 - acc: 0.9923 - val_loss: 0.2833 - val_acc: 0.9431\n",
            "\n",
            "Epoch 00053: val_loss did not improve from 0.19611\n",
            "Epoch 54/100\n",
            " - 2s - loss: 0.0240 - acc: 0.9933 - val_loss: 0.3337 - val_acc: 0.9474\n",
            "\n",
            "Epoch 00054: val_loss did not improve from 0.19611\n",
            "Epoch 55/100\n",
            " - 2s - loss: 0.0271 - acc: 0.9919 - val_loss: 0.2417 - val_acc: 0.9501\n",
            "\n",
            "Epoch 00055: val_loss did not improve from 0.19611\n",
            "Epoch 56/100\n",
            " - 2s - loss: 0.0223 - acc: 0.9921 - val_loss: 0.3466 - val_acc: 0.9443\n",
            "\n",
            "Epoch 00056: val_loss did not improve from 0.19611\n",
            "Epoch 57/100\n",
            " - 2s - loss: 0.0279 - acc: 0.9921 - val_loss: 0.3023 - val_acc: 0.9376\n",
            "\n",
            "Epoch 00057: val_loss did not improve from 0.19611\n",
            "Epoch 58/100\n",
            " - 2s - loss: 0.0222 - acc: 0.9919 - val_loss: 0.2603 - val_acc: 0.9499\n",
            "\n",
            "Epoch 00058: val_loss did not improve from 0.19611\n",
            "Epoch 59/100\n",
            " - 2s - loss: 0.0234 - acc: 0.9939 - val_loss: 0.2805 - val_acc: 0.9507\n",
            "\n",
            "Epoch 00059: val_loss did not improve from 0.19611\n",
            "Epoch 60/100\n",
            " - 2s - loss: 0.0191 - acc: 0.9956 - val_loss: 0.2830 - val_acc: 0.9517\n",
            "\n",
            "Epoch 00060: val_loss did not improve from 0.19611\n",
            "Epoch 61/100\n",
            " - 2s - loss: 0.0258 - acc: 0.9926 - val_loss: 0.3082 - val_acc: 0.9423\n",
            "\n",
            "Epoch 00061: val_loss did not improve from 0.19611\n",
            "Epoch 62/100\n",
            " - 2s - loss: 0.0215 - acc: 0.9949 - val_loss: 0.3461 - val_acc: 0.9390\n",
            "\n",
            "Epoch 00062: val_loss did not improve from 0.19611\n",
            "Epoch 63/100\n",
            " - 2s - loss: 0.0194 - acc: 0.9947 - val_loss: 0.2573 - val_acc: 0.9500\n",
            "\n",
            "Epoch 00063: val_loss did not improve from 0.19611\n",
            "Epoch 64/100\n",
            " - 2s - loss: 0.0211 - acc: 0.9946 - val_loss: 0.2763 - val_acc: 0.9377\n",
            "\n",
            "Epoch 00064: val_loss did not improve from 0.19611\n",
            "Epoch 65/100\n",
            " - 2s - loss: 0.0220 - acc: 0.9943 - val_loss: 0.2940 - val_acc: 0.9546\n",
            "\n",
            "Epoch 00065: val_loss did not improve from 0.19611\n",
            "Epoch 66/100\n",
            " - 2s - loss: 0.0278 - acc: 0.9926 - val_loss: 0.2400 - val_acc: 0.9524\n",
            "\n",
            "Epoch 00066: val_loss did not improve from 0.19611\n",
            "Epoch 67/100\n",
            " - 2s - loss: 0.0220 - acc: 0.9931 - val_loss: 0.3061 - val_acc: 0.9510\n",
            "\n",
            "Epoch 00067: val_loss did not improve from 0.19611\n",
            "Epoch 68/100\n",
            " - 2s - loss: 0.0223 - acc: 0.9940 - val_loss: 0.2718 - val_acc: 0.9530\n",
            "\n",
            "Epoch 00068: val_loss did not improve from 0.19611\n",
            "Epoch 69/100\n",
            " - 2s - loss: 0.0259 - acc: 0.9937 - val_loss: 0.3087 - val_acc: 0.9541\n",
            "\n",
            "Epoch 00069: val_loss did not improve from 0.19611\n",
            "Epoch 70/100\n",
            " - 2s - loss: 0.0216 - acc: 0.9936 - val_loss: 0.3152 - val_acc: 0.9460\n",
            "\n",
            "Epoch 00070: val_loss did not improve from 0.19611\n",
            "Epoch 71/100\n",
            " - 2s - loss: 0.0194 - acc: 0.9943 - val_loss: 0.3279 - val_acc: 0.9501\n",
            "\n",
            "Epoch 00071: val_loss did not improve from 0.19611\n",
            "Epoch 72/100\n",
            " - 2s - loss: 0.0219 - acc: 0.9944 - val_loss: 0.3415 - val_acc: 0.9509\n",
            "\n",
            "Epoch 00072: val_loss did not improve from 0.19611\n",
            "Epoch 73/100\n",
            " - 2s - loss: 0.0218 - acc: 0.9930 - val_loss: 0.3296 - val_acc: 0.9494\n",
            "\n",
            "Epoch 00073: val_loss did not improve from 0.19611\n",
            "Epoch 74/100\n",
            " - 2s - loss: 0.0182 - acc: 0.9939 - val_loss: 0.2891 - val_acc: 0.9550\n",
            "\n",
            "Epoch 00074: val_loss did not improve from 0.19611\n",
            "Epoch 75/100\n",
            " - 2s - loss: 0.0187 - acc: 0.9939 - val_loss: 0.3618 - val_acc: 0.9400\n",
            "\n",
            "Epoch 00075: val_loss did not improve from 0.19611\n",
            "Epoch 76/100\n",
            " - 2s - loss: 0.0212 - acc: 0.9949 - val_loss: 0.3416 - val_acc: 0.9419\n",
            "\n",
            "Epoch 00076: val_loss did not improve from 0.19611\n",
            "Epoch 77/100\n",
            " - 2s - loss: 0.0200 - acc: 0.9949 - val_loss: 0.3072 - val_acc: 0.9467\n",
            "\n",
            "Epoch 00077: val_loss did not improve from 0.19611\n",
            "Epoch 78/100\n",
            " - 2s - loss: 0.0242 - acc: 0.9934 - val_loss: 0.2772 - val_acc: 0.9531\n",
            "\n",
            "Epoch 00078: val_loss did not improve from 0.19611\n",
            "Epoch 79/100\n",
            " - 2s - loss: 0.0220 - acc: 0.9950 - val_loss: 0.3037 - val_acc: 0.9513\n",
            "\n",
            "Epoch 00079: val_loss did not improve from 0.19611\n",
            "Epoch 80/100\n",
            " - 2s - loss: 0.0178 - acc: 0.9953 - val_loss: 0.3517 - val_acc: 0.9509\n",
            "\n",
            "Epoch 00080: val_loss did not improve from 0.19611\n",
            "Epoch 81/100\n",
            " - 2s - loss: 0.0241 - acc: 0.9927 - val_loss: 0.2748 - val_acc: 0.9539\n",
            "\n",
            "Epoch 00081: val_loss did not improve from 0.19611\n",
            "Epoch 82/100\n",
            " - 2s - loss: 0.0203 - acc: 0.9950 - val_loss: 0.3066 - val_acc: 0.9570\n",
            "\n",
            "Epoch 00082: val_loss did not improve from 0.19611\n",
            "Epoch 83/100\n",
            " - 2s - loss: 0.0156 - acc: 0.9960 - val_loss: 0.3941 - val_acc: 0.9484\n",
            "\n",
            "Epoch 00083: val_loss did not improve from 0.19611\n",
            "Epoch 84/100\n",
            " - 2s - loss: 0.0248 - acc: 0.9946 - val_loss: 0.3528 - val_acc: 0.9490\n",
            "\n",
            "Epoch 00084: val_loss did not improve from 0.19611\n",
            "Epoch 85/100\n",
            " - 2s - loss: 0.0213 - acc: 0.9946 - val_loss: 0.3623 - val_acc: 0.9523\n",
            "\n",
            "Epoch 00085: val_loss did not improve from 0.19611\n",
            "Epoch 86/100\n",
            " - 2s - loss: 0.0163 - acc: 0.9950 - val_loss: 0.3493 - val_acc: 0.9501\n",
            "\n",
            "Epoch 00086: val_loss did not improve from 0.19611\n",
            "Epoch 87/100\n",
            " - 2s - loss: 0.0239 - acc: 0.9937 - val_loss: 0.3887 - val_acc: 0.9497\n",
            "\n",
            "Epoch 00087: val_loss did not improve from 0.19611\n",
            "Epoch 88/100\n",
            " - 2s - loss: 0.0232 - acc: 0.9920 - val_loss: 0.3373 - val_acc: 0.9526\n",
            "\n",
            "Epoch 00088: val_loss did not improve from 0.19611\n",
            "Epoch 89/100\n",
            " - 2s - loss: 0.0227 - acc: 0.9940 - val_loss: 0.2513 - val_acc: 0.9530\n",
            "\n",
            "Epoch 00089: val_loss did not improve from 0.19611\n",
            "Epoch 90/100\n",
            " - 2s - loss: 0.0210 - acc: 0.9943 - val_loss: 0.3634 - val_acc: 0.9520\n",
            "\n",
            "Epoch 00090: val_loss did not improve from 0.19611\n",
            "Epoch 91/100\n",
            " - 2s - loss: 0.0240 - acc: 0.9944 - val_loss: 0.3066 - val_acc: 0.9497\n",
            "\n",
            "Epoch 00091: val_loss did not improve from 0.19611\n",
            "Epoch 92/100\n",
            " - 2s - loss: 0.0183 - acc: 0.9941 - val_loss: 0.3343 - val_acc: 0.9499\n",
            "\n",
            "Epoch 00092: val_loss did not improve from 0.19611\n",
            "Epoch 93/100\n",
            " - 2s - loss: 0.0233 - acc: 0.9937 - val_loss: 0.3204 - val_acc: 0.9431\n",
            "\n",
            "Epoch 00093: val_loss did not improve from 0.19611\n",
            "Epoch 94/100\n",
            " - 2s - loss: 0.0268 - acc: 0.9924 - val_loss: 0.4032 - val_acc: 0.9427\n",
            "\n",
            "Epoch 00094: val_loss did not improve from 0.19611\n",
            "Epoch 95/100\n",
            " - 2s - loss: 0.0224 - acc: 0.9941 - val_loss: 0.3730 - val_acc: 0.9499\n",
            "\n",
            "Epoch 00095: val_loss did not improve from 0.19611\n",
            "Epoch 96/100\n",
            " - 2s - loss: 0.0207 - acc: 0.9947 - val_loss: 0.3364 - val_acc: 0.9506\n",
            "\n",
            "Epoch 00096: val_loss did not improve from 0.19611\n",
            "Epoch 97/100\n",
            " - 2s - loss: 0.0232 - acc: 0.9946 - val_loss: 0.4999 - val_acc: 0.9283\n",
            "\n",
            "Epoch 00097: val_loss did not improve from 0.19611\n",
            "Epoch 98/100\n",
            " - 2s - loss: 0.0318 - acc: 0.9917 - val_loss: 0.2987 - val_acc: 0.9480\n",
            "\n",
            "Epoch 00098: val_loss did not improve from 0.19611\n",
            "Epoch 99/100\n",
            " - 2s - loss: 0.0280 - acc: 0.9936 - val_loss: 0.3924 - val_acc: 0.9481\n",
            "\n",
            "Epoch 00099: val_loss did not improve from 0.19611\n",
            "Epoch 100/100\n",
            " - 2s - loss: 0.0206 - acc: 0.9929 - val_loss: 0.2663 - val_acc: 0.9497\n",
            "\n",
            "Epoch 00100: val_loss did not improve from 0.19611\n"
          ],
          "name": "stdout"
        }
      ]
    },
    {
      "cell_type": "code",
      "metadata": {
        "id": "J3EEzdmuWfcS",
        "colab_type": "code",
        "colab": {}
      },
      "source": [
        "# Carrega pesos\n",
        "cnn.load_weights(\"weights.best.hdf5\")"
      ],
      "execution_count": 0,
      "outputs": []
    },
    {
      "cell_type": "code",
      "metadata": {
        "id": "0f9MuWuZ02tN",
        "colab_type": "code",
        "outputId": "9ad66cbe-f2f5-4ef5-e8de-42b25aa28f1b",
        "colab": {
          "base_uri": "https://localhost:8080/",
          "height": 54
        }
      },
      "source": [
        "# Avalia a acuracia\n",
        "# evaluate and print test accuracy\n",
        "score = cnn.evaluate(data_valid, tag_valid, verbose=0)\n",
        "print('\\n', 'Test accuracy:', score[1])"
      ],
      "execution_count": 0,
      "outputs": [
        {
          "output_type": "stream",
          "text": [
            "\n",
            " Test accuracy: 0.943571428503309\n"
          ],
          "name": "stdout"
        }
      ]
    },
    {
      "cell_type": "code",
      "metadata": {
        "id": "_W5NKdb-wt3r",
        "colab_type": "code",
        "colab": {}
      },
      "source": [
        "# Predição\n",
        "# get predictions on the test set\n",
        "y_hat = cnn.predict(data_valid)\n",
        "\n",
        "# define text labels\n",
        "digits_labels = ['0', '1', '2', '3', '4', '5', '6', '7', '8', '9']"
      ],
      "execution_count": 0,
      "outputs": []
    },
    {
      "cell_type": "code",
      "metadata": {
        "id": "oM7f8WchxgN6",
        "colab_type": "code",
        "outputId": "849008b9-86f5-45fa-be71-7b59ea9f11fe",
        "colab": {
          "base_uri": "https://localhost:8080/",
          "height": 485
        }
      },
      "source": [
        "# Exibe resultado\n",
        "fig = plt.figure(figsize=(20, 8))\n",
        "for i, idx in enumerate(np.random.choice(data_valid.shape[0], size=32, replace=False)):\n",
        "    ax = fig.add_subplot(4, 8, i + 1, xticks=[], yticks=[])\n",
        "    ax.imshow(np.squeeze(data_valid[idx]))\n",
        "    pred_idx = np.argmax(y_hat[idx])\n",
        "    true_idx = np.argmax(tag_valid[idx])\n",
        "    ax.set_title(\"{} ({})\".format(digits_labels[pred_idx], digits_labels[true_idx]),\n",
        "                 color=(\"green\" if pred_idx == true_idx else \"red\"))"
      ],
      "execution_count": 0,
      "outputs": [
        {
          "output_type": "display_data",
          "data": {
            "image/png": "[encoded data removed]",
            "text/plain": [
              "<Figure size 1440x576 with 32 Axes>"
            ]
          },
          "metadata": {
            "tags": []
          }
        }
      ]
    },
    {
      "cell_type": "code",
      "metadata": {
        "id": "oH_BWIo72WQs",
        "colab_type": "code",
        "outputId": "e4fe72d4-f7ca-4a93-ddb8-df79e6964afe",
        "colab": {
          "base_uri": "https://localhost:8080/",
          "height": 431
        }
      },
      "source": [
        "# Testes\n",
        "#img = cv.imread(\"reconhecimento-digitos/data/cvl-strings-train/train/135579-0001-10.png\", 0)\n",
        "#img = cv.imread(root + \"/\" + data_root + \"/\" + string_trains + \"/\" + \"135579-0041-10.png\", 0)\n",
        "img = cv.imread(root + \"/\" + data_root + \"/\" + string_trains + \"/\" + \"609251-0180-05.png\", 0)\n",
        "#img = cv.imread(root + \"/\" + data_root + \"/\" + string_trains + \"/\" + \"7062543-0081-01.png\", 0)\n",
        "copy = img.copy()\n",
        "# 200\n",
        "# 250\n",
        "#ret, pb = cv.threshold(img, 200, 255, cv.THRESH_BINARY)\n",
        "copy = cv.GaussianBlur(copy,(3,3),0)\n",
        "pb = convertBin(copy)\n",
        "#pb = cv.dilate(pb, cv.getStructuringElement(cv.MORPH_CROSS,(3,3)),iterations=1)\n",
        "\n",
        "#pb = cv.medianBlur(pb, 3)\n",
        "#pb = cv.GaussianBlur(pb, (3,3), 0)\n",
        "print(pb.shape)\n",
        "\n",
        "linha = pb.shape[0]\n",
        "coluna = pb.shape[1]\n",
        "\n",
        "print(pb[0][0])\n",
        "\n",
        "# armazena uma tupla com o inicio e fim do dígito\n",
        "posicoes = []\n",
        "pretosColuna = []\n",
        "\n",
        "inicioBool = False\n",
        "#fimBool = False\n",
        "xInicial = 0\n",
        "xFinal = 0\n",
        "countPreto = 0\n",
        "\n",
        "for x in range(coluna):\n",
        "  for y in range(linha):\n",
        "    if(pb[y][x] == 0):\n",
        "      #if (inicioBool == False):\n",
        "      #  inicioBool = True\n",
        "      #  xInicial = x;        \n",
        "      countPreto += 1\n",
        "  #if(countPreto == 0 and inicioBool == True):\n",
        "  #    xFinal = x\n",
        "  #    inicioBool = False\n",
        "  #    posicoes.append(((xInicial,5), (xFinal, pb.shape[0]-5)))\n",
        "  pretosColuna.append(countPreto)\n",
        "  countPreto = 0\n",
        "print(pretosColuna)\n",
        "\n",
        "for x in range(len(pretosColuna)):\n",
        "  if(pretosColuna[x] > 5):\n",
        "    if inicioBool == False:\n",
        "      inicioBool = True\n",
        "      xInicial = x\n",
        "  else:\n",
        "    if inicioBool == True:\n",
        "      xFinal = x\n",
        "      if (xFinal - xInicial)> 10:\n",
        "        inicioBool = False\n",
        "        posicoes.append(((xInicial,5), (xFinal, pb.shape[0]-5)))\n",
        "#posicoes = segmenta(pb)\n",
        "print(\"Dígitos identificados:\",len(posicoes))\n",
        "\n",
        "color = cv.cvtColor(img, cv.COLOR_GRAY2RGB)\n",
        "\n",
        "for limits in posicoes:\n",
        "  #cv.rectangle(img, limits[0],limits[1],(0,0,0),thickness=1)\n",
        "  cv.rectangle(color, limits[0],limits[1],(255,0,0),thickness=1)\n",
        "#col\n",
        "#plt.imshow(cv.cvtColor(img, cv.COLOR_GRAY2RGB))\n",
        "\n",
        "fig,axes = plt.subplots(3, 1, figsize=(15, 5))\n",
        "ax = axes.ravel()\n",
        "\n",
        "ax[0].imshow(cv.cvtColor(img, cv.COLOR_GRAY2RGB))\n",
        "ax[0].set_title(\"Imagem Original\")\n",
        "ax[0].set_axis_off()\n",
        "\n",
        "ax[1].imshow(cv.cvtColor(pb, cv.COLOR_GRAY2RGB))\n",
        "ax[1].set_title(\"Limiarização\")\n",
        "ax[1].set_axis_off()\n",
        "\n",
        "ax[2].imshow(color)\n",
        "ax[2].set_title(\"Imagem Saída\")\n",
        "ax[2].set_axis_off()\n",
        "\n",
        "cv.imwrite(root+\"img.png\", color)\n",
        "print(root+\"/\"+\"img.png\")\n",
        "#plt.imshow(color)\n",
        "plt.show()\n"
      ],
      "execution_count": 58,
      "outputs": [
        {
          "output_type": "stream",
          "text": [
            "(55, 276)\n",
            "255\n",
            "[6, 8, 15, 18, 22, 25, 30, 32, 32, 27, 23, 20, 18, 18, 18, 19, 18, 18, 18, 18, 17, 15, 15, 16, 14, 16, 16, 15, 15, 13, 10, 6, 6, 6, 7, 6, 10, 15, 15, 15, 17, 20, 18, 13, 11, 10, 9, 11, 10, 9, 9, 9, 8, 8, 8, 11, 11, 9, 11, 10, 14, 17, 19, 22, 19, 16, 14, 10, 1, 0, 0, 0, 0, 0, 0, 0, 0, 7, 11, 13, 16, 17, 18, 20, 20, 20, 16, 18, 19, 18, 16, 15, 15, 15, 15, 13, 15, 16, 17, 17, 18, 17, 20, 19, 19, 17, 15, 12, 17, 22, 32, 34, 32, 28, 25, 20, 9, 0, 0, 0, 0, 0, 0, 0, 0, 0, 0, 0, 0, 0, 0, 0, 0, 0, 0, 0, 0, 0, 0, 0, 0, 0, 0, 0, 0, 0, 0, 0, 0, 0, 0, 0, 0, 0, 0, 0, 0, 0, 0, 0, 0, 0, 0, 0, 0, 0, 0, 0, 0, 0, 3, 3, 4, 5, 5, 7, 6, 7, 6, 6, 12, 23, 27, 32, 35, 39, 46, 41, 34, 28, 23, 20, 16, 9, 6, 6, 6, 6, 6, 6, 6, 6, 5, 6, 5, 4, 2, 0, 0, 0, 0, 0, 0, 0, 8, 12, 15, 19, 21, 23, 22, 20, 18, 19, 19, 18, 17, 19, 19, 18, 20, 20, 22, 23, 23, 21, 19, 20, 19, 12, 11, 7, 7, 7, 8, 7, 8, 8, 9, 10, 10, 10, 9, 9, 10, 10, 9, 9, 9, 9, 9, 9, 9, 9, 10, 11, 33, 42, 46, 48, 50, 51, 31, 20, 15, 7]\n",
            "Dígitos identificados: 3\n",
            "reconhecimento-digitos/img.png\n"
          ],
          "name": "stdout"
        },
        {
          "output_type": "display_data",
          "data": {
            "image/png": "[encoded data removed]",
            "text/plain": [
              "<Figure size 1080x360 with 3 Axes>"
            ]
          },
          "metadata": {
            "tags": []
          }
        }
      ]
    },
    {
      "cell_type": "code",
      "metadata": {
        "colab_type": "code",
        "outputId": "06e091f4-9a8b-410a-bda0-2aeb8f4423e9",
        "id": "HKDNbBVazNwk",
        "colab": {
          "base_uri": "https://localhost:8080/",
          "height": 246
        }
      },
      "source": [
        "import imutils\n",
        "img2 = cv.imread(root + \"/\" + data_root + \"/\" + string_trains + \"/\" + \"135579-0041-10.png\", 0)\n",
        "#pb2 = convertBin(img2)\n",
        "\n",
        "# threshold the image\n",
        "ret,pb2 = cv.threshold(img2 ,127,255,cv.THRESH_BINARY_INV)\n",
        "\n",
        "# dilate the white portions\n",
        "pb = cv.dilate(pb, None, iterations=1)\n",
        "\n",
        "cnts = cv.findContours(pb2,cv.RETR_EXTERNAL, cv.CHAIN_APPROX_SIMPLE)\n",
        "\n",
        "#avgCntArea = np.mean([cv.contourArea(k) for k in cnts])\n",
        "cntList = []\n",
        "for cnt in cnts:\n",
        "  print(cnt)\n",
        "  cntList.append(cnt)\n",
        "avgCntArea = np.mean(cntList)\n",
        "\n",
        "digits = []\n",
        "boxes = []\n",
        "\n",
        "for (i,c) in enumerate(cnts):\n",
        "  if cv2.contourArea(c)<avgCntArea/10:\n",
        "      continue\n",
        "  mask = np.zeros(gray.shape,dtype=\"uint8\")\n",
        "  (x,y,w,h) = cv2.boundingRect(c)\n",
        "  hull = cv2.convexHull(c)\n",
        "  cv2.drawContours(mask,[hull],-1,255,-1)\n",
        "  mask = cv2.bitwise_and(thresh,thresh,mask=mask)\n",
        "  digit = mask[y-8:y+h+8,x-8:x+w+8]\n",
        "  digit = cv2.resize(digit,(28,28))\n",
        "  boxes.append((x,y,w,h))\n",
        "  digits.append(digit)\n",
        "print([i for i in range(5)])\n",
        "\"\"\"\n",
        "cnts = cnts[0] if imutils.is_cv2() else cnts[1]\n",
        "\n",
        "orig = img2.copy()\n",
        "i = 0\n",
        "\n",
        "for cnt in cnts:\n",
        "  # Check the area of contour, if it is very small ignore it\n",
        "  #if(cv.contourArea(cnt) < 100):\n",
        "      #continue\n",
        "\n",
        "  # Filtered countours are detected\n",
        "  x,y,w,h = cv.boundingRect(cnt)\n",
        "\n",
        "  # Taking ROI of the cotour\n",
        "  roi = img2[y:y+h, x:x+w]\n",
        "\n",
        "  # Mark them on the image if you want\n",
        "  cv.rectangle(orig,(x,y),(x+w,y+h),(0,255,0),2)\n",
        "\"\"\"\n",
        "fig, axes = plt.subplots(1, 2, figsize=(15, 8))\n",
        "ax = axes.ravel()\n",
        "\n",
        "ax[0].imshow(cv.cvtColor(img2, cv.COLOR_GRAY2RGB))\n",
        "ax[0].set_title('Original')\n",
        "ax[0].set_axis_off()\n",
        "\n",
        "ax[1].imshow(orig)\n",
        "ax[1].set_title('Saída')\n",
        "ax[1].set_axis_off()\n"
      ],
      "execution_count": 7,
      "outputs": [
        {
          "output_type": "error",
          "ename": "NameError",
          "evalue": "ignored",
          "traceback": [
            "\u001b[0;31m---------------------------------------------------------------------------\u001b[0m",
            "\u001b[0;31mNameError\u001b[0m                                 Traceback (most recent call last)",
            "\u001b[0;32m<ipython-input-7-b91e37a16ec2>\u001b[0m in \u001b[0;36m<module>\u001b[0;34m()\u001b[0m\n\u001b[1;32m      7\u001b[0m \u001b[0;34m\u001b[0m\u001b[0m\n\u001b[1;32m      8\u001b[0m \u001b[0;31m# dilate the white portions\u001b[0m\u001b[0;34m\u001b[0m\u001b[0;34m\u001b[0m\u001b[0;34m\u001b[0m\u001b[0m\n\u001b[0;32m----> 9\u001b[0;31m \u001b[0mpb\u001b[0m \u001b[0;34m=\u001b[0m \u001b[0mcv\u001b[0m\u001b[0;34m.\u001b[0m\u001b[0mdilate\u001b[0m\u001b[0;34m(\u001b[0m\u001b[0mpb\u001b[0m\u001b[0;34m,\u001b[0m \u001b[0;32mNone\u001b[0m\u001b[0;34m,\u001b[0m \u001b[0miterations\u001b[0m\u001b[0;34m=\u001b[0m\u001b[0;36m1\u001b[0m\u001b[0;34m)\u001b[0m\u001b[0;34m\u001b[0m\u001b[0;34m\u001b[0m\u001b[0m\n\u001b[0m\u001b[1;32m     10\u001b[0m \u001b[0;34m\u001b[0m\u001b[0m\n\u001b[1;32m     11\u001b[0m \u001b[0mcnts\u001b[0m \u001b[0;34m=\u001b[0m \u001b[0mcv\u001b[0m\u001b[0;34m.\u001b[0m\u001b[0mfindContours\u001b[0m\u001b[0;34m(\u001b[0m\u001b[0mpb2\u001b[0m\u001b[0;34m,\u001b[0m\u001b[0mcv\u001b[0m\u001b[0;34m.\u001b[0m\u001b[0mRETR_EXTERNAL\u001b[0m\u001b[0;34m,\u001b[0m \u001b[0mcv\u001b[0m\u001b[0;34m.\u001b[0m\u001b[0mCHAIN_APPROX_SIMPLE\u001b[0m\u001b[0;34m)\u001b[0m\u001b[0;34m\u001b[0m\u001b[0;34m\u001b[0m\u001b[0m\n",
            "\u001b[0;31mNameError\u001b[0m: name 'pb' is not defined"
          ]
        }
      ]
    },
    {
      "cell_type": "code",
      "metadata": {
        "id": "CUDCVmVzzRFH",
        "colab_type": "code",
        "colab": {
          "base_uri": "https://localhost:8080/",
          "height": 126
        },
        "outputId": "3fc7381e-b268-4308-ac9d-4291df8b4a12"
      },
      "source": [
        "import imutils\n",
        "# Canny\n",
        "#img3 = cv.imread(root + \"/\" + data_root + \"/\" + string_trains + \"/\" + \"135579-0041-10.png\", 0)\n",
        "img3 = cv.imread(root + \"/\" + data_root + \"/\" + string_trains + \"/\" + \"609251-0180-05.png\", 0)\n",
        "#edges = cv.Canny(img3, 254,255)\n",
        "pb = convertBin(img3)\n",
        "for x in range(pb.shape[0]):\n",
        "  for y in range(pb.shape[1]):\n",
        "    if(pb[x][y] == 255):\n",
        "      pb[x][y] = 0\n",
        "    else:\n",
        "      pb[x][y] = 255\n",
        "cnts = cv.findContours(img3,cv.RETR_EXTERNAL, cv.CHAIN_APPROX_SIMPLE)\n",
        "cnts = cnts[0] if imutils.is_cv2() else cnts[1]\n",
        "print(pb[0][0])\n",
        "orig = img3.copy()\n",
        "i = 0\n",
        "\n",
        "for cnt in cnts:\n",
        "  # Check the area of contour, if it is very small ignore it\n",
        "  #if(cv.contourArea(cnt) < 25):\n",
        "  #   continue\n",
        "\n",
        "  # Filtered countours are detected\n",
        "  x,y,w,h = cv.boundingRect(cnt)\n",
        "\n",
        "  # Taking ROI of the cotour\n",
        "  roi = img3[y:y+h, x:x+w]\n",
        "\n",
        "  # Mark them on the image if you want\n",
        "  cv.rectangle(orig,(x,y),(x+w,y+h),(0,255,0),2)\n",
        "\n",
        "fig, axes = plt.subplots(1, 2, figsize=(12, 8))\n",
        "ax = axes.ravel()\n",
        "\n",
        "ax[0].imshow(img3, cmap='gray')\n",
        "ax[0].set_title('Original')\n",
        "ax[0].set_axis_off()\n",
        "\n",
        "ax[1].imshow(orig, cmap='gray')\n",
        "ax[1].set_title('Canny')\n",
        "ax[1].set_axis_off()"
      ],
      "execution_count": 27,
      "outputs": [
        {
          "output_type": "stream",
          "text": [
            "0\n"
          ],
          "name": "stdout"
        },
        {
          "output_type": "display_data",
          "data": {
            "image/png": "[encoded data removed]",
            "text/plain": [
              "<Figure size 864x576 with 2 Axes>"
            ]
          },
          "metadata": {
            "tags": []
          }
        }
      ]
    },
    {
      "cell_type": "code",
      "metadata": {
        "id": "-XPR61EX644b",
        "colab_type": "code",
        "outputId": "760cd576-0134-4457-9adc-33058ff1b7ef",
        "colab": {
          "base_uri": "https://localhost:8080/",
          "height": 54
        }
      },
      "source": [
        "#!cd reconhecimento-digitos/ && git status\n",
        "#%cd reconhecimento-digitos/\n",
        "#%cd data/\n",
        "#%cd ..\n",
        "!ls\n",
        "files.download(\"weights.best.hdf5\")"
      ],
      "execution_count": 0,
      "outputs": [
        {
          "output_type": "stream",
          "text": [
            "reconhecimento-digitos\t       sample_data\n",
            "reconhecimento-digitosimg.png  weights.best.hdf5\n"
          ],
          "name": "stdout"
        }
      ]
    },
    {
      "cell_type": "code",
      "metadata": {
        "id": "8RiRoOYY0BrV",
        "colab_type": "code",
        "colab": {}
      },
      "source": [
        "# Salva dados no pc\n",
        "from google.colab import files\n",
        "\n",
        "files.download(\"weights.best.hdf5\")"
      ],
      "execution_count": 0,
      "outputs": []
    },
    {
      "cell_type": "code",
      "metadata": {
        "id": "-l9hBlh7BWcP",
        "colab_type": "code",
        "colab": {
          "base_uri": "https://localhost:8080/",
          "height": 35
        },
        "outputId": "e1df49b8-f7b5-4cd2-e578-92ce3b062263"
      },
      "source": [
        "teste = \"123456-7890-23.png\"\n",
        "print(type(teste.split(\"-\",1)[0]))"
      ],
      "execution_count": 36,
      "outputs": [
        {
          "output_type": "stream",
          "text": [
            "<class 'str'>\n"
          ],
          "name": "stdout"
        }
      ]
    }
  ]
}