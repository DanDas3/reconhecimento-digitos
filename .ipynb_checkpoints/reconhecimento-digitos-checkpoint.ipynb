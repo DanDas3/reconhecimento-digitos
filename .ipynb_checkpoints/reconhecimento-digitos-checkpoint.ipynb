{
  "nbformat": 4,
  "nbformat_minor": 0,
  "metadata": {
    "kernelspec": {
      "display_name": "Python 3",
      "language": "python",
      "name": "python3"
    },
    "language_info": {
      "codemirror_mode": {
        "name": "ipython",
        "version": 3
      },
      "file_extension": ".py",
      "mimetype": "text/x-python",
      "name": "python",
      "nbconvert_exporter": "python",
      "pygments_lexer": "ipython3",
      "version": "3.7.3"
    },
    "colab": {
      "name": "reconhecimento-digitos-checkpoint.ipynb",
      "provenance": []
    }
  },
  "cells": [
    {
      "cell_type": "code",
      "metadata": {
        "id": "FE0yA88c2WO9",
        "colab_type": "code",
        "outputId": "ec2705fb-b4a4-4be2-e2c3-aa9c555f7870",
        "colab": {
          "base_uri": "https://localhost:8080/",
          "height": 35
        }
      },
      "source": [
        "!git clone https://github.com/DanDas3/reconhecimento-digitos.git"
      ],
      "execution_count": 4,
      "outputs": [
        {
          "output_type": "stream",
          "text": [
            "fatal: destination path 'reconhecimento-digitos' already exists and is not an empty directory.\n"
          ],
          "name": "stdout"
        }
      ]
    },
    {
      "cell_type": "code",
      "metadata": {
        "id": "bjxq-ly52WPq",
        "colab_type": "code",
        "colab": {}
      },
      "source": [
        "#coding: utf-8\n",
        "import cv2 as cv\n",
        "import numpy as np\n",
        "from matplotlib import pyplot as plt"
      ],
      "execution_count": 0,
      "outputs": []
    },
    {
      "cell_type": "code",
      "metadata": {
        "id": "Y32cpxgy2WQM",
        "colab_type": "code",
        "colab": {}
      },
      "source": [
        "# Funções"
      ],
      "execution_count": 0,
      "outputs": []
    },
    {
      "cell_type": "code",
      "metadata": {
        "id": "oH_BWIo72WQs",
        "colab_type": "code",
        "outputId": "bdc986f4-3364-4119-97e8-ba6709ab8909",
        "colab": {
          "base_uri": "https://localhost:8080/",
          "height": 184
        }
      },
      "source": [
        "# Execução\n",
        "img = cv.imread(\"reconhecimento-digitos/data/cvl-strings-train/train/135579-0001-10.png\", 0)\n",
        "\n",
        "ret, pb = cv.threshold(img, 200, 255, cv.THRESH_BINARY)\n",
        "\n",
        "#pb = cv.dilate(pb, cv.getStructuringElement(cv.MORPH_ELLIPSE,(3,3)))\n",
        "\n",
        "print(pb.shape)\n",
        "\n",
        "linha = pb.shape[0]\n",
        "coluna = pb.shape[1]\n",
        "\n",
        "print(pb[0][0])\n",
        "\n",
        "# armazena uma tupla com o inicio e fim do dígito\n",
        "posicoes = []\n",
        "\n",
        "inicioBool = False\n",
        "#fimBool = False\n",
        "xInicial = 0\n",
        "xFinal = 0\n",
        "countPreto = 0\n",
        "\n",
        "for x in range(coluna):\n",
        "  for y in range(linha):\n",
        "    if(pb[y][x] == 0):\n",
        "      if (inicioBool == False):\n",
        "        inicioBool = True\n",
        "        xInicial = x;\n",
        "      \n",
        "      countPreto += 1\n",
        "    if(countPreto == 0 and inicioBool == True):\n",
        "      xFinal = x\n",
        "      inicioBool = False\n",
        "      posicoes.append((xInicial, xFinal))\n",
        "  countPreto = 0\n",
        "print(len(posicoes))\n",
        "\n",
        "for limits in posicoes:\n",
        "  cv.rectangle()\n",
        "\n",
        "plt.imshow(cv.cvtColor(img, cv.COLOR_GRAY2RGB))\n",
        "plt.show()\n"
      ],
      "execution_count": 12,
      "outputs": [
        {
          "output_type": "stream",
          "text": [
            "(75, 324)\n",
            "255\n",
            "225\n"
          ],
          "name": "stdout"
        },
        {
          "output_type": "display_data",
          "data": {
            "image/png": "[encoded data removed]",
            "text/plain": [
              "<Figure size 432x288 with 1 Axes>"
            ]
          },
          "metadata": {
            "tags": []
          }
        }
      ]
    },
    {
      "cell_type": "code",
      "metadata": {
        "id": "W9Ad8kx52WRC",
        "colab_type": "code",
        "colab": {}
      },
      "source": [
        ""
      ],
      "execution_count": 0,
      "outputs": []
    }
  ]
}